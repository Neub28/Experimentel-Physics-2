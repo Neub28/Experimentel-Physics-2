{
 "cells": [
  {
   "cell_type": "code",
   "execution_count": 1,
   "id": "b0b681c8",
   "metadata": {},
   "outputs": [],
   "source": [
    "import os\n",
    "import numpy as np\n",
    "import matplotlib.pyplot as plt\n",
    "from scipy.optimize import curve_fit\n",
    "import scipy.stats as stats\n",
    "import scipy.io as io\n",
    "from scipy.signal import savgol_filter\n",
    "\n",
    "\n",
    "plt.rc(\"font\", family=[\"Helvetica\", \"Arial\"]) #skifter skrifttype\n",
    "plt.rc(\"axes\", labelsize=18)   #skriftstørrelse af `xlabel` og `ylabel`\n",
    "plt.rc(\"xtick\", labelsize=16, direction=\"out\")  #skriftstørrelse af ticks og viser ticks øverst\n",
    "plt.rc(\"ytick\", labelsize=16, direction=\"out\")\n",
    "plt.rc(\"axes\", titlesize=22)\n",
    "plt.rc(\"legend\", fontsize=16)"
   ]
  },
  {
   "cell_type": "code",
   "execution_count": 2,
   "id": "3e82cb72",
   "metadata": {},
   "outputs": [],
   "source": [
    "entries_list = os.listdir(\"/Users/Karsten/Eksperimental/Experimentel-Physics-2/Michelson-interferometer/Karsten/Datafiler\")\n",
    "\n",
    "\n",
    "def get_ts_Vs(entries):\n",
    "    ts = []\n",
    "    Vas = []\n",
    "    Vbs = []\n",
    "    for entry in entries:\n",
    "        data = io.loadmat(f\"/Users/Karsten/Eksperimental/Experimentel-Physics-2/Michelson-interferometer/Karsten/Datafiler/{entry}\")\n",
    "        Vb = np.transpose(data.get(\"B\"))[0]\n",
    "        Va = np.transpose(data.get(\"A\"))[0]\n",
    "        t = np.linspace(0,100, len(Vb))\n",
    "        Vas.append(Va)\n",
    "        Vbs.append(Vb)\n",
    "        ts.append(t)\n",
    "    return ts, Vas, Vbs\n",
    "\n",
    "def fit_val(x, a, b):\n",
    "    f = a*x + b\n",
    "    return f"
   ]
  },
  {
   "cell_type": "code",
   "execution_count": 3,
   "id": "3b88b3a6",
   "metadata": {},
   "outputs": [
    {
     "name": "stdout",
     "output_type": "stream",
     "text": [
      "[7.140133  7.140133  7.140133  ... 2.2637794 2.2637794 2.2637794]\n"
     ]
    }
   ],
   "source": [
    "ts, Vas, Vbs = get_ts_Vs(entries_list)"
   ]
  },
  {
   "cell_type": "code",
   "execution_count": 4,
   "id": "db0ecc2b",
   "metadata": {},
   "outputs": [],
   "source": [
    "V_filter = []\n",
    "for i, Vb in enumerate(Vbs[0]):\n",
    "    if i == 0:\n",
    "        V_curr = Vb\n",
    "    else:\n",
    "        if len(V_filter) > 0:\n",
    "            if Vb != V_filter[-1]:\n",
    "                V_filter.append(Vb)\n",
    "        else:\n",
    "            if V_curr != Vb:\n",
    "                V_filter.append(Vb)"
   ]
  },
  {
   "cell_type": "code",
   "execution_count": 7,
   "id": "a85a16a2",
   "metadata": {},
   "outputs": [
    {
     "name": "stdout",
     "output_type": "stream",
     "text": [
      "961539\n",
      "86464\n"
     ]
    }
   ],
   "source": [
    "print(len(Vbs[0]))\n",
    "print(len(V_filter))"
   ]
  },
  {
   "cell_type": "code",
   "execution_count": null,
   "id": "38407e54",
   "metadata": {},
   "outputs": [],
   "source": [
    "fig, ax = plt.subplots(figsize=(8,6))\n",
    "ax.set_title(\"plot\")\n",
    "ax.set_xlabel(\"t\")\n",
    "ax.set_ylabel(r\"$V_A$\")\n",
    "\n",
    "ax.plot(ts, Vbs)\n",
    "\n",
    "#ax.plot(ts[0:2000], Vb_diff[0:2000], 'o')\n",
    "\n",
    "ax.grid()"
   ]
  },
  {
   "cell_type": "code",
   "execution_count": null,
   "id": "967729ee",
   "metadata": {},
   "outputs": [],
   "source": [
    "else:\n",
    "        if len(forward_tracks) > 0:\n",
    "            if (Vd - forward_tracks[-1])/0.000104 > 0:\n",
    "                forward_tracks.append(Vd)\n",
    "                one_fscan.append(Vas[0][i])\n",
    "                forward_ts.append(ts[0][i])\n",
    "            if (Vd - forward_tracks[-1])/0.000104 < 0:\n",
    "                backward_tracks.append(Vd)\n",
    "                backward_ts.append(ts[0][i])\n",
    "        if len(forward_tracks) == 0:\n",
    "            if (Vd - curr_Vbf)/0.000104 > 0:\n",
    "                forward_tracks.append(Vd)\n",
    "                one_fscan.append(Vas[0][i])\n",
    "                forward_ts.append(ts[0][i])\n",
    "                curr_Vbf = Vd\n",
    "                \n",
    "        if len(backward_tracks) > 0:\n",
    "            if (Vd - backward_tracks[-1])/0.000104 < 0:\n",
    "                backward_tracks.append(Vd)\n",
    "                backward_ts.append(ts[0][i])\n",
    "                \n",
    "        if len(backward_tracks) == 0:\n",
    "            if (Vd - curr_Vbb)/0.000104 < 0:\n",
    "                backward_tracks.append(Vd)\n",
    "                backward_ts.append(ts[0][i])\n",
    "                curr_Vbb = Vd"
   ]
  }
 ],
 "metadata": {
  "kernelspec": {
   "display_name": "Python 3",
   "language": "python",
   "name": "python3"
  },
  "language_info": {
   "codemirror_mode": {
    "name": "ipython",
    "version": 3
   },
   "file_extension": ".py",
   "mimetype": "text/x-python",
   "name": "python",
   "nbconvert_exporter": "python",
   "pygments_lexer": "ipython3",
   "version": "3.8.8"
  }
 },
 "nbformat": 4,
 "nbformat_minor": 5
}
