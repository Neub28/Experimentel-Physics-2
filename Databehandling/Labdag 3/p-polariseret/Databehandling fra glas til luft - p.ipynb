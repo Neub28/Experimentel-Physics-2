{
 "cells": [
  {
   "cell_type": "code",
<<<<<<< HEAD
   "execution_count": 102,
   "id": "313fc15e",
=======
   "execution_count": 2,
   "id": "a9852777",
>>>>>>> b5d0c2924fa1947f6771cd2b5e175bce1123b7fa
   "metadata": {},
   "outputs": [],
   "source": [
    "import os\n",
    "import numpy as np\n",
    "import matplotlib.pyplot as plt\n",
    "from scipy.optimize import curve_fit\n",
    "import scipy.stats as stats\n",
    "import scipy.io as io\n",
    "\n",
    "plt.rc(\"font\", family=[\"Helvetica\", \"Arial\"]) #skifter skrifttype\n",
    "plt.rc(\"axes\", labelsize=18)   #skriftstørrelse af `xlabel` og `ylabel`\n",
    "plt.rc(\"xtick\", labelsize=16, direction=\"out\")  #skriftstørrelse af ticks og viser ticks øverst\n",
    "plt.rc(\"ytick\", labelsize=16, direction=\"out\")\n",
    "plt.rc(\"axes\", titlesize=22)\n",
    "plt.rc(\"legend\", fontsize=16)"
   ]
  },
  {
   "cell_type": "code",
<<<<<<< HEAD
   "execution_count": 103,
   "id": "eabe805e",
=======
   "execution_count": 3,
   "id": "e2320467",
>>>>>>> b5d0c2924fa1947f6771cd2b5e175bce1123b7fa
   "metadata": {},
   "outputs": [],
   "source": [
    "entries_list_pT = os.listdir(r\"C:\\Users\\Karsten\\eksperimental\\Experimentel-Physics-2\\Tredje labdag\\Glas til luft\\p\\Datafiler\\transmitteret\")\n",
    "entries_list_pR = os.listdir(r\"C:\\Users\\Karsten\\eksperimental\\Experimentel-Physics-2\\Tredje labdag\\Glas til luft\\p\\Datafiler\\reflekteret\")\n",
    "\n",
    "d = io.loadmat(r\"C:\\Users\\Karsten\\eksperimental\\Experimentel-Physics-2\\Tredje labdag\\baggrund måling.mat\")\n",
    "d_offset = d.get(\"A\")\n",
    "d_offset = np.reshape(d_offset, (len(d_offset)))\n",
    "\n",
    "# Konstant funktion\n",
    "def func(x, a):\n",
    "    return a\n",
    "\n",
    "# Fit af kontakt funktion til gennemsnit\n",
    "t = np.linspace(0, 50, len(d_offset))\n",
    "mean_Voff, pcovoff = curve_fit(func, t, d_offset, absolute_sigma=True)\n",
    "usOff = np.sqrt(np.diag(pcovoff))\n",
    "\n",
    "# Henter data fra 90 grader \n",
    "d = io.loadmat(r\"C:\\Users\\Karsten\\eksperimental\\Experimentel-Physics-2\\Tredje labdag\\Glas til luft\\p - 90 grader med krystal.mat\")\n",
    "d90 = d.get(\"A\")\n",
    "d90 = np.reshape(d90, (len(d90)))\n",
    "\n",
    "# Fit af kontakt funktion til 90 grader\n",
    "t = np.linspace(0, 50, len(d90))\n",
    "mean_V90, pcov90 = curve_fit(func, t, d90, absolute_sigma=True)\n",
    "us90 = np.sqrt(np.diag(pcov90))\n",
    "mean_V90 = mean_V90 - mean_Voff\n",
    "\n"
   ]
  },
  {
   "cell_type": "code",
<<<<<<< HEAD
   "execution_count": 104,
   "id": "71054525",
=======
   "execution_count": 11,
   "id": "c79fea01",
>>>>>>> b5d0c2924fa1947f6771cd2b5e175bce1123b7fa
   "metadata": {},
   "outputs": [],
   "source": [
    "# Funktion som henter intensiteterne \n",
    "\n",
    "def get_ts_Vs(t, entries):\n",
    "    if t == \"T\":\n",
    "        rempart = \"t(\"\n",
    "        file_dest = \"transmitteret\"\n",
    "    else:\n",
    "        rempart = \"r(\"\n",
    "        file_dest = \"reflekteret\"\n",
    "        \n",
    "    ts = np.zeros((len(entries), 2))\n",
    "    Vs = np.zeros((len(entries),2))\n",
    "    for i, file in enumerate(entries):\n",
    "        name = file.replace(rempart, \"\")\n",
    "        name = name.replace(\".mat\", \"\")\n",
    "        name = name.replace(\")\", \"\")\n",
    "        indx = name.find(\",\")\n",
    "        ts12 = float(name[0:indx])*np.pi/180, float(name[indx + 1:len(name)])*np.pi/180\n",
    "        ts[i] = ts12\n",
    "        \n",
    "    for i, file in enumerate(entries):\n",
    "        dat = io.loadmat(f\"C:/Users/Karsten/eksperimental/Experimentel-Physics-2/Tredje labdag/Glas til luft/p/Datafiler/{file_dest}/{file}\")\n",
    "        V = dat.get(\"A\")\n",
    "        V = np.reshape(V, (len(V)))\n",
    "        xs = np.linspace(0, 50, len(V))\n",
    "        fitted, pcov = curve_fit(func, xs, V, absolute_sigma=True)\n",
    "        perr1 = np.sqrt(np.diag(pcov))\n",
    "        Vs[i][0] = fitted - mean_Voff\n",
    "        Vs[i][1] = perr1\n",
    "        \n",
    "    return Vs, ts"
   ]
  },
  {
   "cell_type": "code",
<<<<<<< HEAD
   "execution_count": 105,
   "id": "c7c413f8",
=======
   "execution_count": 12,
   "id": "b2e51786",
>>>>>>> b5d0c2924fa1947f6771cd2b5e175bce1123b7fa
   "metadata": {},
   "outputs": [],
   "source": [
    "# Henter thetaer og intensiteter\n",
    "\n",
    "mean_VsT, ts_trans = get_ts_Vs(\"T\", entries_list_pT)\n",
    "mean_VsR, ts_ref = get_ts_Vs(\"R\", entries_list_pR)\n"
   ]
  },
  {
   "cell_type": "code",
<<<<<<< HEAD
   "execution_count": 112,
   "id": "dbbcee9c",
=======
   "execution_count": 13,
   "id": "808f5bcf",
>>>>>>> b5d0c2924fa1947f6771cd2b5e175bce1123b7fa
   "metadata": {},
   "outputs": [],
   "source": [
    "# Finder Rp og Tp\n",
    "\n",
    "Ts = mean_VsT/mean_V90\n",
    "Rs = mean_VsR/mean_V90\n",
    "\n",
    "uncer_Ts = []\n",
    "uncer_Rs = []\n",
    "\n",
    "for i in range(len(Ts)) : \n",
    "    uncer_Ts.append(Ts[i][1])\n",
    "for i in range(len(Rs)) : \n",
    "    uncer_Rs.append(Rs[i][1])\n"
   ]
  },
  {
   "cell_type": "code",
<<<<<<< HEAD
   "execution_count": 154,
   "id": "572b879e",
=======
   "execution_count": 14,
   "id": "06e6539c",
>>>>>>> b5d0c2924fa1947f6771cd2b5e175bce1123b7fa
   "metadata": {},
   "outputs": [
    {
     "name": "stdout",
     "output_type": "stream",
     "text": [
      "0.008726646259971648\n"
     ]
    }
   ],
   "source": [
    "uncer = 0.5 # DEGREES\n",
    "sigma_radian = np.pi/180 * uncer\n",
    "print(sigma_radian)\n"
   ]
  },
  {
   "cell_type": "code",
<<<<<<< HEAD
   "execution_count": 162,
   "id": "42198957",
=======
   "execution_count": 15,
   "id": "81823174",
>>>>>>> b5d0c2924fa1947f6771cd2b5e175bce1123b7fa
   "metadata": {},
   "outputs": [
    {
     "name": "stdout",
     "output_type": "stream",
     "text": [
      "[0.17453293 0.26179939 0.29670597 0.34906585 0.38397244 0.43633231\n",
      " 0.4712389  0.50614548 0.54105207 0.57595865 0.61086524 0.64577182\n",
      " 0.68067841 0.71558499]\n"
     ]
    },
    {
     "ename": "KeyError",
     "evalue": "'g'",
     "output_type": "error",
     "traceback": [
      "\u001b[1;31m---------------------------------------------------------------------------\u001b[0m",
      "\u001b[1;31mKeyError\u001b[0m                                  Traceback (most recent call last)",
      "\u001b[1;32m<ipython-input-162-d6417a4030bf>\u001b[0m in \u001b[0;36m<module>\u001b[1;34m\u001b[0m\n\u001b[0;32m     41\u001b[0m \u001b[0mn\u001b[0m \u001b[1;33m=\u001b[0m \u001b[0mnp\u001b[0m\u001b[1;33m.\u001b[0m\u001b[0mround\u001b[0m\u001b[1;33m(\u001b[0m\u001b[0mnT\u001b[0m\u001b[1;33m,\u001b[0m \u001b[1;36m2\u001b[0m\u001b[1;33m)\u001b[0m\u001b[1;33m\u001b[0m\u001b[1;33m\u001b[0m\u001b[0m\n\u001b[0;32m     42\u001b[0m \u001b[0muncer\u001b[0m \u001b[1;33m=\u001b[0m \u001b[0mnp\u001b[0m\u001b[1;33m.\u001b[0m\u001b[0mround\u001b[0m\u001b[1;33m(\u001b[0m\u001b[0mnp\u001b[0m\u001b[1;33m.\u001b[0m\u001b[0msqrt\u001b[0m\u001b[1;33m(\u001b[0m\u001b[0mnp\u001b[0m\u001b[1;33m.\u001b[0m\u001b[0mdiag\u001b[0m\u001b[1;33m(\u001b[0m\u001b[0mpcovT\u001b[0m\u001b[1;33m)\u001b[0m\u001b[1;33m)\u001b[0m\u001b[1;33m,\u001b[0m \u001b[1;36m1\u001b[0m\u001b[1;33m)\u001b[0m\u001b[1;33m\u001b[0m\u001b[1;33m\u001b[0m\u001b[0m\n\u001b[1;32m---> 43\u001b[1;33m \u001b[0maxs\u001b[0m\u001b[1;33m[\u001b[0m\u001b[1;36m0\u001b[0m\u001b[1;33m]\u001b[0m\u001b[1;33m.\u001b[0m\u001b[0mplot\u001b[0m\u001b[1;33m(\u001b[0m\u001b[0mtheta_T\u001b[0m\u001b[1;33m,\u001b[0m \u001b[0msnell\u001b[0m\u001b[1;33m(\u001b[0m\u001b[0mtheta_T\u001b[0m\u001b[1;33m,\u001b[0m \u001b[0mnT\u001b[0m\u001b[1;33m)\u001b[0m\u001b[1;33m,\u001b[0m \u001b[0mc\u001b[0m\u001b[1;33m=\u001b[0m\u001b[1;34m'k'\u001b[0m\u001b[1;33m,\u001b[0m \u001b[0mls\u001b[0m\u001b[1;33m=\u001b[0m\u001b[1;34m\"--\"\u001b[0m\u001b[1;33m,\u001b[0m \u001b[0mlabel\u001b[0m\u001b[1;33m=\u001b[0m\u001b[1;34mr\"Fit: $n_{g}={} \\pm {}$\"\u001b[0m\u001b[1;33m.\u001b[0m\u001b[0mformat\u001b[0m\u001b[1;33m(\u001b[0m\u001b[0mn\u001b[0m\u001b[1;33m[\u001b[0m\u001b[1;36m0\u001b[0m\u001b[1;33m]\u001b[0m\u001b[1;33m,\u001b[0m \u001b[0muncer\u001b[0m\u001b[1;33m[\u001b[0m\u001b[1;36m0\u001b[0m\u001b[1;33m]\u001b[0m\u001b[1;33m)\u001b[0m\u001b[1;33m,\u001b[0m \u001b[0mlw\u001b[0m\u001b[1;33m=\u001b[0m\u001b[1;36m2\u001b[0m\u001b[1;33m)\u001b[0m\u001b[1;33m\u001b[0m\u001b[1;33m\u001b[0m\u001b[0m\n\u001b[0m\u001b[0;32m     44\u001b[0m \u001b[0maxs\u001b[0m\u001b[1;33m[\u001b[0m\u001b[1;36m1\u001b[0m\u001b[1;33m]\u001b[0m\u001b[1;33m.\u001b[0m\u001b[0mplot\u001b[0m\u001b[1;33m(\u001b[0m\u001b[0mtheta_R\u001b[0m\u001b[1;33m,\u001b[0m \u001b[0msnell\u001b[0m\u001b[1;33m(\u001b[0m\u001b[0mtheta_R\u001b[0m\u001b[1;33m,\u001b[0m \u001b[0mnR\u001b[0m\u001b[1;33m)\u001b[0m\u001b[1;33m,\u001b[0m \u001b[0mc\u001b[0m\u001b[1;33m=\u001b[0m\u001b[1;34m'k'\u001b[0m\u001b[1;33m,\u001b[0m \u001b[0mls\u001b[0m\u001b[1;33m=\u001b[0m\u001b[1;34m\"--\"\u001b[0m\u001b[1;33m,\u001b[0m \u001b[0mlabel\u001b[0m\u001b[1;33m=\u001b[0m\u001b[1;34m\"Fit\"\u001b[0m\u001b[1;33m,\u001b[0m \u001b[0mlw\u001b[0m\u001b[1;33m=\u001b[0m\u001b[1;36m2\u001b[0m\u001b[1;33m)\u001b[0m\u001b[1;33m\u001b[0m\u001b[1;33m\u001b[0m\u001b[0m\n\u001b[0;32m     45\u001b[0m \u001b[1;33m\u001b[0m\u001b[0m\n",
      "\u001b[1;31mKeyError\u001b[0m: 'g'"
     ]
    },
    {
     "data": {
      "image/png": "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\n",
      "text/plain": [
       "<Figure size 936x432 with 2 Axes>"
      ]
     },
     "metadata": {
      "needs_background": "light"
     },
     "output_type": "display_data"
    }
   ],
   "source": [
    "fig, axs = plt.subplots(1,2, figsize=(13,6))\n",
    "axs[1].set_title(\"Reflekteret lys\")\n",
    "axs[0].set_title(\"Transmitteret lys\")\n",
    "\n",
    "def snell(theta, n):\n",
    "    theta_ag = np.arcsin(n*np.sin(theta))\n",
    "    return theta_ag\n",
    "\n",
    "theta1T = np.zeros(len(ts_trans))\n",
    "theta2T = np.zeros(len(ts_trans))\n",
    "\n",
    "theta1R = np.zeros(len(ts_ref))\n",
    "theta2R = np.zeros(len(ts_ref))\n",
    "\n",
    "i = 0\n",
    "for t1, t2 in ts_trans:\n",
    "    theta1T[i] = t1\n",
    "    theta2T[i] = t2+t1            # hvorfor t2 + t1 \n",
    "    i = i + 1\n",
    "    \n",
    "i = 0\n",
    "for t1, t2 in ts_ref:\n",
    "    theta1R[i] = t1\n",
    "    theta2R[i] = t1\n",
    "    i = i + 1\n",
    "    \n",
    "theta1T1 = theta1T[0:len(theta1T)-3]\n",
    "theta2T1 = theta2T[0:len(theta2T)-3]\n",
    "\n",
    "print(theta1T1)\n",
    "axs[0].errorbar(theta1T1, theta2T1, xerr=sigma_radian, yerr=sigma_radian, lw=1, label=\"Data\", c='r', fmt='o-')\n",
    "axs[1].errorbar(theta1R, theta2R, xerr=sigma_radian, yerr=sigma_radian, lw=1, label=\"Data\", c='r', fmt='o-')\n",
    "\n",
    "\n",
    "nT, pcovT = curve_fit(snell, theta1T1, theta2T1, absolute_sigma=True, p0=[1.4])\n",
    "nR, pcovR = curve_fit(snell, theta1R, theta2R, absolute_sigma=True)\n",
    "\n",
    "theta_T = np.linspace(min(theta1T1), max(theta1T1))\n",
    "theta_R = np.linspace(min(theta1R), max(theta1R))\n",
    "\n",
    "n = np.round(nT, 2)\n",
    "uncer = np.round(np.sqrt(np.diag(pcovT)), 1)\n",
    "axs[0].plot(theta_T, snell(theta_T, nT), c='k', ls=\"--\", label=r\"Fit: $n_g={} \\pm {}$\".format(n[0], uncer[0]), lw=2)\n",
    "axs[1].plot(theta_R, snell(theta_R, nR), c='k', ls=\"--\", label=\"Fit\", lw=2)\n",
    "\n",
    "for ax in axs:\n",
    "    ax.grid()\n",
    "    ax.set_xlabel(r\"$\\theta_1: $[radians]\")\n",
    "    ax.set_ylabel(r\"$\\theta_2: $[radians]\")\n",
    "    ax.legend()\n"
   ]
  },
  {
   "cell_type": "code",
<<<<<<< HEAD
   "execution_count": 156,
   "id": "5cf5c71c",
=======
   "execution_count": 45,
   "id": "85c5950c",
>>>>>>> b5d0c2924fa1947f6771cd2b5e175bce1123b7fa
   "metadata": {},
   "outputs": [
    {
     "name": "stdout",
     "output_type": "stream",
     "text": [
      "[1.] [1.49794579]\n",
      "[1, 2, 3, 4, 5, 6, 7]\n",
      "[[ 1.00315545  0.002943  ]\n",
      " [ 0.99799614  0.002943  ]\n",
      " [ 1.06642288  0.002943  ]\n",
      " [ 1.12514899  0.002943  ]\n",
      " [ 0.02384677  0.002943  ]\n",
      " [ 1.04621401  0.002943  ]\n",
      " [ 1.09479608  0.002943  ]\n",
      " [ 1.0638005   0.002943  ]\n",
      " [ 1.06717843  0.002943  ]\n",
      " [ 1.03790306  0.002943  ]\n",
      " [ 1.1049593   0.002943  ]\n",
      " [ 1.02027867  0.002943  ]\n",
      " [ 1.04155484  0.002943  ]\n",
      " [ 0.63402329  0.002943  ]\n",
      " [ 0.00489958  0.002943  ]\n",
      " [-0.00264604  0.002943  ]\n",
      " [ 0.97154034  0.002943  ]]\n"
     ]
    }
   ],
   "source": [
    "print(nR, nT)\n",
    "ary = [1,2,3,4,5,6,7,8,9,10]\n",
    "\n",
    "print(ary[:len(ary)-3])\n",
    "print(Ts)"
   ]
  },
  {
   "cell_type": "code",
<<<<<<< HEAD
   "execution_count": 157,
   "id": "27bf1a77",
=======
   "execution_count": 55,
   "id": "66b4c302",
>>>>>>> b5d0c2924fa1947f6771cd2b5e175bce1123b7fa
   "metadata": {},
   "outputs": [
    {
     "name": "stdout",
     "output_type": "stream",
     "text": [
<<<<<<< HEAD
      "33\n"
=======
      "15 15\n"
>>>>>>> b5d0c2924fa1947f6771cd2b5e175bce1123b7fa
     ]
    },
    {
     "name": "stderr",
     "output_type": "stream",
     "text": [
<<<<<<< HEAD
      "<ipython-input-157-dae4f5758ce2>:12: RuntimeWarning: invalid value encountered in arcsin\n",
      "  theta_2 = np.arcsin(n_komb*np.sin(theta_1))\n",
      "<ipython-input-157-dae4f5758ce2>:7: RuntimeWarning: invalid value encountered in arcsin\n",
=======
      "<ipython-input-55-c240327edcc7>:12: RuntimeWarning: invalid value encountered in arcsin\n",
      "  theta_2 = np.arcsin(n_komb*np.sin(theta_1))\n",
      "<ipython-input-55-c240327edcc7>:7: RuntimeWarning: invalid value encountered in arcsin\n",
      "  theta_2 = np.arcsin(n_komb*np.sin(theta_1))\n",
      "<ipython-input-55-c240327edcc7>:12: RuntimeWarning: invalid value encountered in arcsin\n",
      "  theta_2 = np.arcsin(n_komb*np.sin(theta_1))\n",
      "<ipython-input-55-c240327edcc7>:7: RuntimeWarning: invalid value encountered in arcsin\n",
>>>>>>> b5d0c2924fa1947f6771cd2b5e175bce1123b7fa
      "  theta_2 = np.arcsin(n_komb*np.sin(theta_1))\n"
     ]
    },
    {
     "data": {
      "text/plain": [
       "Text(0, 0.5, 'Intensity: $R_p$')"
      ]
     },
<<<<<<< HEAD
     "execution_count": 157,
=======
     "execution_count": 55,
>>>>>>> b5d0c2924fa1947f6771cd2b5e175bce1123b7fa
     "metadata": {},
     "output_type": "execute_result"
    },
    {
     "data": {
      "image/png": "iVBORw0KGgoAAAANSUhEUgAAAx0AAAGgCAYAAADPUgoRAAAAOXRFWHRTb2Z0d2FyZQBNYXRwbG90bGliIHZlcnNpb24zLjMuNCwgaHR0cHM6Ly9tYXRwbG90bGliLm9yZy8QVMy6AAAACXBIWXMAAAsTAAALEwEAmpwYAACHyUlEQVR4nOzdd3hUZfr/8fdNCITQVKooEAHBAiiIi4qusa29rWVVVkUR7L2s4tcF3UXUBV1d4afYC+q6rr3XuBZwBUEUgQ1VkSKdhJAQkuf3x5kZJ8OkTDIzZ2byeV3XXCd5TrvPCZwz93nKMeccIiIiIiIiidLE7wBERERERCSzKekQEREREZGEUtIhIiIiIiIJpaRDREREREQSSkmHiIiIiIgklJIOERERERFJKCUdIiIiIiKSUEo6REREREQkoZR0iMSZmVks5aJzIyKZS9e36uncNC5KOiTEzMaYmYvl43fMfgk7V/8XUX4W8GyU5aOWxzGePwbiebKOyz8ZWP6PYWVRjynGOGLeRjzOjZnNivXfrpl93pB9ikjdmFl+Lf8Xy8zsZzN708wOi9M+9zazD81so5mVmFlBtOteoqX6tT8e1/36biee58bMLozy76rSzNab2cdm9vt47EcapqnfAUhKmQ1MiSjrARwI/AJ8kPSI0oiZHQQ8D3xal3KJz7kJPCn7GpgVMasPcACwCng3yqqf1HefIlIvm4FXo5S3B/oBxwPHm9n5zrmnG7iv1/HuX/OA74D5QNcGbjMmuvZXLwHnZmBgOhuYGfi5JbA/cBhwmJld55y7L077k3pQ0iEhzrmXgZfDy8xsGF7SMdc5l7SnQ2ngQeAFYHVYWXU1h+lSoxjtmBKtwefGOeeAEZHlZvY3vKTjXefcsIbuR0QabE119xEzywbGAdcD95vZv51zm+uzEzPrgJdwbAYGOue2BMqfrFfU9ZcO134/rvsQ/3MTTDoedM49Eiw0s2bAi8DJwB1mNsk5VxbnfUsdpcN/CJGU45xb45yb55xb63cs8ZKBxzQgMJ1Z41Ii4jvnXDlwE7AS2AEY0oDNNQ9M1wQTDokuE677ZtYE6B/49fvwec65rcCdgV9bAb2SGJpEUNIhDRbWRvS3Zva6mW0xs1WBWhLMbCcz+4uZzTSzTYH2u8vM7Bkz6xNle8G2oSeY2clm9qWZFQfaZr5iZv2irHOcmb1vZivMrNTMFprZJDPrWs22jzGz35vZfwPtfVeY2YNmlmtmWWZ2s5kVBuZ9b2Yjq9nO/wXPAfBZYPahwTa21ZVHbOscM/sscG42B2K6KNBsKPI4c8zs/8xsXuA8zzezy4AGd8arrk2umTU1s6vNbHbgfPxsZveZWWsz22ZmBdVs7wQz+zxwTOvN7F0zGxw2/0lqODdh7XLz63lI+wamSjpE0oBzrhJYFvh1p/B5db1OBq5HPwV+7R52Hcmrad+xXIcDy59hXl+BtWa2wcy+MrPzAl+Aa72+xbrPRF37433dD6yb7Gv/HnhNqQDmRJn/c9jPquXwkZpXSTw9gtc29x28L3yzzKwTMBXYDVgAfAjk4rWz/CNwopn1c879FGV7F+FVif4AvIdXfXoKcLiZ7emcWw5gZqcCLwHleBeyjXhPuS8Ffm9m+zrnVkZs+0rgOGB6IKZDgcuBTkAlcBLwJbAEOBx42MyaOucmVXPsXwI7A7/j1/4vXwbmVVeOmT0KDMdrBvBVYHpo4Fzmm9m5geZDwWridwPzVwNvAbsAEwPnKO4CN9B/4Z33jXh/hx2Bq4CDqf6GNxT4C1576vfwnkIdjdeu9jfOuW+p+Zw1NO5uQDvAAd/GY5siklhmtite3w4Ie2Idy3US7zqyDjiVqn1IimvYbyzbx8weAi7G+wL7KbAVyAeeAgbhXR9rvL6l8rW/Add98OfaH2xa9aNzblOU+bsHpsuBhQ3YjzSUc04ffar9AMPwvrgV1LDMk4FlNgBdA2VNAtOJgXn3Aha2Tmvg88C8WyO2NyZQ7oBLwsqbAR8Fym8LK1+Il3DsEVaWhddJzQFjqtn2hWHl++AlGw7vhrVX2LwRgfJZUbbzf2FlB0c7VzWUDw+Uzwyet0B5e2BaYN7IsPIbAmX/AVqHlZ8dFvuTdfy7Bv9mf6zlmMJj7BBWno93k6xyXBHn97qw8qbAa4HyR2o7N4F5ewQ+ufX4d3tyYLsL/P4/pI8+jf0TuF44YEmUeU3wHhCcgPcF2gGvhc2P6ToZmLdrtP1Vc92L9Tr8+0DZIqBHxD5/CswbHChL+Wt/PK77EdtJ+rUf7/uFA96KMs/wkh8HXOD3/4XG/lHzKomnV1ygxsJ51eQAa/Ce0IxxgStAYH4RXlIA0K2a7X3hnHsobJ2teE+BAH4TttzOeEnHyrBlK4BbgcuAN6Jse7pz7vGw5b/FezIDcL9zLvzp0UuBabzbgt4YmJ7vwmp6nHNr8C764HWqDLo4MB0ROH/B5Z/H6yiXCFcFphc450IdDZ1zBXidPqvzlXPu3rDltwF/D/zaP+oaEZzXzniec64kpog96s8hknrCmzsFh12vwLtPvIH3RXMKXi14UKzXyVjFuv1LA9OrnHOLwpZfBtyB17ynd5z3mexrf32v++DPtT9Y0xFeO5ZtZvvhjWI2GO8h4xN13J4kiJIOiaftmrE450Y75451YVWeZtbBzI4ADgkUNatme19FKQsmFi3Dyv4DtAC+NrPbzGw/MzPn3CLn3P9zzs2Isp1pUcqCF9dZEeUbAtOcauKMmZntjDek6zrn3OzI+c65OXjtUHubWWcz2wUv6VnknJsfZZOvxSu2sBg74t0kljjnZkVZ5F81rB6tqjx4c92hYZHViZIOkdSzGS+pmAI8h9f0Nuj/Ad2dc38MfrGO9ToZazD1uA4b8Fu85lTvRVn+EedcX+fcM3HcZ1Kv/Q287kOSr/2Bv8m+gV9vCktmt+I1n/4NcKgSjtSgPh0ST+uiFZpZT+AKvNFI+gBtArOCNR/VtQ/dEKVsW2AanjCPxLvw7ov3pOkO4BczewN42Dn3dR1jDcZTZRQP55yrpi9hQwQ7uO9ktb9kMbwz/M/VLLOkwRFVv98f67HPDVHKgn+7rHrGEwslHSKpZ7shc83sd3j9LkYC3wCPhs2O9ToZ2XevNrFufxveQ7KfnDfaVn2k+rW/Idd9SP61vyfQNvDzc3itHrLw+pEeBHQEXjazPRrwN5M4UdIh8VQZWWBm5wBP410ECvE6mf+A9zK3rsDDNWyvtguyt5BzPwaqUfPx2vIfCeyFV019oZld6ZybGLGa3xef4MW3Li9dLMLrA1OTbbXMr4/swLS6GtGaMrHt/i0ki5m149cbZ61Jh5ktxXs/TQu8jpOt8DqHDnfbD0AgInHknHvfzC7F62vwkJktCDTjgdivk7GKdfvx+M6U6tf+hlz3IfnX/mDTqlXOuaHhM8zsZOAVvHe2nEKUWhpd/5NLSYckjJm1Ah7Ca7N7onPunYj5V8ZrX4E+JB8HPgSqpK8E/gTcZWaTU+wpx4rAtCjyyV80gSp5gO7VLLJzNeUNERy6sro+N0l9u28MgrUcK2u7aZjZjnjHNxLvxvNHvKYMf8N7adbpCYxTRADn3FNm9nu8UQOfNLO+zrliYrxO1kOs1+FmeA+sOgVGM9wWMb8d3jVjtnNuarRt1GOfyb72p9t1P5h0bNeiwTn3mpm9jzd61jlEJB26/ief+nRIIu2F95Tmm8iEI+B3gWm9/x2a2e6BccTfCi93zv3snLsZr4NiK7zh/hKtupqZ7cqdc0vw2rnuZmZ7Rs43s46B8dg/NLNWzrkVeDVE3cxsQOTyeMP/xlWgY+SCwD6jdQA8MR67icM2IsXStGrfwPQF59y5zrkPA4MXTAKOTUBsIhLd5XjD2nYHRkPs18lYd1iP6/BWvC+3zYAjomzyBLwHbcFkIu2u/Um67kP8rv3VJh0BweZ6R5tZbsS8fQNTXf+TREmHJFKw81hfM+sRLDTv5Xu34l2goWEdtBfhtdk8xsxOCZ9hZkfhDUG41Dn3SwP2UVelgWnbOpb/He//4DOB90oAELgwPoHX/6Uo8MQvuDzA42bWIWz54/h1xJN4uz8wfdTMQi/rMrOBwG2BXxty86ju3GBmewQ+kTeK2sSSdAzAa55we0T5/4BcM4vb4AEiUr3Al93g/8NrzGzvwM9/J7brZKxi3X6wqe79gRr14PK74vUndHgd5SF9r/2Jvu5D/K79wev9f6uZ/w6wBa/51O8i5un6n2RKOiRhAk9o/olX0/Cdmb1lZq/iJSN/5deXGsU86kjYPiqAS/Damb5iZl+b2b/M7HO80UUq8DqxJ8MSvAvYvua9Hf3WWsr/Dvwb2A+Ya2YFZvZaYPnj8J42XRK2/Ufxqof3BQrN7GUz+xR4E2+UjkT4f8D7eC9zXGjeG+E/wBtZLNjhviHN1pYQ/dwAzA18fhNtxRrEWtPxg3MustPkznijy5Ruv4qIJMjf8YacbYr3tDlYFst1sj77rPP2nXPP4fU/6QPMN7M3zewdvCHXuwF3OueCIzgtIT2v/Ym+7kMcrv2BhK194Neo58E5txlv2H7w+myE2xdd/5NKSYck2oV4TxF+wnuz92+AxXiJwABgPXCgmbWvdgu1cM69ChyDd2EJdhjrhXdRH+yce7P+4ccUx1q8FwkuxXtz7JG1lFcCZ+Kdo1l41cRHAKvwkrLfOOdWhW3fAWfh9VX5Ea/6tzvwZ+DmBB1TBV476//D6/h4HF6zufuAcwOLbWzA9qOem/oKPBkLjpE/qw6r7Ev00Vh+T+2dPEUkjgJ9JC4L/PpbMzsv1utkPfZZn+1fiPfi3Nl4A5jk4z1EO985939h207La3+ir/uBfcTj2h98wLQ48I6T6gTftXWCmYWPoLUvuv4nlTkXr2Z1IpJpzGwfYLVzbnmUeafidb67O9B/Jq2YWXO8NuQ/OOf2CSsPjnhyoHMu2rtiREQyViZf94N0/feHajpEpCYPAz+bWZVOdYGaqdGBX19NdlBx0hevGcdOZjbBzA4zsxvx2mOP0w1HRBqpTL7uB+n67wMNmSsiNZmA1y/nLTP7L17V/g54L3rMxXvaFe3t7ulgX7x2yUcDk/FGz/kZuNk596CPcYmI+CmTr/tB+6Lrf9KpeZWI1MjMDgKuBgbjdfrfhNdJe5Jz7jU/Y2sIM3sQONg5t6/fsYiIpJJMve4H6frvDyUdItIoBUY4W+CcG+Z3LCIikjy6/vtDfTpEpNExMwP6U7cRrkREJEPo+u8f1XSIiIiIiEhCqaZDREREREQSSkmHiIiIiIgklIbMBdq3b+/y8vL8DsN3mzdvpmXLln6HkRF0LuNL5zO+Yj2fM2bMWOOc65DAkNJCOtwrMv3/SiYfXyYfG2T28enYflXT/UJJB5CXl8f06dP9DsN3BQUF5Ofn+x1GRtC5jC+dz/iK9Xya2dLERZM+0uFeken/VzL5+DL52CCzj0/H9qua7hdqXiUiIiIiIgmlpENERERERBJKSYeIiIiIiCSUkg4REREREUkoJR0iIiIiIpJQGr1KRESkgSorK1mzZg0bNmygoqLCtzjatm3L3Llzfdt/oiXr+HJycth1113Jzs5O+L5EGgslHSIiIg20bNkyzIy8vDyys7MxM1/iKCoqonXr1r7sOxmScXzOOdauXcuyZcvYbbfdErovkcZEzatEREQaaPPmzeyyyy40a9bMt4RD4sPMaNeuHaWlpX6HIpJRlHSIiIjEQZMmuqVmCiWOIvGnK6SIiGQEMzvJzIrqsFxfM/vIzIrN7Ecz+5PpW6aISEIp6RDJBFOmQF4eNGniTadM8TsikaQys4OAZ4Eakwcz6wh8CDjgTGAyMBa4PtExioikDB++N6gjuUi6mzIFRo6EkhLv96VLvd8Bhg71Ly6RJDCz5sDVwF+AzUCzWla5HO/ed5JzrgR4O7CNW8zsfudceUIDFhHxm0/fG1TTIZLO8vNh+PBfLxxBJSVeuUjmOxa4BbgR+Ecdlj8S+CiQcAS9CuwE7B/36NJAXl4eZrbdp2/fvixZsgQzY8GCBQDMmjWLzz77rN77mjVrFj169CA3N5d33nknXocgInWRn1/794b8/ITtXkmHSLorK4utXCSzfA3s5px7AK/JVG16AwsiyhaFzWuUJkyYwIoVK6p8Pv30U7p27cqKFStCQ8eeeuqpzJ8/v977GTNmDLvvvjs//PAD+dV8uTn88MNDiU92dja77747jzzySL33KSIRfPreoKRDJJ0VFED37tHnVVcukkGccz875zbEsEobILKzeVHYvEapTZs2dO7cucqnXbt2ZGVl0blzZ7KysgDvHRYNsXHjRgYNGkReXh4tWrSIuszMmTO58847WbFiBQsWLOCss87i4osvZubMmQ3at0jaa2g/jIKC2r83FBQ0KMSaqE+HSLobO7Zq20yA3FyvXEQiGdXXiFRut7DZSGAkQKdOnSio5obctm1biopqHTgr4SoqKmKOwzlHaWlp1PWWLl1Kv379mDlzJldeeSVLly5lxIgRfPLJJzz00EPbLf/zzz8zatQoPvnkE5o0acJpp53G2LFjycnJoW/fvvz4448UFBTw7LPP8v3332+3/qJFi9iwYQOHHHIILVu2pGXLlgwdOpS//vWvTJ8+nd122y1p57m0tLTav3ciFBcXJ3V/yZbJx5eMY+v44Yf0GT+erGBtxNKlVAwfzvy5c/nlyCNj29Yf/1h1W0BF8+bM/+Mf+SXiOOJ5bEo6RNJdsNPXrbfCjz9Ct25ewqFO5CLRbAQiX2ndOmxeFc65yXgjXDFo0CBXXZOguXPnpsSbwOvzxm4zIycnJ+p6rVq1Ck1fe+019tlnH6699lqGDx++3fJbt27lpJNOolevXnz66aesXbuWiy66iOzsbCZOnMj06dM5+eSTGTx4MKNGjYq6v/nz59OmTRsOPPBAsrKyWLlyJbfffjtNmjRhyJAhZGVlJe085+TkMGDAgKTsC6CgoKDaJmeZIJOPL6HHFtzutGnbNX/KKitjr/Hj2evzz2OrocjPhz33ZPkFF9C5vJzyzp1pPn48ew0dyl4Ri8bz2NS8SiQTDB0KS5ZAZaU3VcIhUp1CoEdEWfD3+ndWqEa0DtrBz+TJk0PLTZ48ucZlw+233351Wi4WV1xxBa1atary+eWXX6oss9NOO5GVlUWbNm1o27btdtt49913WbZsGc8++yz9+/fnsMMOY+LEiTz88MNs3LiRDh060KxZM1q2bEmHDh2ixjFjxgyKi4tp27Ytubm57Lzzzrz88stMmDCBvfaK/Dok0ojEux/G0KEc2asXWcDCjz5KyvcGJR2S+vQOitSkv4ukp4+AI82sZVjZKcBaYJYfAaWC0aNHM2vWrCqfdu3axbSNuXPn0qtXL3baaadQ2UEHHURFRQWFhYV12saMGTO46KKLmDVrFp9//jlHH300I0aM4JprrokpFpGMkcB+GKWlpYBXq5cMSjoktQXHkl66FJz7dSxpfcGNn/okD/q7SJows55mdkBY0SS8d3m8bWYnmNmteEPu3uWc2xrv/Tvnqv2MDI6LD4wcObLGZcPNmDGjTsvFokOHDvTq1avKJ9h5vK6ifXGpqKioMq3NzJkzOeigg+jVqxcDBw7k4YcfZtKkSXz33XehZU455RT+8Ic/sP/++9OjRw/++9//xhSnSFoaO9brrxmugf03g0lH8+bNGxJZnSnpkNSld1AkXn2TB/1dJH3cBkwN/uKcW4H3ro6mwEt4ncRvdc6N9ye89FJTE64999yTBQsWsG7dulDZ1KlTycrKolevXrVue/Hixaxbt45+/fqFyrp3786AAQN45plnQmWzZ89mn3324euvv2bs2LH87W9/q+fRiKSRoUNh8mSvZsPMm06e3KBmUarpEAmnd1AkTk1J3a231ryu/i6SgpxzY5xzrSLKhjnnLKJsunNuiHMuxznX3Tl3d3IjTV+tWrVi3rx5VRKLoCOPPJLevXtz7rnnMnv2bAoKCrjqqqs466yz6tRUa8aMGTRp0oQ999yzSvlRRx3FK6+8Angj6ZSVlXHTTTcBsPfee7N+/fo4HJlIGohz/00lHSJBegdF4lWXJPz4Y83r6e8i0ihdccUVPPzww4wYMWK7eU2aNOHVV1/FzDjggAM488wzOfHEE3n00UfrtO0ZM2bQs2fP7d7fcdRRR7FgwQLmzJnDnDlz2HvvvWna1Bt8c+bMmfTv37/hBybSCC1atIjFixeTG9lsK0E0ZK6ktsb2DoopU5I39G1BgdeHY+nS7ed161bzuo3t7yKSwZYsWVLtvLy8vCp9RS6++GIuvvjiGpd/8803q51f03j/48aNY9y4cduVH3HEEaEYPvjgA5YsWUJ5eTnFxcVMnDiRl19+udptikj1OnfunNT9qaZDUlsC2jCmLD86Z9e3Y1pj+ruISMr4/vvvOe200zj44IM55JBDGD16NLvuuqvfYYlIHSjpkNTXGN5B0ZD+FQ3RkOShMfxdgjQ8sEhKmDNnDiNHjuSrr77i+++/5/jjj/c7JJG0tH79ek444QSGJ3EAGCUdIqmivv0rGsqP5CGdvsRreGCRlLFs2TLy8vL8DkMk7RUVFfHWW2/xwQcfJG2fSjpEUkFNneZr61+RbtLpS7yGbRZJKT/88EOD3rwuIp5kj1wFSjpEUkcCXvyTctLxS7yGBxYRkQyjpEOkMWssnbPT6Uu8hm0WEZEMpKRDpLHL9M7Zfn6Jr28/ksZQAyUiIo2Kkg4RyXx+fIlvSD+SxlIDJSIijYaSDhHJfH58iW9oP5JMr4ESEZFGZccdd+SEE05g8ODBSdtnyr+R3MxOAqY451rXslxf4H5gMLAOmAjc48JfpSoiqWHo0OR+cU+nfiQiIiIJtv/++/PGG28kdZ8pXdNhZgcBzwI1jo9nZh2BDwEHnAlMBsYC1yc6RhFJA+oMLiIi4quUTDrMrLmZ3QR8AmyrwyqX49XanOSce9s591dgHHCLmWUnMNTUlU4vXxNJNHUGFxERCSkqKmLFihVs3rw5aftMyaQDOBa4BbgR+Ecdlj8S+Mg5F95o+1VgJ2D/uEeX6lLx5WtKgsRP6gwuIiIS8sQTT9ClSxduueWWpO0zVft0fA3s5pzbYGZj6rB8b6AgomxR2Lwv4xdaisvPh2nTtm+rHuw068eXrGASFOzIG0yCQF/6BADnHGVlZVVG0Vi8eDFbtmyhrKyMuXPn0rx5cyorK6moqGDXXXelR48eAKxfv57Zs2fTpEkTsrKyaNKkCdnZ2eTm5pKbm0uXLl3Izs5Ofj8SERGRFOXH6FUpmXQ4536OcZU2QFFEWVHYvMYl1TrNDh+eWkmQ1Nu2bdsoKiqioqKC9u3bA1BWVsZbb71FcXExxcXFFBUVhX4uLi7mkksuYb/99gPg8ccf5+9//zslJSVs2bIl9CktLaVdu3asWbMmtK/8/Hx+/PHHqHH86U9/4q677gJgxowZHHXUUdXGPH/+fHr37g3AJZdcwrvvvkv79u2rfHbeeWf22WcfjjnmmLicJ5F09OCDD/L3v/+dn3/+mUMPPZRnnnmGDh06JHSf8+bN44orrmDatGm0a9eOK664ghtvvDE0/7nnnmNoxH3i5JNP5tVXX63X9kTEo6Sj/gyvE3k0lVFXMBsJjATo1KkTBQUFiYks2caM4YCzziJn1artZpV26sS0Go6zuLg4Iefh0LKyqCMBuLIyPs2U8x4hUeeyobZs2cLSpUvZvHkzJSUloWnw57POOou2bdsCXoIwbdq00PySkhLKAsnjgAEDuPfeewHvWE877bRq99mpUyeKirxnANOnT+e7776Lulx5eXmVc9a+fXvMjOzs7CrTrKwsysrKQssuXLiQ/v3745yjsrKSyspKysvLKSsro6ysjNmzZ7N8+XIAZs2axdKlS1m6dOl2+x80aFDo4ltSUsL1119Pt27d2Guvvdhzzz3p0aMHTZtmxiUzVf99in9uvfVWpkyZwuOPP0779u05/fTTuemmm3jiiScSts/y8nKOPfZYDjvsMB566CHmzZvHOeecQ5cuXUKJxg8//MCpp57KpEmTAO/fbvCBR6zbKykpYcSIEXz00Uf85je/4bHHHkt4UiWSqpR01N9GIHJI3dZh87bjnJuMN8oVgwYNcvn5+QkLLukmTKjanAkgN5ecCROo6TgLCgpqnF9v3bt7TaoiWPfuidlfCojHuSwvL2fDhg1s2rSJoqKiKtMtW7Zw4YUXhpa99dZbKSwsZNOmTVU+RUVFDB8+nPHjxwPw2Wefcemll1a7z1tvvZW+ffsC8NRTT1FYWFhlvpnRunVrunTpEjq+iooKTj75ZFq3bk2rVq1Cn9atW9OyZUsOP/xwdt99dwD22GMPRo4cSW5uLi1atAhNc3JyaNKkahezGTNmhH6u6Xzm5+dz8cUX1+mcfvjhh6xevZo1a9aEPqtXr2bZsmX07t07tI9vv/2WefPmMW/ePN5//30AWrRowX777cfgwYMZOXJkqPYkHSXs/7qkpenTpzNu3Di++OILDjzwQACuuOIK/vrXvyZ0vz///DO/+c1vmDhxIi1atKBXr14ceeSRfPrpp1WSjv79+9O5c2fA6/zaunX0EfRr297f//53mjdvzgcffMBzzz3HrbfeyuTJkxN6jCKpSklH/RUCPSLKgr/PT3Is/gtWRd96K/z4I3Tr5o3S41dTprFjoyZBmTRyUGVlJSUlJaEmRQsWLKBp06YUFRXRvHlzDj/88NByo0aNCjVDCjZFCv785z//mTPPPBOARx55hMsvvzzq/syMYcOGhb6ov/vuu3zzzTdRl12/fn3o5w4dOjBo0CDatGlDmzZtaN26dZWfw58gjho1issvv7zKMrm5uZhVrbfKysqqtqlDpM6dO4e+PPghmBDttttuNS63++678/nnnzNr1iy++uorpk2bRmFhIZ9//jmff/45F110UWjZpUuX/tpvRCQNjR8/nt/+9rehhAO8a0V4c8e6KCgo4LDDDos674knnmDYsGFVyvLy8vjnP/8JeP26vvzyS/7zn/8wceLE0DI//PADZ5xxRp32X9v21q9fT+/evenXrx99+/bltddei+n4RDKJko76+wi42MxaOueCY3+dAqwFZvkVlK9SqdNsiiVBa9asYePGjVWaFwWnu+66K0OGDAFg+fLljB8/ns2bN4c+xcXFoekzzzzDPvvsA8Dll1/OQw89FHV//fr1Y/bs2QA0adKEe++9l/Ly8qjLBpsBgfe20Hbt2lVJDsKn27Zto1mzZgDcfvvtlJSUVEkQwpOJoD322IOvv/66TucpWDvRGOXm5jJkyBCGDBkSSvzWrFnDf//7X/73v/+xxx57hJY95ZRT+OmnnzjttNO48MILk/p2V5GGKi8v54033mDcuHFVyrds2RJqallXBx10ECtWrIg6r7Zt7brrrixfvpwTTjiB008/HYCtW7eycOFC3nzzTf785z9TWVnJySefzLhx42jevHnM27vqqqs46qijuO222+jSpQtvvfVWTMcnkkmUdNSRmfUEOjjnpgWKJgFXAm+b2d+AffCG3L3ZObc14QFNmZIyX6hTVkQSVFFRQVlJCaWlpVU+AHvttVdouVdffZXi4uIqHY63bNlCSUkJxx57bKiJSEFBAXfffXdoXrCjcnC6fPlycgPvaTj11FP5/PPPo4Z5zjnnhJKOTZs2cd9991V7SOvWrQv9HGxKFHyS7pxj5513plWrVvTs2bPKeuPGjSM7O5vWrVuHmiQFf+7atWtoubPPPpuzzz67LmeXE044oU7LSf21b9+e4447juOOOy5UtmnTJkpLS1m7di2TJ09m8uTJnHjiiYwdO5Z+/fr5GK1I3cyaNYuSkhL+9Kc/MWrUqFB5eXk5AwYMAOD+++/nb3/7G+3bt2fTpk0cccQRPPLII9ttq1mzZvWuyXzttddYvnw5l156Kddeey0PPPAAhYWFbNu2jZYtW/LSSy+xcOFCrrrqKsrKyqrUhtR1e127dmXu3LmsXLmSTp06bdekU6QxueaaazjllFNCD0+TIS2TDuA24HwCbyp3zq0wsyOB+4GXgFXArc658QmPJAWHgw12pA3/5Obm0qpVKwA2btzI4sWL2bp1K+Xl5aHpjBkzWL9+Pccff3zoCfrrr78eWrasrIytW7eGfu7bty/Dhw8HYOXKlVx88cWhzrtlZWWUlpaGfn7qqadCX+Zvvvlm7r777qix9+jRg4ULF4Z+HzZsGBs3Ru2Www477BBKOlavXs27775b7TkpKSkJJR277roreXl5tGzZkpYtW5Kbmxv6+YADDgits/POOzN+/PjQvFatWlWZhicTd999N/fcc0/o95razF9//fXVxinppU2bNvzwww989913PPvss0ycOJE33niDN998k3POOYd7772Xjh07+h2m+Cj/yfxalzmh9wnccNANoeWH7TuMYfsOY03JGk5/8fRa1w9fvjk11wBEmj9/Ps2aNWP27NlVmk6effbZoWv2999/z/33389pp51GWVkZHTp0YNy4cdt16P7ss8849thjo+7n4Ycf3m4UqnCDBg0CvGv1+eefz/jx49l7771Zs2YN7dq1A2CfffahpKSECy+8kPvvv7/GgR2iba9Zs2aYGTvvvHMdzoxIZuvfvz/9+/dP6j5TPulwzo0BxkSUDQOGRZRNB4YkKaxfVTMc7Lrzz2f0tGlUVFRQUVHBPvvsw2WXXQZ4zTSuuOKK0LyKigq2bdsWmt5555385je/AWDSpEk8+uijbNu2LfQpLy9n27ZtdOrUienTp4d226VLF1auXIlz2w/k9de//pVbb70VgI8++qjG0YZWr14duplMmjSJ9957L+pyJ598cijp2Lp1K6+//nq12wxPHIKjEOXk5NC8eXNycnLIycmhRYsWVZ70A5x22mmUlpbSokWLUIfjYAfkQw89NLTcwQcfzFtvvVWlc3L4NLxq//nnn682znBt27atc4IQ2c9BGg8zo3///txzzz1cf/31jB07loceeoj33nuPFi1a+B2eSI02btxI+/btqzSnXLNmDbNmzeKBBx4A4LvvvuPmm28G4JtvvqFr167stNNO221r0KBBzJo1K+p+OnXqtF3Zzz//zIwZMzjppJNCZXvttRdbt25l06ZNtG/fPpRwBPXp04fy8nJWr169XfJQl+2JiH9SPulIedW8+2KHigoefPDB0O8nnXRSKOnYsmVLqLNbNKtXrw79vGrVKmbOnBl1ucrKyu1+DyYc2dnZVT7h7V932mkn+vfvT7NmzcjOzg5Ni4qK2HnnnatUOZ900kn06dOH5s2b06xZM5o1axb6uVevXqHlOnbsyCuvvELz5s1Dn2BS0bx5c3bZZZfQsrfffjt33HFHnb6oP/bYY7UuA16thJ5eid86derEAw88wLXXXkthYWGoP01FRQU//PCDmlw1QgXDCuq9fPvc9jGt3z63fWh46jqv095bp7KyMnTtHzduHAceeCAHHnggzjnmz5/PaaedRklJCevWreM///lP1KZJwRGj6mru3Ln8/ve/Z/ny5aEawRkzZtChQwfat2/Pyy+/zKWXXspPP/0Uqn3/9ttv2WGHHaI246pteyLyq0ceeYTly5czbNgwunfvnpR9KuloqGqGgy3ecUfuHzOGrKwssrKyqoyW065dO5577rnQvKZNm1b5ed999w0tO3LkSE4++eTQMtnZ2TRt2pSmTZuGLsJBS5cupWnTpjRp0qTGL/T5+fl8++2325VHaxIUTJRqk5OTwymnnFKnZdWOVjLdbrvtVuX//M0338wDDzzAo48+yrnnnutjZCJVHX744Wzbto2xY8dy7rnn8tJLL/HMM8/wxRdfALBkyRJ69uwZqlUfP348f/vb3+Ly/o5DDz2Uvfbai2HDhjFhwgQWLlzIzTffHKqVP/TQQ3HOMXLkSEaNGkVhYSG33XYbN954Y+get27dOrKysmjbtm2t2xORXwXfxXXUUUcp6Ugb1QwH2+Yf/+Cqatqv5ubm1rmD8C677FKllqAmtY3mISLJ55yjtLSUrVu3ct555zF37lz++te/KvmWlNChQweefvpprr/+esaNG8chhxzCp59+Gmpu9f3339OnT5/Q8v369ePjjz+Oy76zs7N58803ueKKKxg8eDCtW7fmmmuu4aqrrgK8B3Tvvfce1113HQMHDqRt27ZceOGF3HLLLaFt/P73vycvL48nn3yy1u2JyK80elU6SrHhYEUktZgZ//jHP9hzzz256qqrGDduHPPmzeOZZ56hZcuWfocnwumnnx4aVjbSd999F0o6KioqePbZZzniiCPitu9u3brV2B9wwIABfPLJJ6Hfi4qKqtTkFxQUxLQ9EfH4kXToUVs8DB0KS5ZAZaU3VcIhIhEuu+wy3nnnHdq2bcsrr7zCwQcfzE8//eR3WCI1+v7773nkkUcYMGAA+++/P126dOHqq6/2OywRaSDVdIiIZLCjjjqKadOmceKJJzJr1iyGDRvGRx995HdYItV67rnn/A5BRBJANR0iIhlujz324KuvvuLGG2/kpZde8jscERFphFTTISLSCOy0005VXiYpIiKSTB07dqRZs2aq6RARaSzKysr405/+xMKFC/0ORUREGon58+ezatUqcnNzk7ZPJR0iIj4aM2YM99xzD2effTZbt271OxwREZGEUNIhIuKjP/3pT3Tv3p2vv/6aP//5z36HIyIikhBKOkREfLTDDjswZcoUmjRpwt13382HH37od0giIpLBfvnlF9q3b88+++yT1P0q6RAR8dmQIUMYM2YMAOeeey6rV6/2NyAREclYW7ZsYe3ataxfvz6p+1XSISKSAkaNGsVvf/tbVq5cyWWXXeZ3OCIikqH8GC4XlHSIiKSErKwsnn32WZo3b866desoLy/3OyTxS36+9xERSQAlHSIijVzXrl1ZsmQJH330EdnZ2X6HI41AXl4eZoaZ0aRJE1q1asWQIUN477336ryNTz75hO+//z6BUYpIPCnpEBEROnfu7HcI0shMmDCBFStWsGzZMqZNm8aQIUM4/vjj6zyoweGHH87KlSsTHKWIxItfSYfeSC4ikoKmT5+Oc47999/f71Akw7Vp0yaU7Hbp0oV77rmHFStWcO211/Ldd9/5HJ2IxJtqOkREBIApU6aw//77c8stt/gdSlowsxFmVmhmW8xsqpkdWMvyB5nZ52ZWZGaLzGy0maVGe7YpU2DaNPj0U8jL8373wciRI/n+++9ZsGAB8+bN49hjj6V169bk5ORw8MEHM2fOHMBrngVw1FFHhUZge+KJJ9hzzz1p1qwZ7du359JLL2Xbtm2+HIeIbK9nz5785S9/4dxzz03qfpV0iIikmOOPP54WLVrw0Ucf8b///c/vcFKamZ0HPAQ8C5wGbADeM7Pdqlm+J/A+UBxY/j7gT8C4ZMRboylTYORIKCvzfl+61Pvdh8Rjr732AmDOnDmcdNJJdO/enVmzZvHll19SUVHBjTfeCMDXX38NwIsvvsgNN9zA559/zmWXXcbYsWMpLCzkoYce4oknnuDll19O+jGISHS9evXi//7v/5R0iIg0djvssANnn302AJMnT/Y5mtRlZgbcAUx2zt3unHsbOAlYA1xbzWqnA1nAac65951z/wD+DowMbC95gqNUBT/Dh0NJSdVlSkq88vDlkqBt27YAFBcXc9FFFzF+/Hh69uzJwIEDGTZsWKimo0OHDgDsuOOOtGrVihYtWvDYY4/x+9//nu7du3P66aczYMCA0PIi0ngp6RARSUGXXHIJ4DVVCba/le30AroDrwcLnHPlwFvAMdWs0xwoB7aEla0FWgXm+SdYw1HX8gTatGkT4PX3uOyyy3jmmWcYPnw4Q4YM4ZprrqGioiLqevvttx/77rsvo0eP5vTTT6dPnz589dVX1S4vIsm3YMECXn311aSPOqekQ0QkBQ0aNIiBAweybt06XnrpJb/DSVW9A9MFEeWLgJ5mlhVlnSlABTDOzHYys/2Ba4BXnHPJze4KCqp+unePvlz37lWXS4LZs2cDXp+N/fffn2effZY99tiD22+/nb/97W/Vrvfee+8xcOBAVqxYwTHHHMNLL73EkCFDkhKziNTNW2+9xamnnsojjzyS1P1q9CoRkRRkZlxyySWMHDmShx56iD/+8Y9+h5SK2gSmRRHlRXgP1VoCm8JnOOcWmtkNwGTgpkDxN8AF0XZgZiOBkQCdOnWioJov/W3btqWoKDKM2DS97TZyrrwS2/JrJYxr0YLS225jWx23XVFREVMczjlKS0u3W+fhhx9mwIABzJ07l59++okvvvgi9O6YN998k8rKyirrlJSUUFRUxP/7f/+Pc845hwkTJgCwbds2FixYwAEHHNDg81Of42uI0tLSav/eiVBcXJzU/SVbJh9fuh3bDz/8AMAvv/xSa9zxPDYlHSIiKerss8/mL3/5C/vttx/btm2jaVNdsiME+2C4asort1vB7CLgEbyk459AF7x+IW+Z2ZHOuSptmZxzkwPLMmjQIJdfTZ+KuXPn0rp16/odRdDw4ZCT403LyqB7d2zsWFoMHVrnTRQVFcUUh5mxdetWNm/ejHOONWvW8Nhjj/Hvf/+bDz74gGbNmlFSUsIHH3zA4MGD+fDDD5k8eTK5ubmh/bRq1YrFixdz6KGH0qlTJ6ZOncrixYvJyspi3LhxrFy5Eudcw89PPY6vIXJychgwYEBS9gVQUFBAdf++MkEmH1+6Hdunn34KQO/evWuNO57HpjuYiEiKCn6Zy8qK1kpIgI2BaWtgVVh5K7yEY3OUdW4G3nbOXRwsMLPpwFxgKPB4YkKto6FDIdjkIUlPTq+//nquv/56ADp27MjAgQP5+OOPOfjggwEYPXo0V155JaWlpfTr149JkyZxwQUX8OOPP9KtWzeuvfZabr75ZpYuXcqYMWMYNmwYBx54IG3atOHYY4/l8ssvZ+bMmUk5FhGpnV4OKCIi21HCUaPCwLQHVft19ADmO+cia0AAugJPhRc45+aZ2Vpgr4REmcKWLFlS6zKjR49m9OjRVcqGDRsW+vmOO+7gjjvuCP3+3nvvxSs8EUkAvRxQRESi2rx5M4899hhvvPGG36GkmkLgJ+CUYEHgJX/HAx9Vs87/gCo9m82sF9AOWJyQKEVEUohqOkREJKqXX36Ziy66iEMOOYQTTzzR73BShnPOmdldwINmth74ArgCaI/30r/gywA7OOemBVa7A3jRzB4Fngc6A2OAJcDTST2A6qRRh1QRST+q6RARkaiOO+44AGbMmKH3HURwzk0CbgTOBV4CdgCOds4tCixyGzA1bPl/4b2JfCDwNt6byP8DDHbOJWdYJBERHz344IOsXLmSM888M6n7VdIhIpLi2rVrR9euXSkpKaGwsLD2FRoZ59wE51w351yuc+4g51x4kjHMOWcRy7/snBvonGseWG+4c+6X5EcuIpJ8LVu2pFOnTrRs2TKp+1XSISKSBoJDd2oUIBERSUdKOkRE0sC+++4LKOlIZdEHy5J0pL+lZLLrrruO4447ju+++y6p+1XSISKSBoI1HbNmzfI3EIkqOzubLWFvEpf0Vl5erpdxSsaaOnUq77zzDsXFxUndr5IOEZE0MGDAAFq2bJn00Uakbjp27MjPP/9MSUmJnpKnucrKSlatWkXbtm39DkUkITRkroiIVKtbt25s3LhRLwtMUW3atAFg+fLllJeX+xZHaWlpRiemyTq+li1b0r59+4TvR8QPSjpERKRaZqaEI8W1adMmlHz4paCgINQULxNl+vGJJIPe0yEiIrWqqKhg3bp1fochIiJpSkmHiIjU6J133qF169YMHz7c71BERCRNqXmViIjUqFu3bmzZskUjWImISL2dcMIJbNq0iRYtWiR1v0o6RETSRJ8+fcjJyWHJkiWsX7+eHXfc0e+QREQkzTzzzDO+7Ddlm1eZ2QgzKzSzLWY21cwOrGX5g8zsczMrMrNFZjbazLKTFa+ISKI1bdqU/v37A3pfh4iIpJeUTDrM7DzgIeBZ4DRgA/Ceme1WzfI9gfeB4sDy9wF/AsYlI14RkWQJvplcSYeIiMSqoqKChQsXsnz58qTvO+WaV5mZAXcAk51ztwfKPgDmA9cCV0VZ7XQgCzjNObcZeN/MdgauMLMbnd7UJCIZIjhc6MyZM32ORERE0s3q1avp1asXHTt2ZNWqVUnddyrWdPQCugOvBwucc+XAW8Ax1azTHCgHtoSVrQVaBeaJiGQEJR0iIlJffo1cBamZdPQOTBdElC8CeppZtLdjTQEqgHFmtpOZ7Q9cA7zinCtNWKQiIknWv39/nnzySZ577jm/QxERkTTjZ9KRcs2rgODrXIsiyovwkqSWwKbwGc65hWZ2AzAZuClQ/A1wQXU7MbORwEiATp06UVBQ0ODA011xcbHOQ5zoXMaXzmdV3bt3Z+3atfU+JzqfIiKNk5KOqiwwjeyHESyv3G4Fs4uAR/CSjn8CXfD6hbxlZkc658oi13HOTQ4sz6BBg1x+fn5cgk9nBQUF6DzEh85lfOl8xpfOp4hI46Sko6qNgWlrILyHSyu8hGNzlHVuBt52zl0cLDCz6cBcYCjweGJCFRFJvu+//55HH32U3XbbjauvvtrvcEREJE2oT0dVhYFpj4jyHsD8akai6gpMCy9wzs3D60y+V9wjFBHx0cqVK7n//vv55z//6XcoIiKSRlTTUVUh8BNwCt67Nwi85O94vBGsovkfMCS8wMx6Ae2AxYkKVETED8ERrL799lsqKirIyoo2voaIiEhVgwYN4v3336dt27ZJ33fKJR3OOWdmdwEPmtl64AvgCqA93kv/gi8D7OCcC9Zu3AG8aGaPAs8DnYExwBLg6aQegIhIgrVr146uXbvy008/sWDBAvr06eN3SCIikgbat2/PUUcd5cu+U7F5Fc65ScCNwLnAS8AOwNHOuUWBRW4DpoYt/y+8N5EPBN7GexP5f4DBzrnIUbBERNJe8M3kel+HiIikg5RMOgCccxOcc92cc7nOuYOcc+FJxjDnnEUs/7JzbqBzrnlgveHOuV+SH7mISOLpJYEiIhKrL774gptvvpk33ngj6ftO2aRDRESqp6RDRERi9fXXX3P33Xfz4YcfJn3fSjpERNLQgAEDGDx4MPvtt5/foYiISJrQ6FUiIhKT7t27M23atNoXFBERCdB7OkREREREJKGUdIiISMwqKiqYN28ec+bM8TsUERFJA0o6REQkZi+88AJ77rknt912m9+hiIhIGlDSISIiMdttt90AWL58uc+RiIhIOthhhx3o3r07O+64Y9L3raRDRCRNBZ9UlZWV+RyJiIikg7vuuoslS5Zw1llnJX3fSjpERNJUMOkIVpeLiIikKiUdIiJpSjUdIiKSLpR0iIikqebNmwOq6RARkbo59thjadeuHV9++WXS962kQ0QkTammQ0REYrF+/XrWrVtHkybJTwH0RnIRkTTVtm1bPv/8c3Jzc/0ORURE0oCfQ+Yq6RARSVNNmzZlyJAhfochIiJpIiOSDjM7ANgT+AUocM5tjte2RUQkc+h+ISLij7R/OaCZ3QMUAJcAk4BlZnZ5PLYtIiLVu/HGGxk5cmTadCbX/UJExD+ZUNMxHDjYOTcdwMwOAh43szLn3KNx2oeIiER47LHHWL9+PePGjfPlJlIPul+IiPgkE5KODcB3wV+cc1+a2ZnAvwDdREREEiQNXxC4Ad0vRER8cccdd1BcXOzLACTxGi/rTeDSiLI5wM5x2r6IiESRhsPmxv1+YWYjzKzQzLaY2VQzO7CW5TuY2dNmts7MNpjZ62bWo777FxFJF1dddRWjRo2iWbNmSd93vGo6TgS6mdkg4HlgJfBH4IU4bV9ERKJIw5qOuN4vzOw84CHgDuBr4ErgPTPbxzm3OMry2cAHQA4wAqgAxgLvmFk/59zW+sQhIiI1qzXpMLO2zrmNtSx2KbBP4HM30CdQ/rqZjcF7ivWDc25OA2IVEZEIwbeSp1FNR9zuF2ZmeMnGZOfc7YGyD4D5wLXAVVFWOw/oDezhnPsxsM4S4G2gHzCjvgcmIpLKysrK+Pe//03r1q058cQTk77/utR0rDOzM51z/65uAefce8B7wd/NrDnQl19vLJfjXczbNSxcEREJl241HXG+X/QCugOvh22/3MzeAo6pZp1TgXeDCUdgnVlAl5gOREQkzaxfv56hQ4fSqVMnVq5cmfT91yXpMKB5LBt1zpXhPS3SEyMRkQTq06cPZWVlvrTPjYcG3i96B6YLIsoXAT3NLMs5VxExrz/wrJmNxqt12RH4ELg0PBEREck0fo5cBXojuYhIWnvyySf9DqEKMzsFGAq0Bb4A7nXOFUUsY8AQ4FTn3PUN2F2bwLQoorwIb6CUlsCmiHkdgAuAJXjD97bEa+b1lpkNcM5ta0A8IiIpS0mHiIhkBDP7A/AcXg05wJHAmWZ2kHNuo5kdBpwNnIT35R+gIUlHcD+umvLKKOtkA82AY51zGwJxL8LrhP574MUqGzIbCYwE6NSpEwUFBQ0IN/GKi4tTPsaGyOTjy+Rjg8w+vnQ5tgULvErhbdu21TneeB5bXZOOjmbWxDkX7QIuIiI+cs7hnKNJk3iNgl5v1+GNRjUUWIg3UtXfgJsDw9gegpcQ/Iz3To43G7i/4CAnrYFVYeWt8BKOzVHWKQa+CiYcAM656Wa2Aa8vSZWkwzk3GZgMMGjQIJefn9/AkBOroKCAVI+xITL5+DL52CCzjy9dji1Yw9G+ffs6xxvPY6vrHWoCUBQY/3ySmV1kZvuZWXo2IhYRyRAXXXQRTZo04emnn/Y7FPBGovqHc67AOfeTc24S3uhS1wMH4yUa+zvnujrnLnbOvdHA/RUGppHv2OgBzHfORdaAgNf/I9q9qynb15iIiGSMdGleNRVvTPN9gcGBMgdsM7O5wDfAzMD0W+dccZzjFBGRKIK1GykyZG4b4KeIsteAccBdzrlRcd5fYWB/pwDvQ+g9HMcDb1WzzvvAtWbWxTm3PLDOoXi1I1/GOT4RkZSRLknHJOfcc2bWFNgbGAAMDEz3wRsNZBheIlKJ12ZWREQSLAWHzI2sLVgdmH4W9x0558zsLuBBM1uP13H9CqA9cB+AmfUEOjjnpgVWuw+4EO9lgKOBXLwmYF8SSFxERDLRUUcdxcaNG4leCZx4MXUkD4zq8W3g8ySERiHZHS8JGYhXGyIiIkmQgi8HPN7MNgEznXM/h5UnJEDn3CQzawFcjfdCwFnA0c65RYFFbgPOJ9C53Dm32syG4DUbfgYox3vPxzXqtygimSwrK4s2bdrUvmCCNHj0qkCb2f8FPi80OCIREamzFKzpOBs4C8DMVgM/4NV+DDSzecEmTfHknJuAl0REmzcMryY+vGwhXpMsERFJkrp0JNeTHxGRFBVMOlKkpqMtcBhwA/A8sA74LV4tw93AT2b2i5m9b2b3mNnZ/oUqItK4vPLKKxx22GH84x//8GX/danpaFvH5UREJMmCzatSoaYj8BLATwMfAMysJV6z2/3wmuDuh5eYHIlXA/J80gMVEWmElixZQkFBAfvss48v+681mXDORRvnXEREUsCRRx7JpEmT2Hffff0OJarAPeSLwAcAMwuOhjjQp7BERBodv0ev8v1NUiIiGWvKFMjLgyZNvOmUKXHfxb777sull17KgQceGPdtJ4pzrtQ5Ny3wHg8REUkCv5MONZsSEUmEKVNg5EgoKfF+X7rU+x1g6FD/4hIRkUbJ76RDNR0iIokwfPivCUdQSYlXHkdLly7l0Ucf5d13343rdkVEJLMo6RARyUTVjSYV51Gmvv32W0aMGMHEiRPjul0REcksficdal4lIpII3bt7TaqilcdRig2ZKyIiKWrQoEFs2LCB3Xff3Zf9x1TTYWbnmVleDfN3M7PzGhyViEi6GzsWcnOrluXmeuVxlEpD5oqISOoaMWIE//znPzniiCN82X+szaueBA6qYf5BwBP1jkZEJFMMHQqTJ3s1G2bedPLkuHciT9WaDj2kEhGRcLEmHRcAU2uY/yVwYf3D+ZWZjTCzQjPbYmZTzazG8SDNrIOZPW1m68xsg5m9bmY94hGLiEi9DB0KS5ZAZaU3TcCoVcGkIwVrOp5ED6lERFLGkiVLWLBgAVu2bPFl/zElHc65p5xzi2uYv9g591RDgwo8/XoIeBY4DdgAvGdmu1WzfDbwAfAbYAQwDOgJvGNmzRoaj4hIqkrhpCNpD6lERKR2559/PrvvvjtfffWVL/uPqSO5mb0APAe845wrT0RAZmbAHcBk59ztgbIPgPnAtcBVUVY7D+gN7OGc+zGwzhLgbaAfMCMRsYqI+C3Yp6O8PCGX5Hqr7QFU4AFWtQ+xREQkvvwevSrW5lW/BV4BVpnZI2Z2WCBJiKdeQHfg9WBBIMF5CzimmnVOBd4NJhyBdWY557o455RwiEjG6t69O+Xl5SxatMjvUKowsxfM7KRATbSIiPgs3ZKOXYAjgX8BJwMfAj+b2b1m9ps4xdQ7MF0QUb4I6GlmWVHW6Q/MM7PRZrbSzMrM7C0z6xanmEREUpKZ0bRpSo5+noyHVCIiUkd+Jx0x3amccw74BPjEzC4Dfgf8ATgXuNrMFuM1v5rinJtfz5jaBKZFEeVFeElSS2BTxLwOeO2HlwDDA8vcDbxlZgOcc9sid2JmI4GRAJ06daKgoKCe4WaO4uJinYc40bmML53P+ErS+dwFyAfOwquNvhAvAXkBeME5999EByAiIr9Kq6QjnHOuAngHr7N2b+B2vATk/4Bbzewr4G7n3Gsxbjr4JMxVU14ZZZ1soBlwrHNuA4CZLQK+Bn4PvBgl/snAZIBBgwa5/Pz8GMPMPAUFBeg8xIfOZXzpfFbPOcfgwYPZunUrM2fOpC6VCck4n0l6SCUiInXkd9IRa/OqEDPbK9CcaQ4wF+/L/VvAOYFPKfCymd0W46Y3BqatI8pb4SUcm6OsUwx8FUw4AJxz0/FGveoX4/5FRNKGmTFr1iy+/fZbtm7d6nc4UTnnKpxz7zjnhgFD8B4E9cB7SPWDmX1pZif7GaOISKbzO+mIdfSqPYAzA589A8VfAJcDLzrn1oUt/k8zmwZcB/wlht0UBqY9qNqvowcwP/D0LNICvJqOSE3ZvsZERCSjNG/enPLycsrKykKjWaUSM9sLOAPv3rEHsA3vIdUUvGv0xXgPqcY452K5X4iISB298847bNmyhVatWvmy/1ibV/0QmH4HjAKec879VMPyPwGx3gELA+udArwPofdwHI93k4rmfeBaM+vinFseWOdQvNqRL2Pcv4hIWsnJyaG4uJjS0lLatGlT+wpJkKSHVCIiUkcHHVTT+1oTL9ak4y689rdz6rj8WYG+H3XmnHNmdhfwoJmtx7tJXQG0B+4DMLOeQAfn3LTAavfhdVJ8x8xGA7nA3/ASjvdj2b+ISLoJVpWXlZX5HEkVyXhIJSIiaSLWPh0HAJ2rm2lmJwb6eAChzuYxc85NAm7E63D4ErADcLRzLjgQ/W2EvenWObcar53wYuAZ4EG8N5Qf75yL1vFcRCRjBJtUpdhbye8C+jnn9nHO3V1LwgHeQ6oByQhMRKSx2bx5M1dffTVjxozxLYYakw4zyzWzbsEP3vCHe4WXhX3ygGOB3eIRmHNugnOum3Mu1zl3kHMuPMkY5pyziOUXOudOcc61ds7tFFhmQzxiERFJZcGajhRLOpLykEpERGq3adMmHnjgAR5++GHfYqiteVVLYBbQNvC7A/4e+ERjeDUMIiKSJGeccQaHHHIIO+ywg28xmFkuXjPYoHzgFTMrjLJ4E+L4kEpERGrm98hVUEvS4ZxbbWZDgd/gJRR/xnvD7Owoi1cAq4EX4h2kiIhUb/To0X6HAHpIJSKSslI+6QBwzr2D9xJAzKw78HBYB24RERE9pBIRSWFpkXSEc85dkKhARESkfhYvXszq1avp1asXO+20k29x6CGViEhqSoWko7aO5IvM7KSI32v7LEx82CIiEnT99dczePBgCgoK/A4lxDl3gRIOEZHUkApJR201HUuBzWG//4je8C0iklJSYfQqM1sEXOOcez3s99o451zPxEYmIiLNmjVjzz33JC8vz7cYautIfljE7/kJjUZERGKWCkkHekglIpKyhgwZwg8//FD7ggkU6xvJt2Nm2cDvgG3AR865bQ2OSkRE6iz4ckA/30iuh1QiIlKTmJIOM2sO3A/0cM79LvD7VGCfwCJzzexw59wvcY5TRESqkSI1HbXSQyoRkcarxo7kUYwGRuJVmwOcB+wLPABcCOwM3BGv4EREpHbBmo5USjrMrLmZPWRm7wd/B74CXgfeBmaZWUc/YxQRaSweeughcnNzue6663yLIdak40zgMefcRYHfTwM2Ajc6554CHgROjGN8IiJSixSt6dBDKhGRFLFlyxa2bNmCc/51tYu1T8eueM2pMLNc4FDgzbAq8h+BHeMXnoiI1GbEiBGcfPLJdOnSxe9QwgUfUo0I/B7+kGqbmfUALgIu8StAEZHGIh2GzI20Cugc+PkYoDnwVtj8/sDyOMQlIiJ1tMsuu7DLLrv4HUYkPaQSEUkR6Zh0fAJcY2alwOV4wyO+amY74FWXjwQeimuEIiKSjvSQSkQkRaRC0hFrn45rgG+B8UAHYIRzbgOwd6DsK+D2OMYnIiK1mDp1KiNGjOCRRx7xO5RwwYdU1wF/I+whVaBsJPCGnwGKiDQWaZd0OOc2OOeOAjoB7Z1zLwRmzQIOdM7lB5IQERFJkkWLFvHoo4/yySef+B1KuGvQQyoRkZSQCklHvV4O6JxbHfH7ZrwbiIiIJFkqjl4VSDCOMrMOwEbn3NbArFl4D6l0zxARSZIzzzyTPn36cOCBB/oWQ8xJh5kdAwzFa6ubFWUR55w7oqGBiYhI3QSTDj/fSF4dPaQSEfHfEUccwRFH+Pv1PNY3kl8G/CPw6yog9e5wIiKNTCq+HBD0kEpERH4Va03HNXhtdI91zq2KfzgiIhKrVGxelcyHVGY2ArgJb5jeWcB1zrmpdVx3DDDaOWeJik9ExG/vvPMOa9eu5cgjj6Rz5861r5AAsY5e1RV4WAmHiEjqCNZ0pFjzqmvwHlJ1cc51cc7tFu3T0J2Y2Xl4Q7U/i/cCwg3Ae2ZW67bNrC9wS0NjEBFJdePGjePcc89l/vz5vsUQa9KxEG/kKhERSRFt27Zl4MCB7LHHHn6HEi7hD6nMzIA7gMnOududc28DJwFrgGtrWTcLeAxYXdNyIiKZIB1HrxoH3G9m/3bOzUlEQCIiEpvevXszY8YMv8OIlIyHVL2A7sDrwQLnXLmZvYX3QsKaXAu0wWsCdlfCIhQRSQHpmHQcDBQD35rZfLwnRJURy6hjoIiIJOMhVe/AdEFE+SKgp5llOecqIlcys17AGLzEZFCCYhMRSRnpmHQcAzjgJyAX7wmTiIj4zDnH1q1bQ/07UkAyHlK1CUyLIsqL8JoPtwQ2hc8INMl6FHjGOfe5mdWYdJjZSLy3p9OpUycKCgoaEG7iFRcXp3yMDZHJx5fJxwaZfXzpcGwbN24EYObMmaxYsaLO68Xz2GJKOuLR6U9EROJr06ZNtG3bltatW7Np06baV0iOZDykCo445aopj0xyAC7Ga5Z1Ul124JybDEwGGDRokMvPz489yiQqKCgg1WNsiEw+vkw+Nsjs40uHY3POu0wedthhdOpU95av8Ty2er2RHMDMuuB1FJwHbAG2OeeiXeBFRCSBUvE9HUl6SLUxMG2NNyxvUCu8hGNz+MJm1hW4B7gAKDGzpgQGVAn8XKn7mIhkouDohn42r4p19CrMbIiZzcB7evUlsB+QD/xoZmfGNzwREalNs2bNACgvL6eyMvW+M5tZFzMbbGZtzayZmcV876lGYWDaI6K8BzDfBR/t/eoIvATlJaA88JkQmFcO/DlOcYmIpJQ1a9ZQVFREmzZtal84QWK68JvZ/sCHeBftv4fNWod3wX7OzI6NW3QiIlIrMws9vUqld3Uk4SFVYWDbp4TtMxs4HvgoyvJvAPtHfO4NzNufQDMqEZFMk52dTatWrfC6tfkj1qdNfwUWA/vgjUxiAM656YGyucCoeAYoIiK1S7UmVsl4SBWoybgLuMTMxprZccBrQHvgvkAcPc3sgMDya51z08M/eEkLgd+XNyQeERGpXqxJx4HAE865LUR03HPObcJ7StQ3TrGJiEgdpWBNR1IeUjnnJgE3AufiNZvaATjaObcosMhtwNSG7kdEJF1t3LiRAw44gBNPPNHXOOrTrramO1pOPbcpIiINkGo1HSTxIZVzboJzrptzLtc5d5BzbmrYvGHOuWrbEzjn/l7TfBGRdLd582a++uorpk+f7mscsY5e9RVwDvBA5AwzawlcBHwdh7hERCQGd999N6Wlpey0005+hxJOD6lERHyWCi8GhNiTjj8DBWb2KV67WQcMNrO+wFV447BfEt8QRUSkNmeddZbfIUTSQyoRkRSQlkmHc26qmZ0APASMDxSPDUxXAH9wzn0Sx/hERCQ96SGViEgKSMukA8A594GZ9QIGAD2BLGAJMN05ty2+4YmISF288cYbLFmyhFNOOYWuXbv6HY4eUomIpIi0TDrM7GNgrHPuI+CbwCd8/onAXc65veMXooiI1OaBBx7gww8/pE+fPimRdIAeUomIpIK0SDrMLBdvvPOgfOAVMyuMsngT4Fhgt7hFJyIidZJqQ+bqIZWISGro2LEjw4YNo0+fPr7GUVtNR0tgFtA28LvDe8nT36tZ3oAP4hCXiIjEwO8hc/WQSkTqK//JfAAKhhX4Gkem6tu3L0888YTfYdScdDjnVpvZUOA3eAnFn4FXgNlRFq8AVgMvxDtIERGpWbCmw8f3dOghlYiIVKvWPh3OuXeAdwDMrDvwkHPuq0QHZmYjgJuAXfFuZNeFv/CplnXHAKP1wicRaSyCNR1+Na/SQyoRkdS0Zs0aVqxYQYcOHejcubNvccQ6ZO4FiQoknJmdhzfiyR1447hfCbxnZvs45xbXsm5f4JbERykikjpSoKbDt4dUIiJSvRdffJHLL7+cSy+9lEmTJvkWR8xD5prZMcBQoDPeSCSRnHPuiPoGZGaGl2xMds7dHij7AJgPXIs3vnt162YBj+E9QdulvjGIiKSb5s2bk52dTWVlpd+hAMl7SCUiIjVLi9GrIpnZZcA/Ar+uAhJRj98L76VRrwcLnHPlZvYWcEwt614LtAnEeFcCYhMRSUkTJkzg3nvv9TuMKhL9kEpEMsOBux7odwgZLS2TDuAa4FvgWOfcqviHA0DvwHRBRPkioKeZZTnnKiJXCowFPwYvMRmUoNhERFKSV0mcOpL0kEpEMsC4I8f5HUJGS9ekoytwTQITDvBqKgCKIsqL8IZZbAlsCp8RaJL1KPCMc+5zM1PSISLir2tI/EMqERGpRbomHQuBTokIJEzwcZ2rpjxag+WL8ZplnVTnnZiNBEYCdOrUiYKCgtiizEDFxcU6D3GicxlfOp+1+/jjj3n22Wc57LDDOPfcc2tcNknnMxkPqUQkA5z24mkA/PvMf/scSWYKJh3BUQ79EmvSMQ6438z+7Zybk4iAgI2BaWu8KvmgVngJx+bwhc2sK3APcAFQYmZN8WpECPxc6ZzbLlFxzk0GJgMMGjTI5efnx/co0lBBQQE6D/GhcxlfOp+1mz9/PosXL+aoo46q9Vwl6Xwm4yGViGQA9elIrHSt6TgYKAa+NbP5eKNERX6hb2jHwODba3tQtV9HD2C+cy6yBuQIvATlpSjbKgdux+vrISKSsVJhyNwIyXhIJSIZ4IaDbvA7hIw2atQoLrjgAvLy8nyNI9ak4xi8Zk8/Abl4o0zFW2Fg+6cA7wOYWTZwPPBWlOXfAPaPKDsbuC5QvjwBMYqIpBS/Xw4YRTIeUomISC3y8vJ8Tzgg9pcD7paoQML24czsLuBBM1sPfAFcAbQH7gMws55AB+fcNOfcWmBt+DbM7ODAtqYnOl4RkVSQgjUdyXhIJSIZIP/JfAAKhhX4GockVswvB0wG59wkM2sBXI337o1ZwNHOuUWBRW4DzufXzuUiIo1asKYjVZKOZDykEhGR2p177rnssssu/PnPfyY3N9e3OGpMOszsvPps1Dn3dP3CqbKNCcCEauYNA4bVsO7fgb83NAYRkXSRgjUdIiLis3Xr1vHss8+Sm5vLnXfe6WsstdV0PMn2Q9fWxALLNzjpEBGRuuvatSuXXXYZffr08WX/fj6kEhGR6L7//nsA9t57b5o0aeJrLLUlHRckJQoREWmQXr16MXHiRD9DeBI9pBIRqWrKFLj1VvjxR+jWDcaOhaFDk7b77777DoB+/folbZ/VqTHpcM49laxAREQkrekhlYhIuClTYORIKCnxfl+61PsdkpZ4BGs6+vbtm5T91SQlO5KLiEhsysrKmDVrFgCDBw9O+v71kEpEJCD48tVp0yByGPOSEhg+PGlJR9rUdIiISHpYs2YNBxxwAF26dOHnn3/2OxwREanuvUlJep+Scy5U06GkQ0RE4iLVhswVEWm0Cgq8aV6e16QqUvfkvLaopKSEk046iWXLltGpU6ek7LMmSjpERDKAhswVkXR1Qu8T/A4hMcaOrdqnAyA31ytPgpYtW/L006kzVoeSDhGRDBCs6ShLUrW9iEi83HDQDX6HkBjBfhs+jl6VSpR0iIhkgKZNm9KkSRMqKirYtm0bTZvq8i4i4ruhQ31LMmbNmsWOO+5It27dMDNfYgjn71tCREQkLsxMtR0ikpbyn8wn/8l8v8PIOOeffz55eXl89dVXfocCqKZDRCRj5OTksGXLFkpLS2nZsqXf4YiI1MmwfYf5HULGKS8vZ968eYD3NvJUoKRDRCRD/Oc//6Fp06a0bdvW71BEROpMSUf8FRYWsnXrVnbbbTdat27tdziAkg4RkYyRCm+cFRGJ1ZqSNQC0z23vcySZI5VeChikpENEREREfHP6i6cDUDCswN9AMkjwpYCp9DBKHclFRDLE7bffztChQ1m0aJHfoYiIiI9SsaZDSYeISIZ49913ee6551i1apXfoYiIiI+CNR2plHSoeZWISIYIDpmrt5KLiDRu33zzDT/88AO9e/f2O5QQJR0iIhkiJycHUNIhItLYtWnThgMOOMDvMKpQ8yoRkQyhlwOKiEiqUtIhIpIhVNMhIiJjx47l+OOP55NPPvE7lCqUdIiIZIjGWtNhZiPMrNDMtpjZVDM7sJblDzKzT8xsg5ktN7OnzaxTsuIVEUmkjz/+mLfffpvNmzf7HUoVSjpERDLEHnvswZAhQ2jXrp3foSSNmZ0HPAQ8C5wGbADeM7Pdqll+T+AjoAg4G7gBGBJYJzsZMYuIJFIqjlwF6kguIpIxRo0axahRo/wOI2nMzIA7gMnOudsDZR8A84FrgauirHYFsAI4zTlXHlinEPgvcBTwdhJCF5Eww/Yd5ncIGeOXX37hl19+oU2bNnTr1s3vcKpQ0iEiIumqF9AdeD1Y4JwrN7O3gGOqWWcO8EMw4QiYH5hGrR0RkcRS0hE/wZcC9u3bF++5TOpQ0iEikiEqKyspKyvDzEKdyjNccAD6BRHli4CeZpblnKsIn+GcmxRlOycGpvPiHJ+I1MGakjUAtM9t73Mk6S/YtKpv374+R7I99ekQEckQd955J7m5ufzlL3/xO5RkaROYFkWUF+Hd31rWtgEz6wqMB6YDH8c1OhGpk9NfPJ3TXzzd7zAyQrCmI9X6c4BqOkREMkYjHDI32HbAVVNeWePKXsLxEV6CcpZzLnI7mNlIYCRAp06dKCgoaEi8CVdcXJzyMTZEJh9fJh8b1Hx8v2v1O4C0Pf5U+tt17tyZ3/3ud2RnZ8clpngem5IOEZEMEUw6GtGQuRsD09bAqrDyVngJR7XjRZpZX+AdIBs4yjm3MNpyzrnJwGSAQYMGufz8/IZHnUAFBQWkeowNkcnHl8nHBjUfXz7Ry9NFKv3t4h1HPI9NzatERDJE8D0djaimozAw7RFR3gOYH63mAsDMBgP/ASqAQ5xzsxMXoojUZv6a+cxfM7/2BSWtKekQEckQjbCmoxD4CTglWBB418bxeM2mtmNmeXg1HKuAg5xzhdGWE5HkufjNi7n4zYv9DiPtzZ8/nzfffJPly5f7HUpUSjpERDJEY+vTEajJuAu4xMzGmtlxwGtAe+A+ADPraWYHhK12P14H9DuAbmZ2QNhn5yQfgohI3PzrX//ixBNP5N577/U7lKjUp0NEJEMEm1c1opoOnHOTzKwFcDXeCwFnAUc75xYFFrkNOB/vXYLZwHFAFvBclM3diDeSlYhI2vn0008B2Hffff0NpBpKOkREMsTAgQN56qmn6N69u9+hJJVzbgIwoZp5w4BhgZ/L8TqOi4hklJUrV/Lxxx+TnZ3N8ccf73c4USnpEBHJELvuuivnnXee32GIiEiS/etf/6KyspITTjiBHXfc0e9wolKfDhERERGRNPb8888DcNZZZ/kcSfVU0yEikiHWrl3Ls88+S5s2bbjgggv8DkdERJJgyZIlTJ06ldzcXE466SS/w6mWkg4RkQyxevVqrrnmGnr37q2kQ0SkkVi9ejWDBg2iZ8+etGzZ0u9wqqWkQ0QkQzS2IXNFRAT2339/vv76a7Zu3ep3KDVS0iEikiEa45C5IpL+rj/wer9DyAjNmjXzO4QaKekQEckQqukQkXR0Yp8T/Q4hbX300Ud06tSJvn37+h1KrTR6lYhIhlBNh4iko/lr5jN/zXy/w0g7zjkuvfRS+vXrx2effeZ3OLVK2aTDzEaYWaGZbTGzqWZ2YC3LH2Rmn5jZBjNbbmZPm1mnZMUrIuK3YNJRWlqKc87naERE6ubiNy/m4jcv9juMtDNz5kwKCwvp2LEjBx5Y49fklJCSzavM7DzgIeAO4GvgSuA9M9vHObc4yvJ7Ah8BHwBnAzsCfwmss3/gLbQiIhktKyuLli1bkpWVRXl5ecq37xURAbjziDv9DiEtBd/NccYZZ9C0aUp+pa8i5SI0M8NLNiY7524PlH0AzAeuBa6KstoVwArgtGCCYWaFwH+Bo4C3kxC6iIjviouL/Q5BRCQmB3U9yO8Q0k5lZSUvvPACAGeffbbP0dRNyiUdQC+gO/B6sMA5V25mbwHHVLPOHOCHiBqNYOPA3RISpYiIiIg02Jc/fQko+YjFl19+ybJly+jWrVtaNK2C1Ew6egemCyLKFwE9zSzLOVcRPsM5NynKdoJDIcyLc3wiIiIiEiejPhoFQMGwAn8DSSPBplV/+MMfaNIkZbtoV5GKUbYJTIsiyovw4q31VYtm1hUYD0wHPo5rdCIiKey4446jV69eLF68Xfc3ERHJEC1atKBNmzZp07QKUrOmwwLTyKFXguWVNa7sJRwf4SUoZ7lqhnAxs5HASIBOnTpRUFBQ33gzRnFxsc5DnOhcxpfOZ9398MMPLF26lIKCApYuXRp1GZ1PEZH0Nn78eP7617+GRi1MB6mYdGwMTFsDq8LKW+ElHJurW9HM+gLvANnAUc65hdUt65ybDEwGGDRokMvPz29Y1BmgoKAAnYf40LmML53PumvXrh1Lly6lX79+DBo0KOoyOp8iIukv+ELYdJGKzasKA9MeEeU9gPk11FwMBv4DVACHOOdmJy5EEZHUFLwJ6QWBIiKZ5+2332bixIls27bN71Biloo1HYXAT8ApwPsAZpYNHA+8FW0FM8vDq+FYBRzhnFuejEBFRFJNMOkoLS31ORIREYmn0tJSrrjiChYvXkzr1q0577zz/A4pJilX0xGoybgLuMTMxprZccBrQHvgPgAz62lmB4Stdj9eB/Q7gG5mdkDYZ+ckH4KIiG+C7XtV05HCpkyBvDxo0sSbTpnid0Qikgbuu+8+Fi9ezN57780555zjdzgxS8WaDpxzk8ysBXA13gsBZwFHO+cWBRa5DTgf712C2cBxQBbwXJTN3Yg3kpWISMZTTUeKmzIFRo6EkhLv96VLvd8Bhg71Ly4RSWnLly9n7NixANx///1p8QbySCkbsXNuAjChmnnDgGGBn8vxOo6LiDR6J510Ej169KBnz55+hyLhgh33p02DyFqokhIYPhweeQQ0qpiIRHHLLbewefNmTjnlFI444gi/w6mXlE06REQkdsOGDfM7BKlJdc3e1BxOGrE7j7jT7xBS2ldffcXTTz9Ns2bNmDAh6vP4tKCkQ0REJNGCNRh5eV6Tqkjdu6uWQxqtg7oe5HcIKe3hhx8G4Prrr6dHj8jBXdOHkg4RkQyyePFilixZwm677UZeXp7f4UiksWOr9ukAyM31ykUaqS9/+hJQ8lGdRx55hIMPPpgzzjjD71AaJOVGrxIRkfp7+OGHOfzww3n++ef9DkWiGToUJk/2ajbMvOnkyepELo3aqI9GMeqjUX6HkbKysrK48MILad26td+hNIhqOmpRWVnJsmXL2Ly52hehZ4y2bdsyd+5cv8OoUcuWLdl1111p0kT5skg0GjI3DQwdqiRDJMzDJzzsdwgpp7KyklGjRnHJJZdkTK21ko5arFmzBjOjT58+Gf9Ft6ioKKWz6MrKSn7++WfWrFlDx44d/Q5HJCVpyFwRSTd92vfxO4SUc9NNNzFhwgReeeUV5syZk5ZD5EbK7G/RcbBhwwY6deqU8QlHOmjSpAmdOnVi48aNfocikrJU0yEi6eaN+W/wxvw3/A4jZdx3331MmDCB7OxsJk2alBEJB6imo1YVFRVkZ+s1IKkiOzubbdu2+R2GSMpSTYeIpJsJU71hYE/sc6LPkfjvn//8J9dddx0ATzzxRNq+kyMaPb6vAzPzOwQJ0N9CpGbBpEM1HSIi6aWgoIDzzjsPgHvuuYehGdb3S0mHiEgGCTavUk2HiEj6WLlyJaeccgpbt27lqquu4oYbbvA7pLhT8yoRkQxywgknMG/ePHbccUe/QxERkTrq3Lkzt99+O19++SX33ntvRrbsUNIhIpJB2rZtS9u2bf0OQ0RE6mDlypV07twZgKuvvpqrrroqIxMOUPOqjJWXl4eZbffp27cvS5YswcxYsGABALNmzeKzzz6r975mzZpFjx49yM3N5Z133onXIYiIiIhkpLKyMq688kr23HNPFi1aFCrP1IQDlHRktAkTJrBixYoqn08//ZSuXbuyYsUKdtttNwBOPfVU5s+fX+/9jBkzht13350ffviB/Pz8KvPef//9qMlP+OeZZ55pyGGKSJjCwkLOOeccRo3S231FRFLR0qVL+e1vf8uDDz7I5s2bmTFjht8hJYWSjgzWpk0bOnfuXOXTrl07srKy6Ny5M1lZWQA45xq0n40bNzJo0CDy8vJo0aJFlXmHHHJIlaSna9euXH/99VXK/vCHPzRo/yLyq40bN/L888/z/vvv+x2KJMOUKZCXB02aQF4eHT/80O+IRKQG77zzDgMHDuS///0v3bp14/PPP+eMM87wO6ykUNLRCIU3r8rPz2fp0qWMGDGCSy65JOryy5Yt48wzz2SnnXaiffv2XHHFFaGRcfLy8igoKODOO+8kLy9vu3VbtGgRSnhatGjBsmXLGDJkSJVEqFmzZok8XJFGRS8HbESmTIGRI2HpUnAOli6lz/jxXnmi9xuW6CR8fyIZYOnSpZxxxhkcd9xxrFu3juOOO45vvvmG3/zmN36HljTqSN7Ivfzyy+yzzz5ce+21nHnmmdvN37p1K4cffji9evWioKCAtWvXctFFF+GcY+LEiXz99decfPLJDB48uNbmHN988w3OOfbbb79EHY5Io6eXAzYS+fkwbRpEJJdZZWUwfDg88ggUFMR/v8FEp6TE+33pUu93gAx7p4Akz8MnPOx3CAm3bds2Xn31VXJychg9ejQ33XQTTZo0rmf/jeto46Sm/gmTJ08OLTd58uQalw2333771Wm5WFxxxRW0atWqyueXX36pssxOO+1EVlYWbdq0iTrizbvvvsuyZct49tln6d+/P4cddhgTJ07k4YcfZuPGjXTo0IFmzZrRsmVLOnToUGM8M2bMoF27dnTr1q3exyQiNVPS0YhUV5uVqFqu/HwvoQkmHEElJV55RJ8+kbrq074Pfdr38TuMuNqwYQP3338/lZWVAPTs2ZOnn36awsJCbr755kaXcIBqOjLa6NGjt2sn2K5dO0oibxg1mDt3Lr169WKnnXYKlR100EFUVFRQWFjIoEGD6rytb775hoEDB9Z5eRGJnV4OmD6+++47KioqaNas2Xaf3NzcUAIZVUGB17Rp6dLt53XvnphaDkh+oiONwhvz3wDgxD4n+hxJwzjnmD59Oo8//jjPP/88GzduZOeddw61JDn77LN9jtBfSjrqoa4dr0eOHMnIYLVzLRIxckGHDh3o1atXg7YR7aZXUVFRZVpX33zzDaeeeup25aeccgrNmzdn0aJFrF27lhdeeKFRtXEUiafg/1n16Uh9p512GoWFhVHnXXfddUyYMAGAzz77jOOOO45mzZrRvHnz0PSUigrGmNEi7J5U1rQpD3XqxNd//CPNmzev8unduzcXXnghAOXl5Tz11FOheTk5OaFpTk4Ou+++e+hhU0lJCWVlZeS88w45e+yB/fjj9gEnMtGRjDdhqvdvPV2TjvXr13PvvffyxBNP8P3334fKDzvsMHr27OljZKlFSYfU2IRrzz33ZMGCBaxbty50A5o6dSpZWVkxJTTFxcUUFhZGremYPXs2F110Ef/85z95/vnn+dvf/sa//vWv2A9ERMjJyeGQQw6hVatWfocitdhzzz3Jzc1l69atbN26lfLycrZu3UpZWVmVv19paSnFxcXbrX8P8BPwVJcuZK9YAd26cXdODqP/+1/473+3W/6II44IJR3FxcWMGDGi2theeOGF0MiCEydO5KabbgLgbOARoGX4wrm5MHYsAEOHDmXNmjW0aNEilMAEfz7qqKM47rjjAPj555959913vQTn66/p9/zz5KxezdZOnVh51VXsfP31oUFGysvLycrKapTNURqLl858ye8QYuacC31/uu6661iyZAkA7du359xzz+WCCy6gX79+PkaYepR0CK1atWLevHmsW7eO1q1bV5l35JFH0rt3b84991zGjRvHunXruOqqqzjrrLNo165dnfcxc+ZMKisrt0s6iouLKSsrC93Q9t57bx577LGGH5RII9WsWTP+85//+B1GUpnZCOAmYFdgFnCdc25qDcv3Be4HBgPrgInAPa6h44fH6LXXXqvTcocffjgbN26kvLycsrIyysrKQslJWVkZlf37Q6BZXftJk/hn+/aheeGf8P50WVlZDB8+nNLSUsrKyqpMS0tL6dixY5Vld9hhB0pLS3k+0GzvTqAb8HOTJnSdPDnUifw///kPy5Yti3ocubm5oaTju+++46KLLgolMcHB1puvXEn7UaPY2KIFHa65BoCzzjqLl19+OVTL07p1a3Jzc2nRogWHHnoo//jHPwAoKiri8ssvp0WLFuTm5oaWCf589NFHh95P9dNPP7FixYrQvPBP06b6apRs7XPb+x1CrdavX8+nn37K+++/z/vvv89rr73G3nvvDcDRRx/NsmXLuPDCCznhhBM0Kmc19D9LuOKKK7jhhhsoLCzc7ibYpEkTXn31Va644goOOOAAWrVqxdChQxk3blxM+/jmm29o27YtPXr0qFI+e/Zs9t5779BFfubMmfTv379hByQijYaZnQc8BNwBfA1cCbxnZvs45xZHWb4j8CHwPXAmMBAYC1QA45MVdyyCg33UxV577bXdS1qjadOmDY8++midtnnddddx3XXXAd7T3a1bt7JlyxZWl5Vh5eWw666hZV944QWKiorYsmVLKIHZsmULW7ZsYfDgwaHldv6//+OCzp25+5dfaBnoaBvUEsi5+WZ49VUoKAg15Q0mT0VFRaFlu3fvHvp506ZNNb5s9rXXXgslHY8//jhjxoyJutwuu+xSJXE65phj2LRpEy1btiQ3N7fK9LjjjuPoo48GvESmoKCAli1bRl22S5cuofdjSVVPznoSgGH7DvM1jnBlZWXcd999fPPNN3zzzTcsXLiwyvwPP/wwlHScddZZdfp/19gp6chQwWq+aPLy8qr0S7n44ou5+OKLq1zII5d/8803q91eQR3a8V599dVcffXV25XPnj2bJUuWUF5eTnFxMRMnTuTll1+udXsiUr3NmzdTWlrKjjvumNFNUsxr23AHMNk5d3ug7ANgPnAtcFWU1S7Hu/ed5JwrAd42s+bALWZ2v3OuPDnRpyczC/UDiWbIkCF12s4+rVrxeJ8+sHJl1PlZYX2SXn31VSorKyktLeWDDz5gv/32o6SkhC1btpCbmxtarm3btjz55JNs2bKFkpKS0DLBn8MfenXq1IlBgwaF5pWUlLB582ZKSkrIzs6uEsvXX3/NunXrosbZsWPHUNIxffp0zjvvvGqPecWKFXTu3BmAM844g88++yyUoLRs2ZKysjJ23XVXDj744FDt/8aNG3nggQe2S2CC0379+rHjjjsCsGXLFpxz5OTkpN3/+2QnHZWVlaxevZoff/yRhQsXsmDBAhYuXMjWrVuZEnjvTLNmzbj77rvZsGED4A3Ssf/++3P00Ufzu9/9TsP/14OSDvHV7NmzOe200zj44IPZvHkzd999N7uGPTUTkdj16NGDX375pcqXnAzVC+gOvB4scM6Vm9lbwDHVrHMk8FEg4Qh6Ffg/YH/gy8SEKlUEH1bVcQSuJk2akJubS9u2bau9R7Rq1Yrzzz+/Tru/5JJLor4QN1iTE+7jjz+muLg4lJSETw866KDQcl26dGHo0KFV5of/HN5PZ/Xq1axatWq7/c+cOZMWLVpUWe7Pf/5ztcfxwQcfcOSRRwJw++23c/fddwPei3nDm5btvvvuVR4eDh8+nIqKilATtPBPfn5+qCn08uXLmT17dqh/TuTgBF26dAklOJWVlUlNdsL7VDjnmDt3Lps3b2b9+vVs2LChyvT0008PjbY5ceJErr766qiD4WRnZ/P000+TlZWFmXHHHXfQunVr9ttvP/bYY4/tElKJjZIO8dXs2bN55plnYm6uJSLVa0Tv6ugdmC6IKF8E9DSzLOdc5DeL3kBBlOWD85R0JNPYsVVfNghVOqYnzJQpcOut8OOP0K2bt7+hQ0M1OeH22WefOm1y8ODBVZqQ1eSNN94IJTLBxOTLL7+kV69edOrUKbRcmzZtuPXWW6skMZs3bw7V4ES+H6tFixah5mxbtmwJ1dBENut67rnnqr0+3HvvvaGk4+OPP+bcc8+t9jiKiopCyVR+fj5ffPEF2dnZNGvWjOzsbJo2bUrTpk05/fTTQ6NXLliwgBNPPJEmTZqEPgvXe02X+t/bn6effpp9990XgDvuuIOnnnoqNNBC8LN161b22GMPZs2aFYqlX79+oXdiRNpll11CSUfr1q2pqKigXbt27LLLLvTq1YuePXvSq1cvevXqVaUlyJVXXlntsUvslHSIr3788Ufy8vL8DkMkowS/NDWCYXODHR0i24YW4b38tiWwKco60ZYP316ImY0ERoLXJKcuzUn9VFxcnPIxVrHLLnS89lp6PPoozX/5hbKOHVl00UX8sssuUYfgjcfxdfzwQ/qMH/9rE66lS6kYPpz5c+fyS6DWwA99+vShVatWlJaWVjnGI2uIaf369aFljznmGI455hgqKytDAw0E+9WYWZVt3njjjaHBA8IHJSgrK6uy7MqVK9l///0pKyur8oU/+PO0adNCfTLXrl1LZWVlaDvh5s+fH/rbLV68mHnz5kU9nu9++o7PPvss1KRp9uzZLFq0KOqya9eurXJMPXv2xMxo3br1di9GzsrKCi3buXNn3nvvvWo7e3/++efVnu/qpN3/uxjE89iUdIivfow23ruINEgjqukIjvcdOepUsDzaY0+LsnzQdss75yYDkwEGDRrkUr2zaEFBQfp1aM3Ph7/+FYAcYK/AJ5oGHV9wvWnTtnuZYVZZGXuNH89en38e+/tGqqk1iVUy/3Z13U9+fj433HBDnZadM2cOFRUVoSGgt23bFvrk5OTw3XffkZ+fzwEHHMDgwYOprKzEOUdlZSUXvnohZsZjJz9Gr169aNnSG5R5r7324q677iI7O7tKDUqzZs3IycmpMuT///73v5jPQ7yk5f+7OornsSnpEBHJMI3oBYEbA9PWQHgD+VZ4CcTmatZpHVHWOmyeZLp4vlV9ypSqzcOWLvV+h3olHqFtxiGJ8UNWVlaob0h1cnJy2Guvqmll65nef8HIpmwdO3asMnyzpLf0Gt5ARERqFWxe1QhqOoKv8+4RUd4DmF/NezcKq1kevFGvJFMVFHifsGF2q4jlrer5+d5n+PCq/VHA+3348F9rVmIRTGKWLgXnfk1iAiMq1Wt7eXnQpIk3re924r2tiO29cMM0jpi6fcd6X2KL93FKiJIOEZEM04iaVxXivZT7lGCBmWUDxwMfVbPOR8CRZhb+Uu1TgLV4LxaUTDd2rNdZPVx9O6/Hq9YkP599r7mm5iQmVvFMYBKRDIVtr/PaMm588n/+xxbv45Qq1LxKRCTDjBo1ipEjR2b8izadc87M7gIeNLP1wBfAFUB74D4AM+sJdHDOTQusNgnvBYJvm9nfgH2AW4CbnXNbI/chGSjYVKkhTZhiHPK3zuKRxNTQdyWUwDzySN3ii+e2atleztZKb3t1/Tuk8nFKVEo6REQyzGGHHeZ3CEnjnJtkZi2Aq/FeCDgLONo5Fxzy5jbgfAKdy51zK8zsSOB+4CW8viC3OudS8m3kkiBDh8ann0S8hvwtKGBWQQH5w4ZVn8TEKp59V+K5rXhvL1W3JdtR0iEiImnNOTcBmFDNvGHAsIiy6UDdXp0tUpN41JqEi0cSE89amHjX6NRle/Hcll/HKVGpT4eISIb54IMPuOuuu/jmm2/8DkUk8w0dCkuWQGWlN21IDcrQoTB5svcl18ybTp5cv23Gs+9KPLdVzfa25TTzP7Z4H6dUoaQjWYIjXYiIJNirr77KLbfcwtSpU/0ORURiFa8kJp4JTDy3FWV7K9s1Z9x5PfyPLd7HKVWoeZWISIZpRKNXiUhN4tV3Jd7bitheZ7zOV/HYVoPF+zglRDUdGSovLw8zw8xo0qQJrVq1YsiQIbz33nt13sYnn3zC999/n8AoRSQRGtF7OkREJE0o6chgEyZMYMWKFSxbtoxp06YxZMgQjj/+eD788MM6rX/44YezcuXKBEcpIvHWiN5ILiIZYPyX4xn/pQaQy3RKOpJhyhRv7OdPP03q2y3btGlD586d6dKlC3379uWee+7h7LPP5tprr03K/kXEH2peJSLp5M3/vcmb/3vT7zAkwZR0JFrw7ZbBJ44+v91y5MiRfP/99yxYsIB58+Zx7LHH0rp1a3Jycvjd737HnDlzAK95FsBRRx3FmDFjAHjiiSfYc889adasGe3bt+fSSy9l27ZtvhyHiFRPzatERCTVpGzSYWYjzKzQzLaY2VQzO7CW5fua2UdmVmxmP5rZn8zMkhVvSHCUquBn+PCq423Dr2+3DF8uSfbaay8A5syZw0knnUT37t2ZNWsWX375JRUVFdx4440AfP311wC8+OKL3HDDDXz++edcdtlljB07lsLCQh566CGeeOIJXn755aTFLiJ106pVK3bYYQeaNWvmdygiIiJAiiYdZnYe8BDwLHAasAF4z8x2q2b5jsCHgAPOBCYDY4HrkxFvjVLs7ZZt27YFoLi4mIsuuojx48fTs2dPBg4cyNChQ0M1HR06dABgxx13pFWrVrRo0YLHHnuM3//+93Tv3p3TTz+dAQMGhJYXkTibMsVrjtmkSczNMocPH8769esZP15tpEVEJDWk3JC5gdqJO4DJzrnbA2UfAPOBa4Groqx2Od6xnOScKwHeNrPmwC1mdr9zrjw50bP9GytT7O2WmzZtArz+HieffDLPPPMM06dPZ968eXzzzTe0a9cu6nr77bcfLVq0YPTo0cyZM4fvvvuOwsJCjjjiiGSGL9I4BJtlBmtJg80yQUM5iohIWkrFmo5eQHfg9WBBIGl4CzimmnWOBD4KJBxBrwI7AfsnJsw6SrG3W86ePRvw+mzsv//+PPvss+yxxx7cfvvt/OUvf6l2vffee4+BAweyYsUKjjnmGF566SWGDBmSrLBFGo/ammXWRQNqSURERBIh5Wo6gN6B6YKI8kVATzPLcs5VRFmnIMrywXlfxjXCWASfSg4f7jWp6t7dSzh8elr5+OOPs99++7F06VJ++uknZs+eTXZ2NgBvvvkmzrmo6z3yyCOcf/75PPzwwwBs27aNhQsX8tvf/jZpsYs0Gg1pljllChXDh5MVOXgFqJZERER8k4pJR5vAtCiivAivZqYlsCnKOtGWD99eFWY2EhgJ0KlTJwqqaerUtm1biooiNx2jk06ixf5ehcuWt98ORNfAbdbCOcfq1atZsGABzjnWrl3L008/zQsvvMBrr71GdnY2JSUlTJkyhUGDBlFQUMDkyZNp0aJF6HhbtWrFjBkz2GOPPWjTpg1ffPEFU6dOJSsrK/QOkKKiooafnxiVlpZW+/dKFcXFxSkfYzppVOdzzBgOOOssclat2m5WaadOTKvhPOx7zTW0/uEHssojWpSWlFB6/fVM22UXoJGdTxERSQmpmHQER5yKfOQeLK+sZp3oj+ijL49zbjJeh3MGDRrk8qsZQWru3Lm0bt26hnDrKCsLID7bqgMzY9SoUYwaNQqAjh07MnDgQD7++GMOPvhgAEaPHs1NN91EaWkp/fr149577+XSSy9l/fr1dOvWjWuvvZYxY8awatUqxo4dy7BhwzjyyCNp06YNxx57LJdffjlz5sxJ2jEF5eTkMGDAgKTuM1YFBQVU929KYtfozueECVX7dADk5pIzYULN52GHHSAy4QjI+eWX0LqN7nyKiIjvUjHp2BiYtgbCH/W1wksgNlezTuQ339Zh8xqdJUuW1LrM6NGjGT16dOj3oqIiLrnkktDvd9xxB3fccUfo9/feey+uMYpINYLNoG69FX78Ebp1q1uzzIKC6gev6NYt3lGKiMRFwbACv0OQJEjFpKMwMO1B1X4dPYD5Lnqng8LAfCKWB2/UK/+pKYOIxGLo0Pr1wRg7NmotiV+DV4iIiEBqjl5VCPwEnBIsMLNs4Hjgo2rW+Qg40sxahpWdAqwFZiUiSBGRlDR0KEye7A1aYeZNJ09WJ3IREfFVytV0OOecmd0FPGhm64EvgCuA9sB9AGbWE+jgnJsWWG0ScCXe+zn+BuwD3ALc7JzbmuxjEBHxVX1rSURERBIkFWs6cM5NAm4EzgVeAnYAjnbOBYfBvQ2YGrb8Crx3dTQNLD8SuNU5p9fxioiIiIj4LOVqOoKccxOACdXMGwYMiyibDiTkbXXOObwXpYvfqnuPiIiIiIikrpSs6UglWVlZlFczBKUkX3l5OU2bpmyuLCIiIiJRKOmoxQ477MCqVauorIz6ug9JosrKSlatWkXbtm39DkVEREREYqBHxrVo3749y5YtY/781Bh5N5FKS0vJycnxO4watWzZkvbt2/sdhoiIiIjEQElHLZo0aUK3RvJSrYKCgpR/07eIiIiIpB81rxIRERERkYRS0iEiIiIiIgmlpENERERERBJKSYeIiIiIiCSUkg4REREREUko0xuewcxWA0v9jiMFtAfW+B1EhtC5jC+dz/iK9Xx2d851SFQw6SJN7hWZ/n8lk48vk48NMvv4dGy/qvZ+oaRDQsxsunNukN9xZAKdy/jS+Ywvnc/Mlel/20w+vkw+Nsjs49Ox1Y2aV4mIiIiISEIp6RARERERkYRS0iHhJvsdQAbRuYwvnc/40vnMXJn+t83k48vkY4PMPj4dWx2oT4eIiIiIiCSUajpERERERCShlHQ0EmY2wswKzWyLmU01swNrWf4gM/vEzDaY2XIze9rMOiUr3lQX6/mMWHeMmamKMUw9/n12CPybXBf4N/q6mfVIVryprJ7/1z83syIzW2Rmo80sO1nxSmzq8fc92sy+NrPNgfWuNDNLVryxyPTraj3+dm+amYvyaZWsmOsqk6/hsRybmS2p5m/mzGx0MuOuq2TeM5R0NAJmdh7wEPAscBqwAXjPzHarZvk9gY+AIuBs4AZgSGCdRv9lJNbzGbFuX+CWhAaYZurx7zMb+AD4DTACGAb0BN4xs2ZJCDll1eNc9gTeB4oDy98H/AkYl4x4JTb1+PseCLwJfA+cDDwC3Atck4RwY5Lp19V6Hl9/4H7gwIhPSUKDjVEmX8Pr8Xc7le3/Xv/Cu8b+M9Hxxirp9wznnD4Z/AEMWAL8v7CybGAR8EA160wMzM8OK9sfcMBxfh9Tup3PsOWygK+AZd5/Pf+Px+9PPf99Dse76XYLK9sXWA7s5/cxpdm5/BOwBWgZVnYnsIlAnz99UuNTz7/vi8Cs8L8l8ASwwO/jaeixhS2X8tfVev7tdgjcc4/xO/4EHFtaXMMb8u8ybPlBQDlwgd/HE6e/XYPuGarpyHy9gO7A68EC51w58BZwTDXrzAEmBJYLmh+Y1vrUKcPV53wGXQu0Af6RsOjST33O56nAu865H8PWmeWc6+Kcm5HIYFNcfc5lc7wb4pawsrVAq8A8SR31+fteD5ztAt8MAraSen/bTL+u1uf4+gemsxMbWoNl8jW8If8ugx4AvgaejHdwcZD0e4aSjszXOzBdEFG+COhpZlmRKzjnJjnnJkYUnxiYzotzfOkm5vMJYGa9gDF4VcllCYsu/dTnfPYH5gXaka40szIze8vMuiU00tRXn3M5BagAxpnZTma2P17Tm1ecc6UJi1Tqoz7X8p+cc3MBzGyHQFOKYHOKVJLp19X6XufKgL+a2VozKzGzf5lZ50QGWg+ZfA2v17/LIDM7Ga951fURiX+qSPo9Q0lH5msTmBZFlBfh/f1b1rYBM+sKjAemAx/HNbr0E/P5DHTafBR4xjn3eWLDSzv1+ffZAbgA70nMcOBcYC/gLTNrmqA400HM59I5txCvz9YNeE+r/gv8gnd+JbXU+1puZt2B9cBTeP07/l8iAmyATL+u1udv1x/vyXERXs3AZXhfYD82s1Sqqcrka3hDvz9dC3zunJsa78DiJOn3DCUdmS84Sklklh0sr6xxZS/h+Ajv38pZKZqtJ1N9zufFeNWYf0pUUGmsPuczG2gGHOuce8s59yJwBtAX+H1CokwPMZ9LM7sI74vbo8AReDf/HfFu/qn0xUYadi3fBBwOnIP3951qZrnxDa9BMv26Wp/juxc43Dl3tXPuP865J/E67u4JnJmQKOsnk6/h9f4/Z2Z9gEPxBgJIVUm/ZyjpyHwbA9PWEeWt8P5Bba5uxcCIIF/iZcNHBTLcxi6m8xlI2u4BrgZKAk9xmgTmNTWzxv5/sD7/PouBr5xzG4IFzrnpeKNu9It/iGmjPufyZuBt59zFzrmPnXPPAscBBwNDExap1Ee9r+XOufXOuU+cc8/jPTXvjfcFNlVk+nU15r+dc26ec+6TiLKv8K5z+yQgxvrK5Gt4vf/P4Y0WV4w3elyqSvo9I9X+Y0r8FQamkeNf9wDmV1dzYWaDgf/gtd07xDmX6p3ZkiXW83kE3n/ol/A6X5UDEwLzyoE/JyjOdFGff58L8J6SRWrK9k9sGpP6nMuuwLTwAufcPLxq873iHqE0RMx/XzM7JdDmOtz3eNeeXeIfYr1l+nW1Pn+7s8zstxFlhtfkak1CoqyfTL6G1+v7U8AxwDsp3jcu6fcMJR2ZrxD4CTglWBAYI/t4vGZT2zGzPOAdYBVwkHOuMNpyjVSs5/MNvOGGwz/3BubtD0xOYKzpIOZ/n3hjhA8xsy5h6xyK93Tmy4RFmvrqcy7/h/cOnpBA59x2wOKERCn1VZ+/7814/fHCHYbXvOW7+IdYb5l+Xa3P3+5S4P6IWpvjgBZ4DwRTRSZfw+tzbMHkcBARX85TUPLvGYkY+1ef1PrgdUCrBMbiXbTexmvj2yMwvydwQNjyrwHb8F4MeEDEZ2e/j8fvT6znM8r615Ci48mnw/nE64S4Evg2cLE8B/gZ+AJo4vfxpNm5PAPvyWKwfe5QvBvRYqC138ejT4P/vicG/r4PB/6+lwKrgU9IsfewZPp1tR5/u6MDyz8HHAVcDqwDXvL7WOJwbGlzDa/Pv0sgL/D/7ni/40/A365B9wzfD1if5Hzwxmv/Ee+FPF8CB4bNezJ4scZ7AlYe+EcV7XOD38eSCp+6ns9q1k3pm2M6nM/AhfBVvFE21gWW2cHv40iFTz3O5e+Bb/CG5/wReAzo6Pdx6BO3v+9JeO8JKMF7+dq9QK7fxxGPY4tYN+Wvq/X4252ANzrQ5sDfbjzQwu/jiNOxpc01vB7H9hu870tD/I49QcdX73uGBTYgIiIiIiKSEOrTISIiIiIiCaWkQ0REREREEkpJh4iIiIiIJJSSDhERERERSSglHSIiIiIiklBKOkREREREJKGUdIiIiIiISEIp6RARERERkYRS0iEZy8yONrMCMys2s9Vm9qCZ5SR4nwVm5gKfaQne1xIzK4jY95JE7rOWeF4IO3bf4hARiZXuF8ml+0Xj1NTvAEQSwcyuB8YDLwDXAgcClwPZwMUJ3v2awD5XJ3g/kcYCLZO8z3APAm8CtwItfIxDRKTOdL/whe4XjZA55/yOQSSuzOxI4H3gJufc+LDyd4HDgA7OuU0J2ncBkOecy0vE9iP2tQRY4pzLT/S+YpHMcyAi0hC6X/hL94vGRc2rJKOYWRPgfmAmMCFidgHQDOib5LBERCTF6H4hklxKOiTTHA3sBTzgtq/G2xqYtq3vxs2sp5ntEeM6S8zsETN7zMxKzWyZmXUwzyVm9l8zKwrMm2dmfzIzi9jGH8xslpltMbPvzeywKPup0ka3rtsPxPeQmf3RzOYElis0s8sjtr+jmT1pZj+aWZmZLTSzcYlu9ywikiC6X/z6u+4XknDq0yGZ5g9ABfCZmbWPmNcpMC1qwPY/AroDVtuCEc4G5gNXA52dc6vN7K947VmfAh4BWgPnAXcBKwPlmNkw4AlgKnATsDteW9gmwJIa9vmXumw/4FjgTOAfgXkXAw+a2WLn3NuBZV4EBuA9GVyB1+75ZqAdMDLG8yEi4jfdL36l+4UknnNOH30y5gMsBVwtny4N2P4S779NtfML8NrNRq5TAfQMK8sGNgLPRyzbBigFXg/8ngWsAv4LZIctNyxwLAXR9l3X7YfFVwn0DyvrHCibEvi9Y2B/N0Rs73Hgw9rOgT766KNPqn10v9D9Qp/kflTTIRkj8KSqG/AKMCnKIi8CZc655fXdh6t/Z7cFzrmFYdspN7NOeBf7cO2BTUCrwO8D8S7gY5xz5WHLPQPcW0Ocdd1+0Hzn3Oyw9Vea2Sq8mwl4N6Ri4DIzWwy865zb7Jy7sNojFhFJUbpfVIlT9wtJCiUdkkl6BKZfO+c+DJ9hZrsBOwLPhZVdDpwP9AemucSO6vFLlLKtwPFmdjLQB68afMfAvGB/q7zAdGH4is65CjMrrGWfddl+ULThGsvwnpzhnCszs4vxqt1fAsrM7FPg38DTzrnSWmIREUklul/Evv0g3S+kXtSRXDJJ8GlMtDa4pwem/wwrW4HXXvW+RAYVUBH+S6Bj3rN4F+TdgC+BG/Au9D+FLRrs3Bit8121/39j2H5QZW0H4Jx7DugKDAfeAg4AHgammVnz2tYXEUkhul/Evv0g3S+kXlTTIZkkOJZ6m/BCM2sGXIrXMe+tYLlz7uXA/G7JCjDMIXidBf/inPtzsNDMmuJ1tFsUKApOe4evHLhJ5AFzGrj9OjGzVsC+wBzn3OPA44Hzeg9eZ8ffAW/Esk0RER/pfhH79utE9wupjmo6JJP8AJTgDYMYbizeBfcq51xF5EqxqM8QiNVoF5j+EFE+Asjl1wcCM/E67l1qZrlhy52F1962oduvq77AZ3hPrQBwzm0NxAcRT+ZERFKc7hexb7+udL+QqFTTIRnDOVdiZo8CV5nZs8CneEP7nQrc6Jx7Pw67qe8QiJG+xHvSdl/gydkGvLff/gFvtJDW4A17YmZXAq8CU83scWAX4ApgXUO3H4Ov8G4iYwPbm41XdX4lMA/4sIZ1RURSiu4XsW8/BrpfSFSq6ZBMcyPeuOBHA3/He7pzrHNuvJ9BRXLOrQKOw+vwdxtwJ97N6Sy8kVT2DowmgnPuTeB4YAswDu+mOByYG4/t1zFeB5wCPAScADyIN9b6v4HDAk+xRETSie4XMW6/jvHqfiFRmfdvQ6TxMrNrgFPiMRqJmRUAeQ0YKjHt6RyISKbS/SK+dA4aFzWvkkYr0Eku+GliZjlApZ7CiIhION0vRBpOSYc0Zv8HjA77fQteu978Bm63pZn9EVjtnHuvgdtKG2Z2MF4HzDpXw4uIpAndL+JI94vGSc2rROIoUFX8/9u5QyMAgRiKgklXONqlFcqgkiDAIj8Idt25c5k3N5f1Pu4zs3x4nVd191bXx8OqqsNzOcAz88K8+BvRAQAARNleBQAARIkOAAAgSnQAAABRogMAAIgSHQAAQJToAAAAokQHAAAQJToAAICoE4816UahB7QEAAAAAElFTkSuQmCC\n",
      "text/plain": [
       "<Figure size 936x432 with 2 Axes>"
      ]
     },
     "metadata": {
      "needs_background": "light"
     },
     "output_type": "display_data"
    }
   ],
   "source": [
    "fig, axs = plt.subplots(1,2, figsize=(13,6))\n",
    "axs[1].set_title(r\"Reflected light: $R_p$\")\n",
    "axs[0].set_title(r\"Transmitted light: $T_p$\")\n",
    "\n",
    "\n",
    "def Rkoef(theta_1, n_komb): #Gælder kun for P polariseret lys\n",
    "    theta_2 = np.arcsin(n_komb*np.sin(theta_1)) \n",
    "    R_p = (np.tan(theta_1-theta_2)**2)/(np.tan(theta_1+theta_2)**2)\n",
    "    return R_p\n",
    "\n",
    "def Tkoef(theta_1, n_komb): #Gælder kun for P polariseret lys\n",
    "    theta_2 = np.arcsin(n_komb*np.sin(theta_1))\n",
    "    T_p = (np.sin(2*theta_1)*np.sin(2*theta_2))/(np.sin(theta_1+theta_2)**2*np.cos(theta_1-theta_2)**2)\n",
    "    return T_p\n",
    "\n",
    "# Intensiteter \n",
    "Tl = [] #Fjerner vinkler og punkter, hvor T,R ikke ligger mellem intervallet [0,1]\n",
    "Rl = []\n",
    "\n",
    "# Vinkler\n",
    "theta_newT = []\n",
    "theta_newR = []\n",
    "\n",
    "uncer_Ts_new = []\n",
    "uncer_Rs_new = []\n",
    "\n",
    "for i, a in enumerate(Ts):\n",
    "    if a[0] < 1.1 : #Fjerner dem her\n",
    "        Tl.append(a[0])\n",
    "        theta_newT.append(theta1T[i])\n",
    "        uncer_Ts_new.append(uncer_Ts[i])\n",
    "        \n",
    "for i, a in enumerate(Rs):\n",
    "    #if a[0] > 0 and a[0] < 1:\n",
    "        Rl.append(a[0])\n",
    "        theta_newR.append(theta1R[i])\n",
    "        uncer_Rs_new.append(uncer_Rs[i])\n",
    "\n",
    "theta_newT_new = np.delete(theta_newT, 3)\n",
    "Tl_new = np.delete(Tl, 3)\n",
    "uncer_Ts_new2 = np.delete(uncer_Ts_new, 3)\n",
    "\n",
<<<<<<< HEAD
    "nTT, pcovnT = curve_fit(Tkoef, theta_newT_new, Tl_new, absolute_sigma=True, p0=[1.4], maxfev=1000000)\n",
    "nRR, pcovnR = curve_fit(Rkoef, theta_newR, Rl, absolute_sigma=True, p0=[1.4], maxfev=1000000)\n",
    "\n",
=======
    "nTT, pcovnT = curve_fit(Tkoef, theta_newT_new, Tl_new, absolute_sigma=True, p0=[1.4])\n",
    "nRR, pcovnR = curve_fit(Rkoef, theta_newR, Rl, absolute_sigma=True, p0=[1.4])\n",
    "print(len(Rl), len(theta_newR))\n",
>>>>>>> b5d0c2924fa1947f6771cd2b5e175bce1123b7fa
    "theta_T = np.linspace(min(theta_newT), max(theta_newT))\n",
    "theta_R = np.linspace(min(theta_newR), max(theta_newR))\n",
    "\n",
    "#axs[0].plot(theta_newT_new, Tl_new, 'o', c='r', label=\"Data\")\n",
    "#axs[1].plot(theta_newR, Rl, 'o', c='r', label=\"Data\")\n",
    "\n",
    "axs[0].errorbar(theta_newT_new, Tl_new, fmt='o', c='r', label=\"Data\", xerr=sigma_radian, yerr= uncer_Ts_new2)\n",
    "axs[1].errorbar(theta_newR, Rl, fmt='o', c='r', label=\"Data\", xerr = sigma_radian, yerr= uncer_Rs_new)\n",
    "\n",
    "axs[0].plot(theta_T, Tkoef(theta_T, nTT), ls=\"--\", c=\"k\", lw=2, label=r\"Fit of $T_p$\")\n",
    "axs[1].plot(theta_R, Rkoef(theta_R, nRR), ls=\"--\", c=\"k\", lw=2, label=r\"Fit of $R_p$\")\n",
    "            \n",
    "#axs[0].plot(theta_T, Tkoef(theta_T, nT), ls=\":\", c=\"g\", lw=2, label=r\"Fit of $T_p(n_{Snell})$\")\n",
    "#axs[1].plot(theta_R, Rkoef(theta_R, nT), ls=\":\", c=\"g\", lw=2, label=r\"Fit of $R_p(n_{Snell})$\")\n",
    "\n",
    "b_angle_r = np.arctan(1/nRR)\n",
    "b_degree = b_angle_r*180/np.pi\n",
    "min_ind = np.argmin(Rkoef(theta_R, nRR))\n",
    "print(min_ind)\n",
    "axs[1].vlines(x=theta_R[min_ind], ymin= -0.08, ymax = 0.35, color='g', label=r\"$ \\theta_B $ = {}$\\degree $\".format(np.round(b_degree[0], 1)), linestyle='-.')\n",
    "\n",
    "for ax in axs:\n",
    "    ax.grid()\n",
    "    ax.legend(prop={'size': 14})\n",
    "    ax.set_xlabel(r\"$\\theta_1: $[radians]\")\n",
    "axs[0].set_ylabel(r\"Intensity: $T_p$\")\n",
    "axs[1].set_ylabel(r\"Intensity: $R_p$\")\n",
    "\n"
   ]
  },
  {
   "cell_type": "code",
<<<<<<< HEAD
   "execution_count": 158,
   "id": "1ee99c5e",
=======
   "execution_count": 22,
   "id": "a08ba487",
>>>>>>> b5d0c2924fa1947f6771cd2b5e175bce1123b7fa
   "metadata": {},
   "outputs": [
    {
     "name": "stdout",
     "output_type": "stream",
     "text": [
      "[1.41421353] [1.4142135]\n",
      "[1.49794579] [0.21022842]\n"
     ]
    }
   ],
   "source": [
    "print(nTT, nRR)\n",
    "#print(np.sqrt(np.diag(pcovnR)))\n",
    "#print(np.sqrt(np.diag(pcovnT)))\n",
    "print(nT, np.sqrt(np.diag(pcovT)))"
   ]
  },
  {
   "cell_type": "markdown",
   "id": "fa971b66",
   "metadata": {},
   "source": [
    "# P-værdi og Chi^2 min værdi - for snells lov fit"
   ]
  },
  {
   "cell_type": "code",
   "execution_count": 37,
   "id": "44b051a5",
   "metadata": {},
   "outputs": [],
   "source": [
    "yerr = np.zeros(len(theta1T1))\n",
    "for i in range(len(yerr)):\n",
    "    yerr[i] = 0.5*np.pi/180 #Fejlen på vores vinkler\n",
    "\n",
    "v = len(theta1T1) - 1\n",
    "\n",
    "chmin = np.sum(((theta2T1-snell(theta1T1, nT))/yerr)**2)\n",
    "Pkhi = round(1 - stats.chi2.cdf(chmin,v), 2) \n"
   ]
  },
  {
   "cell_type": "code",
   "execution_count": 38,
   "id": "dc883f4f",
   "metadata": {},
   "outputs": [
    {
     "name": "stdout",
     "output_type": "stream",
     "text": [
      "5.788897449072022  <  15.098659402942017  <  20.21110255092798\n",
      "0.3\n"
     ]
    }
   ],
   "source": [
    "print(v - 2*np.sqrt(v), \" < \", chmin, \" < \", v + 2*np.sqrt(v))\n",
    "print(Pkhi)"
   ]
  },
  {
   "cell_type": "markdown",
   "id": "b620825d",
   "metadata": {},
   "source": [
    "# P-værdi og Chi^2 min værdi - for T og R fit"
   ]
  },
  {
   "cell_type": "code",
   "execution_count": 61,
   "id": "8157a654",
   "metadata": {},
   "outputs": [],
   "source": [
    "yerr = np.zeros(len(Tl_new))\n",
    "for i in range(len(yerr)):\n",
    "    yerr[i] = 0.002943 #Fejlen på vores vinkler\n",
    "\n",
    "v = len(Tl_new) - 1\n",
    "\n",
    "chmin = np.sum(((Tl_new-Tkoef(theta_newT_new, nTT))/yerr)**2)\n",
    "Pkhi = round(1 - stats.chi2.cdf(chmin,v), 2) "
   ]
  },
  {
   "cell_type": "code",
   "execution_count": 62,
   "id": "5cbee0c5",
   "metadata": {},
   "outputs": [
    {
     "name": "stdout",
     "output_type": "stream",
     "text": [
      "5.788897449072022  <  108811.18870647867  <  20.21110255092798\n",
      "0.0\n"
     ]
    }
   ],
   "source": [
    "print(v - 2*np.sqrt(v), \" < \", chmin, \" < \", v + 2*np.sqrt(v))\n",
    "print(Pkhi)"
   ]
  },
  {
   "cell_type": "code",
   "execution_count": 63,
   "id": "44cca5d4",
   "metadata": {},
   "outputs": [],
   "source": [
    "yerr = np.zeros(len(Rl))\n",
    "for i in range(len(yerr)):\n",
    "    yerr[i] = 0.002943 #Fejlen på vores vinkler\n",
    "\n",
    "v = len(Rl) - 1\n",
    "\n",
    "chmin = np.sum(((Rl-Rkoef(theta_newR, nRR))/yerr)**2)\n",
    "Pkhi = round(1 - stats.chi2.cdf(chmin,v), 2) "
   ]
  },
  {
   "cell_type": "code",
   "execution_count": 64,
   "id": "45f29784",
   "metadata": {},
   "outputs": [
    {
     "name": "stdout",
     "output_type": "stream",
     "text": [
      "6.516685226452117  <  99233.80114801477  <  21.48331477354788\n",
      "0.0\n"
     ]
    }
   ],
   "source": [
    "print(v - 2*np.sqrt(v), \" < \", chmin, \" < \", v + 2*np.sqrt(v))\n",
    "print(Pkhi)"
   ]
  },
  {
   "cell_type": "code",
   "execution_count": null,
<<<<<<< HEAD
   "id": "c2cfec7b",
   "metadata": {},
   "outputs": [],
   "source": []
  },
  {
   "cell_type": "code",
   "execution_count": null,
   "id": "9635bd14",
   "metadata": {},
   "outputs": [],
   "source": []
  },
  {
   "cell_type": "code",
   "execution_count": null,
   "id": "cb2c24a6",
=======
   "id": "60522b25",
>>>>>>> b5d0c2924fa1947f6771cd2b5e175bce1123b7fa
   "metadata": {},
   "outputs": [],
   "source": []
  }
 ],
 "metadata": {
  "kernelspec": {
   "display_name": "Python 3",
   "language": "python",
   "name": "python3"
  },
  "language_info": {
   "codemirror_mode": {
    "name": "ipython",
    "version": 3
   },
   "file_extension": ".py",
   "mimetype": "text/x-python",
   "name": "python",
   "nbconvert_exporter": "python",
   "pygments_lexer": "ipython3",
   "version": "3.8.8"
  }
 },
 "nbformat": 4,
 "nbformat_minor": 5
}
