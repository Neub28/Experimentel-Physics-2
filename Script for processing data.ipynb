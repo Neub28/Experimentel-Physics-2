{
 "cells": [
  {
   "cell_type": "code",
   "execution_count": 83,
   "id": "b1c983bc",
   "metadata": {},
   "outputs": [],
   "source": [
    "import matplotlib.pyplot as plt\n",
    "import numpy as np\n",
    "import scipy.optimize as sc\n",
    "\n",
    "plt.rc(\"axes\", labelsize=18)\n",
    "plt.rc(\"xtick\", labelsize=16, top=True, direction=\"in\")\n",
    "plt.rc(\"ytick\", labelsize=16, right=True, direction=\"in\")\n",
    "plt.rc(\"axes\", titlesize=22)\n",
    "plt.rc(\"legend\", fontsize=16, loc=\"upper left\")\n",
    "plt.rc(\"figure\", figsize=(7, 5))\n"
   ]
  },
  {
   "cell_type": "code",
   "execution_count": 84,
   "id": "f2ba149d",
   "metadata": {},
   "outputs": [],
   "source": [
    "## Fresnels laws as functions\n",
    "\n",
    "def rp(n1, n2, t1, t2) :\n",
    "    if(isinstance(t1, list) == True) :\n",
    "        rp_list = list()\n",
    "        for i in range(len(t1)) :\n",
    "            rp = (n2*np.cos(t1[i])-n1*np.cos(t2[i]))/(n2*np.cos(t1[i])+n1*np.cos(t2[i]))\n",
    "            rp_list.append(rp)\n",
    "        return rp_list\n",
    "    \n",
    "    else :\n",
    "        return (n2*np.cos(t1)-n1*np.cos(t2))/(n2*np.cos(t1)+n1*np.cos(t2))\n",
    "\n",
    "def tp(n1, n2, t1, t2) :\n",
    "    if(isinstance(t1, list) == True) :\n",
    "        tp_list = list()\n",
    "        for i in range(len(t1)) :\n",
    "            tp = (2*n1*np.cos(t1[i]))/(n2*np.cos(t1[i])+n1*np.cos(t2[i]))\n",
    "            tp_list.append(tp)\n",
    "        return tp_list\n",
    "    \n",
    "    else :\n",
    "        return (2*n1*np.cos(t1))/(n2*np.cos(t1)+n1*np.cos(t2))\n",
    "\n",
    "def rs(n1, n2, t1, t2) :\n",
    "    if(isinstance(t1, list) == True) :\n",
    "        rs_list = list()\n",
    "        for i in range(len(t1)) :\n",
    "            rs = (n1*np.cos(t1[i])-n2*np.cos(t2[i]))/(n1*np.cos(t1[i])+n2*np.cos(t2[i]))\n",
    "            rs_list.append(rs)\n",
    "        return rs_list\n",
    "    \n",
    "    else :\n",
    "        return (n1*np.cos(t1)-n2*np.cos(t2))/(n1*np.cos(t1)+n2*np.cos(t2))\n",
    "    \n",
    "def ts(n1, n2, t1, t2) :\n",
    "    if(isinstance(t1, list) == True) :\n",
    "        ts_list = list()\n",
    "        for i in range(len(t1)) :\n",
    "            ts = (2*n1*np.cos(t1[i]))/(n1*np.cos(t1[i])+n2*np.cos(t2[i]))\n",
    "            ts_list.append(ts)\n",
    "        return ts_list\n",
    "    \n",
    "    else :\n",
    "        return (2*n1*np.cos(t1))/(n1*np.cos(t1)+n2*np.cos(t2))\n",
    "\n",
    "def Rp(t1, t2) :\n",
    "    if(isinstance(t1, list) == True) :\n",
    "        Rp_list = list()\n",
    "        for i in range(len(t1)) :\n",
    "            Rp = (np.tan(t1[i]-t2[i])**2)/(np.tan(t1[i]+t2[i])**2)\n",
    "            Rp_list.append(Rp)\n",
    "        return Rp_list\n",
    "    \n",
    "    else : \n",
    "        return (np.tan(t1-t2)**2)/(np.tan(t1+t2)**2)\n",
    "\n",
    "def Tp(t1, t2) :\n",
    "    if(isinstance(t1, list) == True) : \n",
    "        Tp_list = list()\n",
    "        for i in range(len(t1)) :\n",
    "            Tp = (np.sin(2*t1[i])*np.sin(2*t2[i]))/(np.sin(t1[i]+t2[i])**2*np.cos(t1[i]-t2[i])**2)\n",
    "            Tp_list.append(Tp)\n",
    "        return Tp_list\n",
    "    \n",
    "    else : \n",
    "        return (np.sin(2*t1)*np.sin(2*t2))/(np.sin(t1+t2)**2*np.cos(t1-t2)**2)\n",
    "\n",
    "def Rs(t1, t2) :\n",
    "    if(isinstance(t1, list) == True) : \n",
    "        Rs_list = list()\n",
    "        for i in range(len(t1)) : \n",
    "            Rs = (np.sin(t1[i]-t2[i])**2)/(np.sin(t1[i]+t2[i])**2)\n",
    "            Rs_list.append(Rs)\n",
    "        return Rs_list\n",
    "    \n",
    "    else : \n",
    "        return (np.sin(t1-t2)**2)/(np.sin(t1+t2)**2)\n",
    "\n",
    "def Ts(t1, t2) :\n",
    "    if(isinstance(t1, list) == True) : \n",
    "        Ts_list = list()\n",
    "        for i in range(len(t1)) :\n",
    "            Ts = (np.sin(2*t1[i])*np.sin(2*t2[i]))/(np.sin(t1[i]+t2[i])**2)\n",
    "            Ts_list.append(Ts)\n",
    "        return Ts_list\n",
    "    \n",
    "    else :\n",
    "        return (np.sin(2*t1)*np.sin(2*t2))/(np.sin(t1+t2)**2)\n"
   ]
  },
  {
   "cell_type": "code",
   "execution_count": 85,
   "id": "cd7c4f2a",
   "metadata": {},
   "outputs": [],
   "source": [
    "## Conversion of degrees to radians\n",
    "\n",
    "def dgr(degrees) : \n",
    "    return np.radians(degrees)\n",
    "\n",
    "def rdn(radians) :\n",
    "    return np.degrees(radians)\n"
   ]
  },
  {
   "cell_type": "code",
   "execution_count": 86,
   "id": "8467145b",
   "metadata": {},
   "outputs": [
    {
     "data": {
      "image/png": "[encoded data removed]",
      "text/plain": [
       "<Figure size 504x360 with 1 Axes>"
      ]
     },
     "metadata": {
      "needs_background": "light"
     },
     "output_type": "display_data"
    }
   ],
   "source": [
    "## Calculation of the refractive index\n",
    "\n",
    "n1 = 1                             # Refracetive index of first material (air)\n",
    "\n",
    "theta_1 = [23, 24, 25, 23, 24]     # Angle of incidence\n",
    "theta_2 = [25, 27, 28, 23, 25]     # Angle of refraction\n",
    "\n",
    "t1_r = dgr(theta_1)\n",
    "t2_r = dgr(theta_2)\n",
    "\n",
    "def n_12(theta1, theta2) : \n",
    "    if(len(theta1) != len(theta2)) :\n",
    "        return print('Lists are not the same length')\n",
    "    \n",
    "    n_list = list()\n",
    "    for i in range(len(theta1)) :\n",
    "        n = (n1*np.sin(theta1[i]))/np.sin(theta2[i])\n",
    "        n_list.append(n)\n",
    "    return n_list\n",
    "\n",
    "n_list = np.array(n_12(t1_r, t2_r))\n",
    "true_n = np.mean(n_list)\n",
    "\n",
    "plt.plot(range(len(n_list)), n_list, 'o--', label='Values of n', color='r')\n",
    "plt.axhline(true_n, ls='--', color='black', label='Average: {}'.format(np.round(true_n, 2)))\n",
    "plt.xlabel('Experiment nr.')\n",
    "plt.ylabel(\"Refractive index, n\")\n",
    "plt.legend(loc = 'lower left', fontsize=13)\n",
    "plt.grid()\n"
   ]
  },
  {
   "cell_type": "code",
   "execution_count": 87,
   "id": "a1c43a43",
   "metadata": {},
   "outputs": [
    {
     "name": "stdout",
     "output_type": "stream",
     "text": [
      "0.4303323710563109\n",
      "[0.43033237 0.44921832 0.46812961 0.43033237 0.44921832]\n"
     ]
    }
   ],
   "source": [
    "## Parameterization of theta_2\n",
    "\n",
    "def thet2(thet1, n) : \n",
    "    # Used for list inputs\n",
    "    if(isinstance(thet1, list) == True) :\n",
    "        t2_list = list()\n",
    "        for i in range(len(thet1)) :\n",
    "            t2 = np.arcsin((n1*np.sin(thet1[i]))/n)\n",
    "            t2_list.append(t2)\n",
    "        return t2_list\n",
    "    \n",
    "    # Input is expected to be a single number.\n",
    "    else :\n",
    "        return np.arcsin(np.sin(thet1)/n)\n",
    "    \n",
    "print(thet2(t1_r[0], true_n))\n",
    "print(thet2(t1_r, true_n))"
   ]
  },
  {
   "cell_type": "code",
   "execution_count": 88,
   "id": "5dda7ba9",
   "metadata": {},
   "outputs": [],
   "source": [
    "## Calculation of background noise\n"
   ]
  },
  {
   "cell_type": "code",
   "execution_count": 81,
   "id": "7199e6db",
   "metadata": {},
   "outputs": [],
   "source": []
  },
  {
   "cell_type": "code",
   "execution_count": null,
   "id": "6a046d70",
   "metadata": {},
   "outputs": [],
   "source": []
  }
 ],
 "metadata": {
  "kernelspec": {
   "display_name": "Python 3",
   "language": "python",
   "name": "python3"
  },
  "language_info": {
   "codemirror_mode": {
    "name": "ipython",
    "version": 3
   },
   "file_extension": ".py",
   "mimetype": "text/x-python",
   "name": "python",
   "nbconvert_exporter": "python",
   "pygments_lexer": "ipython3",
   "version": "3.8.8"
  }
 },
 "nbformat": 4,
 "nbformat_minor": 5
}
