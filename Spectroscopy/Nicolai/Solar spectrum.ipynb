{
 "cells": [
  {
   "cell_type": "code",
   "execution_count": 1,
   "id": "723e9a92",
   "metadata": {},
   "outputs": [],
   "source": [
    "import os\n",
    "import numpy as np\n",
    "import matplotlib.pyplot as plt\n",
    "from scipy.optimize import curve_fit\n",
    "import scipy.stats as stats\n",
    "import scipy.io as io\n",
    "import time\n",
    "\n",
    "from scipy.interpolate import CubicSpline\n",
    "\n",
    "plt.rc(\"font\", family=[\"Times New Roman\"]) #skifter skrifttype\n",
    "plt.rc(\"axes\", labelsize=18)   #skriftstørrelse af `xlabel` og `ylabel`\n",
    "plt.rc(\"xtick\", labelsize=16, direction=\"out\")  #skriftstørrelse af ticks og viser ticks øverst\n",
    "plt.rc(\"ytick\", labelsize=16, direction=\"out\")\n",
    "plt.rc(\"axes\", titlesize=22)\n",
    "plt.rc(\"legend\", fontsize=16)"
   ]
  },
  {
   "cell_type": "code",
   "execution_count": 43,
   "id": "4b5c54da",
   "metadata": {},
   "outputs": [],
   "source": [
    "def plaw(wl, *p) : \n",
    "    c = 299792458 # m/s\n",
    "    h = 6.62607015e-34 # J*s\n",
    "    kB = 1.380649e-23 # J/K\n",
    "    A = p[0]\n",
    "    T = p[1] # K\n",
    "    return A*(2*h*c**2)/(wl**5)*1/(np.exp((h*c)/(wl*kB*T))-1)\n",
    "\n",
    "def wien(l_max) : \n",
    "    b = 2.9*1e-3 # m K\n",
    "    return b/l_max"
   ]
  },
  {
   "cell_type": "code",
   "execution_count": 51,
   "id": "3017c72d",
   "metadata": {},
   "outputs": [
    {
     "name": "stdout",
     "output_type": "stream",
     "text": [
      "5668.845588465268\n"
     ]
    },
    {
     "data": {
      "image/png": "[encoded data removed]",
      "text/plain": [
       "<Figure size 432x288 with 1 Axes>"
      ]
     },
     "metadata": {
      "needs_background": "light"
     },
     "output_type": "display_data"
    }
   ],
   "source": [
    "d1 = r\"../Sun1.txt\"\n",
    "d2 = \"r../Sun2.txt\"\n",
    "\n",
    "def getdata(path) :\n",
    "    data = np.genfromtxt(d1, skip_header=1)\n",
    "    wl = []\n",
    "    i = []\n",
    "    for ar in data : \n",
    "        wl.append(ar[0]*1e-9)\n",
    "        i.append(ar[1])\n",
    "    return (wl, i)\n",
    "        \n",
    "l, i = getdata(d1)\n",
    "plt.plot(l, i)\n",
    "\n",
    "index = np.argmax(i)\n",
    "lmax = l[index]\n",
    "\n",
    "plt.plot(l[index], i[index], '*')\n",
    "print(wien(l[index]))\n",
    "\n",
    "#l_fit = np.linspace(np.min(l), np.max(l), 1000)\n",
    "#popt, pcurve = curve_fit(plaw, l, i, p0=[1000, 5800])\n",
    "#i_fit = plaw(l_fit, *popt)\n",
    "#plt.plot(l_fit, i_fit)\n"
   ]
  },
  {
   "cell_type": "code",
   "execution_count": 11,
   "id": "e955daa9",
   "metadata": {},
   "outputs": [
    {
     "name": "stdout",
     "output_type": "stream",
     "text": [
      "[187.923  53.25      nan]\n"
     ]
    }
   ],
   "source": []
  },
  {
   "cell_type": "code",
   "execution_count": null,
   "id": "386c2ce8",
   "metadata": {},
   "outputs": [],
   "source": []
  }
 ],
 "metadata": {
  "kernelspec": {
   "display_name": "Python 3",
   "language": "python",
   "name": "python3"
  },
  "language_info": {
   "codemirror_mode": {
    "name": "ipython",
    "version": 3
   },
   "file_extension": ".py",
   "mimetype": "text/x-python",
   "name": "python",
   "nbconvert_exporter": "python",
   "pygments_lexer": "ipython3",
   "version": "3.8.8"
  }
 },
 "nbformat": 4,
 "nbformat_minor": 5
}
