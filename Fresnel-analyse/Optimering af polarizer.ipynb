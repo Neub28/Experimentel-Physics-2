{
 "cells": [
  {
   "cell_type": "code",
   "execution_count": 1,
   "id": "e57e72d0",
   "metadata": {},
   "outputs": [],
   "source": [
    "import os\n",
    "import numpy as np\n",
    "import matplotlib.pyplot as plt\n",
    "from scipy.optimize import curve_fit\n",
    "import scipy.stats as stats\n",
    "import scipy.io as io\n",
    "\n",
    "plt.rc(\"font\", family=[\"Helvetica\", \"Arial\"]) #skifter skrifttype\n",
    "plt.rc(\"axes\", labelsize=18)   #skriftstørrelse af `xlabel` og `ylabel`\n",
    "plt.rc(\"xtick\", labelsize=16, direction=\"out\")  #skriftstørrelse af ticks og viser ticks øverst\n",
    "plt.rc(\"ytick\", labelsize=16, direction=\"out\")\n",
    "plt.rc(\"axes\", titlesize=22)\n",
    "plt.rc(\"legend\", fontsize=16)"
   ]
  },
  {
   "cell_type": "code",
   "execution_count": 3,
   "id": "b57fe298",
   "metadata": {},
   "outputs": [],
   "source": [
    "entries_list_s = os.listdir(\"directory1\")\n",
    "entries_list_p = os.listdir(\"directory2\")\n",
    "\n",
    "def func(x, a):\n",
    "    return a\n",
    "\n",
    "def get_I(pol, entry_list):\n",
    "    if pol == \"s\":\n",
    "        rempart = \"s\"\n",
    "    else:\n",
    "        rempart = \"p\"\n",
    "    Is = np.zeros(len(entry_list))\n",
    "    phis = np.zeros(len(entry_list))\n",
    "    for i, file in enumerate(entries_list):\n",
    "        name = file.replace(f\"phi_{rempart} = \", \"\")\n",
    "        phis[i] = float(name)*180/np.pi\n",
    "        dat = io.loadmat(f\"Directory/{file}\")\n",
    "        V = dat.get(\"A\")\n",
    "        V = np.reshape(V, (len(V)))\n",
    "        xs = np.linspace(0, 50, len(V))\n",
    "        fitted, pcov = curve_fit(func, xs, V, absolute_sigma=True)\n",
    "        perr1 = np.sqrt(np.diag(pcov))\n",
    "        Is[i] = fitted\n",
    "        #Is[i] = fitted - mean_Voff #Til hvis vi skal have offset med, men denne er ligegyldig, idet vi bare skal finde maks intens\n",
    "    return phis, Is\n",
    "\n",
    "def Intensity(phi, I_m):\n",
    "    I = I_m*np.cos(phi)**2\n",
    "    return I"
   ]
  },
  {
   "cell_type": "code",
   "execution_count": null,
   "id": "c6042d86",
   "metadata": {},
   "outputs": [],
   "source": [
    "Is_p, phi_p = get_I(\"p\", entries_list_p)\n",
    "Is_s, phi_s = get_I(\"s\", entries_list_s)\n",
    "\n",
    "I_mp, pcovp = curve_fit(Intensity, phi_p, Is_p, absolute_sigma=True) \n",
    "I_ms, pcovs = curve_fit(Intensity, phi_s, Is_s, absolute_sigma=True) "
   ]
  },
  {
   "cell_type": "code",
   "execution_count": 17,
   "id": "1de9d42b",
   "metadata": {},
   "outputs": [
    {
     "ename": "NameError",
     "evalue": "name 'phi_p' is not defined",
     "output_type": "error",
     "traceback": [
      "\u001b[1;31m---------------------------------------------------------------------------\u001b[0m",
      "\u001b[1;31mNameError\u001b[0m                                 Traceback (most recent call last)",
      "\u001b[1;32m<ipython-input-17-08985bd66a6f>\u001b[0m in \u001b[0;36m<module>\u001b[1;34m\u001b[0m\n\u001b[0;32m      7\u001b[0m \u001b[0mphis\u001b[0m \u001b[1;33m=\u001b[0m \u001b[0mnp\u001b[0m\u001b[1;33m.\u001b[0m\u001b[0mlinspace\u001b[0m\u001b[1;33m(\u001b[0m\u001b[1;36m40\u001b[0m\u001b[1;33m*\u001b[0m\u001b[0mnp\u001b[0m\u001b[1;33m.\u001b[0m\u001b[0mpi\u001b[0m\u001b[1;33m/\u001b[0m\u001b[1;36m180\u001b[0m\u001b[1;33m,\u001b[0m \u001b[1;36m50\u001b[0m\u001b[1;33m*\u001b[0m\u001b[0mnp\u001b[0m\u001b[1;33m.\u001b[0m\u001b[0mpi\u001b[0m\u001b[1;33m/\u001b[0m\u001b[1;36m180\u001b[0m\u001b[1;33m)\u001b[0m\u001b[1;33m\u001b[0m\u001b[1;33m\u001b[0m\u001b[0m\n\u001b[0;32m      8\u001b[0m \u001b[1;33m\u001b[0m\u001b[0m\n\u001b[1;32m----> 9\u001b[1;33m \u001b[0max\u001b[0m\u001b[1;33m.\u001b[0m\u001b[0mplot\u001b[0m\u001b[1;33m(\u001b[0m\u001b[0mphi_p\u001b[0m\u001b[1;33m,\u001b[0m \u001b[0mIs_p\u001b[0m\u001b[1;33m,\u001b[0m \u001b[0mlabel\u001b[0m\u001b[1;33m=\u001b[0m\u001b[1;34m\"P-Intensities\"\u001b[0m\u001b[1;33m)\u001b[0m\u001b[1;33m\u001b[0m\u001b[1;33m\u001b[0m\u001b[0m\n\u001b[0m\u001b[0;32m     10\u001b[0m \u001b[0max\u001b[0m\u001b[1;33m.\u001b[0m\u001b[0mplot\u001b[0m\u001b[1;33m(\u001b[0m\u001b[0mphi_s\u001b[0m\u001b[1;33m,\u001b[0m \u001b[0mIs_s\u001b[0m\u001b[1;33m,\u001b[0m \u001b[0mlabel\u001b[0m\u001b[1;33m=\u001b[0m\u001b[1;34m\"s-Intensities\"\u001b[0m\u001b[1;33m)\u001b[0m\u001b[1;33m\u001b[0m\u001b[1;33m\u001b[0m\u001b[0m\n\u001b[0;32m     11\u001b[0m \u001b[0max\u001b[0m\u001b[1;33m.\u001b[0m\u001b[0mplot\u001b[0m\u001b[1;33m(\u001b[0m\u001b[0mphis\u001b[0m\u001b[1;33m,\u001b[0m \u001b[0mIntensity\u001b[0m\u001b[1;33m(\u001b[0m\u001b[0mphis\u001b[0m\u001b[1;33m,\u001b[0m \u001b[0mI_mp\u001b[0m\u001b[1;33m)\u001b[0m\u001b[1;33m,\u001b[0m \u001b[1;34m'--'\u001b[0m\u001b[1;33m,\u001b[0m \u001b[0mlw\u001b[0m\u001b[1;33m=\u001b[0m\u001b[1;36m2\u001b[0m\u001b[1;33m,\u001b[0m \u001b[0mc\u001b[0m\u001b[1;33m=\u001b[0m\u001b[1;34m\"r\"\u001b[0m\u001b[1;33m)\u001b[0m\u001b[1;33m\u001b[0m\u001b[1;33m\u001b[0m\u001b[0m\n",
      "\u001b[1;31mNameError\u001b[0m: name 'phi_p' is not defined"
     ]
    },
    {
     "data": {
      "image/png": "[encoded data removed]",
      "text/plain": [
       "<Figure size 576x432 with 1 Axes>"
      ]
     },
     "metadata": {
      "needs_background": "light"
     },
     "output_type": "display_data"
    }
   ],
   "source": [
    "fig, ax = plt.subplots(figsize=(8,6))\n",
    "ax.set_title(\"Intensitets-plot\")\n",
    "ax.set_xlabel(r\"$\\phi$; [radians]\")\n",
    "ax.set_ylabel(r\"$I$; [V]\")\n",
    "ax.grid()\n",
    "\n",
    "phis = np.linspace(40*np.pi/180, 50*np.pi/180)\n",
    "\n",
    "ax.plot(phi_p, Is_p, label=\"P-Intensities\")\n",
    "ax.plot(phi_s, Is_s, label=\"s-Intensities\")\n",
    "ax.plot(phis, Intensity(phis, I_mp), '--', lw=2, c=\"r\", label=r\"fit til $I_p(\\phi)$\")\n",
    "ax.plot(phis, Intensity(phis, I_ms), '--', lw=2, c=\"b\", label=r\"fit til $I_s(\\phi)$\")\n",
    "\n",
    "ax.legend()"
   ]
  },
  {
   "cell_type": "code",
   "execution_count": null,
   "id": "e430a28b",
   "metadata": {},
   "outputs": [],
   "source": []
  }
 ],
 "metadata": {
  "kernelspec": {
   "display_name": "Python 3",
   "language": "python",
   "name": "python3"
  },
  "language_info": {
   "codemirror_mode": {
    "name": "ipython",
    "version": 3
   },
   "file_extension": ".py",
   "mimetype": "text/x-python",
   "name": "python",
   "nbconvert_exporter": "python",
   "pygments_lexer": "ipython3",
   "version": "3.8.8"
  }
 },
 "nbformat": 4,
 "nbformat_minor": 5
}
