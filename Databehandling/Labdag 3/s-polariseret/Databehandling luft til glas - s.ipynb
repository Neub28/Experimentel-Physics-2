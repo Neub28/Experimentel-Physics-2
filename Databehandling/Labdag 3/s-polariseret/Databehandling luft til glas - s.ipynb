{
 "cells": [
  {
   "cell_type": "code",
   "execution_count": 2,
   "id": "d7de0bee",
   "metadata": {},
   "outputs": [],
   "source": [
    "import os\n",
    "import numpy as np\n",
    "import matplotlib.pyplot as plt\n",
    "from scipy.optimize import curve_fit\n",
    "import scipy.stats as stats\n",
    "import scipy.io as io\n",
    "\n",
    "plt.rc(\"font\", family=[\"Helvetica\", \"Arial\"]) #skifter skrifttype\n",
    "plt.rc(\"axes\", labelsize=18)   #skriftstørrelse af `xlabel` og `ylabel`\n",
    "plt.rc(\"xtick\", labelsize=16, direction=\"out\")  #skriftstørrelse af ticks og viser ticks øverst\n",
    "plt.rc(\"ytick\", labelsize=16, direction=\"out\")\n",
    "plt.rc(\"axes\", titlesize=22)\n",
    "plt.rc(\"legend\", fontsize=16)"
   ]
  },
  {
   "cell_type": "code",
   "execution_count": 3,
   "id": "d24dcff3",
   "metadata": {},
   "outputs": [
    {
     "ename": "FileNotFoundError",
     "evalue": "[WinError 3] Den angivne sti blev ikke fundet: 'C:\\\\Users\\\\Karsten\\\\Eksperimentel fysik II\\\\Experimentel-Physics-2\\\\Tredje labdag\\\\luft til glas\\\\s\\\\Datafiler\\\\transmitteret'",
     "output_type": "error",
     "traceback": [
      "\u001b[1;31m---------------------------------------------------------------------------\u001b[0m",
      "\u001b[1;31mFileNotFoundError\u001b[0m                         Traceback (most recent call last)",
      "\u001b[1;32m<ipython-input-3-d678f81ff083>\u001b[0m in \u001b[0;36m<module>\u001b[1;34m\u001b[0m\n\u001b[1;32m----> 1\u001b[1;33m \u001b[0mentries_list_sT\u001b[0m \u001b[1;33m=\u001b[0m \u001b[0mos\u001b[0m\u001b[1;33m.\u001b[0m\u001b[0mlistdir\u001b[0m\u001b[1;33m(\u001b[0m\u001b[1;34mr\"C:\\Users\\Karsten\\Eksperimentel fysik II\\Experimentel-Physics-2\\Tredje labdag\\luft til glas\\s\\Datafiler\\transmitteret\"\u001b[0m\u001b[1;33m)\u001b[0m\u001b[1;33m\u001b[0m\u001b[1;33m\u001b[0m\u001b[0m\n\u001b[0m\u001b[0;32m      2\u001b[0m \u001b[0mentries_list_sR\u001b[0m \u001b[1;33m=\u001b[0m \u001b[0mos\u001b[0m\u001b[1;33m.\u001b[0m\u001b[0mlistdir\u001b[0m\u001b[1;33m(\u001b[0m\u001b[1;34mr\"C:\\Users\\Karsten\\Eksperimentel fysik II\\Experimentel-Physics-2\\Tredje labdag\\luft til glas\\s\\Datafiler\\reflekteret\"\u001b[0m\u001b[1;33m)\u001b[0m\u001b[1;33m\u001b[0m\u001b[1;33m\u001b[0m\u001b[0m\n\u001b[0;32m      3\u001b[0m \u001b[1;33m\u001b[0m\u001b[0m\n\u001b[0;32m      4\u001b[0m \u001b[0mt1_90\u001b[0m \u001b[1;33m=\u001b[0m \u001b[1;36m90\u001b[0m\u001b[1;33m*\u001b[0m\u001b[0mnp\u001b[0m\u001b[1;33m.\u001b[0m\u001b[0mpi\u001b[0m\u001b[1;33m/\u001b[0m\u001b[1;36m180\u001b[0m\u001b[1;33m\u001b[0m\u001b[1;33m\u001b[0m\u001b[0m\n\u001b[0;32m      5\u001b[0m \u001b[1;33m\u001b[0m\u001b[0m\n",
      "\u001b[1;31mFileNotFoundError\u001b[0m: [WinError 3] Den angivne sti blev ikke fundet: 'C:\\\\Users\\\\Karsten\\\\Eksperimentel fysik II\\\\Experimentel-Physics-2\\\\Tredje labdag\\\\luft til glas\\\\s\\\\Datafiler\\\\transmitteret'"
     ]
    }
   ],
   "source": [
    "entries_list_sT = os.listdir(r\"C:\\Users\\Karsten\\Eksperimentel fysik II\\Experimentel-Physics-2\\Tredje labdag\\luft til glas\\s\\Datafiler\\transmitteret\")\n",
    "entries_list_sR = os.listdir(r\"C:\\Users\\Karsten\\Eksperimentel fysik II\\Experimentel-Physics-2\\Tredje labdag\\luft til glas\\s\\Datafiler\\reflekteret\")\n",
    "\n",
    "t1_90 = 90*np.pi/180\n",
    "\n",
    "def func(x, a):\n",
    "    return a\n",
    "\n",
    "d = io.loadmat(r\"C:\\Users\\Karsten\\Eksperimentel fysik II\\Experimentel-Physics-2\\Tredje labdag\\baggrund måling.mat\")\n",
    "d_offset = d.get(\"A\")\n",
    "d_offset = np.reshape(d_offset, (len(d_offset)))\n",
    "\n",
    "t = np.linspace(0, 50, len(d_offset))\n",
    "mean_Voff, pcovoff = curve_fit(func, t, d_offset, absolute_sigma=True)\n",
    "usOff = np.sqrt(np.diag(pcovoff))\n",
    "\n",
    "d = io.loadmat(r\"C:\\Users\\Karsten\\Eksperimentel fysik II\\Experimentel-Physics-2\\Tredje labdag\\Luft til glas\\s - 0 grader med krystal.mat\")\n",
    "d90 = d.get(\"A\")\n",
    "d90 = np.reshape(d90, (len(d90)))\n",
    "\n",
    "\n",
    "t = np.linspace(0, 50, len(d90))\n",
    "mean_V90, pcov90 = curve_fit(func, t, d90, absolute_sigma=True)\n",
    "us90 = np.sqrt(np.diag(pcov90))\n",
    "mean_V90 = mean_V90 - mean_Voff\n",
    "\n"
   ]
  },
  {
   "cell_type": "code",
   "execution_count": null,
   "id": "9e929272",
   "metadata": {},
   "outputs": [],
   "source": [
    "def get_ts_Vs(t, entries):\n",
    "    if t == \"T\":\n",
    "        rempart = \"t(\"\n",
    "        file_dest = \"transmitteret\"\n",
    "    else:\n",
    "        rempart = \"r(\"\n",
    "        file_dest = \"reflekteret\"\n",
    "        \n",
    "    ts = np.zeros((len(entries), 2))\n",
    "    Vs = np.zeros((len(entries),2))\n",
    "    for i, file in enumerate(entries):\n",
    "        name = file.replace(rempart, \"\")\n",
    "        name = name.replace(\".mat\", \"\")\n",
    "        name = name.replace(\")\", \"\")\n",
    "        indx = name.find(\",\")\n",
    "        ts12 = float(name[0:indx])*np.pi/180, float(name[indx + 1:len(name)])*np.pi/180\n",
    "        ts[i] = ts12\n",
    "        dat = io.loadmat(f\"C:/Users/Karsten/Eksperimentel fysik II/Experimentel-Physics-2/Tredje labdag/luft til glas/s/Datafiler/{file_dest}/{file}\")\n",
    "        V = dat.get(\"A\")\n",
    "        V = np.reshape(V, (len(V)))\n",
    "        xs = np.linspace(0, 50, len(V))\n",
    "        fitted, pcov = curve_fit(func, xs, V, absolute_sigma=True)\n",
    "        perr1 = np.sqrt(np.diag(pcov))\n",
    "        Vs[i][0] = fitted - mean_Voff\n",
    "        Vs[i][1] = perr1\n",
    "        \n",
    "    return Vs, ts"
   ]
  },
  {
   "cell_type": "code",
   "execution_count": null,
   "id": "2919f5eb",
   "metadata": {},
   "outputs": [],
   "source": [
    "mean_VsT, ts_trans = get_ts_Vs(\"T\", entries_list_sT)\n",
    "mean_VsR, ts_ref = get_ts_Vs(\"R\", entries_list_sR)"
   ]
  },
  {
   "cell_type": "code",
   "execution_count": null,
   "id": "addbd958",
   "metadata": {},
   "outputs": [],
   "source": [
    "Ts = mean_VsT/mean_V90\n",
    "Rs = mean_VsR/mean_V90"
   ]
  },
  {
   "cell_type": "code",
   "execution_count": null,
   "id": "47dd1368",
   "metadata": {},
   "outputs": [],
   "source": [
    "fig, axs = plt.subplots(1,2, figsize=(13,6))\n",
    "axs[1].set_title(\"Reflekteret lys\")\n",
    "axs[0].set_title(\"Transmitteret lys\")\n",
    "\n",
    "def snell(theta, n):\n",
    "    theta_ag = np.arcsin(n*np.sin(theta))\n",
    "    return theta_ag\n",
    "\n",
    "theta1T = np.zeros(len(ts_trans))\n",
    "theta2T = np.zeros(len(ts_trans))\n",
    "\n",
    "theta1R = np.zeros(len(ts_ref))\n",
    "theta2R = np.zeros(len(ts_ref))\n",
    "\n",
    "i = 0\n",
    "for t1, t2 in ts_trans:\n",
    "    theta1T[i] = t1\n",
    "    theta2T[i] = (t1 - t2)\n",
    "    i = i + 1\n",
    "    \n",
    "i = 0\n",
    "for t1, t2 in ts_ref:\n",
    "    theta1R[i] = t1\n",
    "    theta2R[i] = t1\n",
    "    i = i + 1\n",
    "\n",
    "axs[0].plot(np.sort(theta1T), np.sort(theta2T), 'o-', c='r', lw=2, label=\"Data\")\n",
    "axs[1].plot(np.sort(theta1R), np.sort(theta2R), 'o-', c='r', lw=2, label=\"Data\")\n",
    "\n",
    "nT, pcovT = curve_fit(snell, theta1T, theta2T, absolute_sigma=True)\n",
    "nR, pcovR = curve_fit(snell, theta1R, theta2R, absolute_sigma=True)\n",
    "\n",
    "theta_T = np.linspace(min(theta1T), max(theta1T))\n",
    "theta_R = np.linspace(min(theta1R), max(theta1R))\n",
    "\n",
    "axs[0].plot(theta_T, snell(theta_T, nT), c='k', ls=\"--\", label=\"Fit\", lw=2)\n",
    "axs[1].plot(theta_R, snell(theta_R, nR), c='k', ls=\"--\", label=\"Fit\", lw=2)\n",
    "\n",
    "for ax in axs:\n",
    "    ax.grid()\n",
    "    ax.set_xlabel(r\"$\\theta_1: $[radians]\")\n",
    "    ax.set_ylabel(r\"$\\theta_2: $[radians]\")\n",
    "    ax.legend()"
   ]
  },
  {
   "cell_type": "code",
   "execution_count": null,
   "id": "35ced96d",
   "metadata": {},
   "outputs": [],
   "source": [
    "print(nR, nT)"
   ]
  },
  {
   "cell_type": "code",
   "execution_count": null,
   "id": "63cedd95",
   "metadata": {},
   "outputs": [],
   "source": [
    "fig, axs = plt.subplots(1,2, figsize=(13,6))\n",
    "axs[1].set_title(\"Reflekteret lys\")\n",
    "axs[0].set_title(\"Transmitteret lys\")\n",
    "\n",
    "\n",
    "def Rkoef(theta_1, n_komb): #Gælder kun for S polariseret lys\n",
    "    theta_2 = np.arcsin(n_komb*np.sin(theta_1)) #Indsæt kombination af brydningsindekser, så det passer med f.eks. ns = n_a/n_g, eller omvendt\n",
    "    R_s = np.sin(theta_1 - theta_2)**2/(np.sin(theta_1 + theta_2)**2)\n",
    "    return R_s\n",
    "\n",
    "def Tkoef(theta_1, n_komb): #Gælder kun for S polariseret lys\n",
    "    theta_2 = np.arcsin(n_komb*np.sin(theta_1))\n",
    "    T_s = np.sin(2*theta_1)*np.sin(2*theta_2)/(np.sin(theta_1 + theta_2)**2)\n",
    "    return T_s\n",
    "\n",
    "Tl = [] #Fjerner vinkler og punkter, hvor T,R ikke ligger mellem intervallet [0,1]\n",
    "Rl = []\n",
    "theta_newT = []\n",
    "theta_newR = []\n",
    "\n",
    "for i, a in enumerate(Ts):\n",
    "    if a[0] > 0 and a[0] < 1: #Fjerner dem her\n",
    "        Tl.append(a[0])\n",
    "        theta_newT.append(theta1T[i])\n",
    "\n",
    "for i, a in enumerate(Rs):\n",
    "    if a[0] > 0 and a[0] < 1:\n",
    "        Rl.append(a[0])\n",
    "        theta_newR.append(theta1R[i])\n",
    "\n",
    "nTT, pcovnT = curve_fit(Tkoef, theta_newT, Tl, absolute_sigma=True, bounds=(0.2,0.8))\n",
    "nRR, pcovnR = curve_fit(Rkoef, theta_newR, Rl, absolute_sigma=True, bounds=(0.2,0.8))\n",
    "\n",
    "theta_T = np.linspace(min(theta_newT), max(theta_newT))\n",
    "theta_R = np.linspace(min(theta_newR), max(theta_newR))\n",
    "\n",
    "axs[0].plot(theta_newT, Tl, 'o', c='r', label=\"Data\")\n",
    "axs[1].plot(theta_newR, Rl, 'o', c='r', label=\"Data\")\n",
    "\n",
    "axs[0].plot(theta_T, Tkoef(theta_T, nTT), ls=\"--\", c=\"k\", lw=2, label=\"Fit af T\")\n",
    "axs[1].plot(theta_R, Rkoef(theta_R, nRR), ls=\"--\", c=\"k\", lw=2, label=\"Fit af R\")\n",
    "\n",
    "axs[0].plot(theta_T, Tkoef(theta_T, nT), ls=\"--\", c=\"g\", lw=2, label=\"Fit fra snell\")\n",
    "axs[1].plot(theta_R, Rkoef(theta_R, nT), ls=\"--\", c=\"g\", lw=2, label=\"Fit fra snell\")\n",
    "\n",
    "\n",
    "for ax in axs:\n",
    "    ax.grid()\n",
    "    ax.legend()\n",
    "    ax.set_xlabel(r\"$\\theta_1: $[radians]\")\n",
    "    ax.set_ylabel(r\"$\\theta_2: $[radians]\")"
   ]
  },
  {
   "cell_type": "code",
   "execution_count": null,
   "id": "737bea13",
   "metadata": {},
   "outputs": [],
   "source": [
    "print(nTT, nRR)"
   ]
  },
  {
   "cell_type": "code",
   "execution_count": 10,
   "id": "6ee23b2e",
   "metadata": {},
   "outputs": [
    {
     "name": "stdout",
     "output_type": "stream",
     "text": [
      "[1.49790607]\n"
     ]
    }
   ],
   "source": [
    "#Samlet gennemsnit af brydningsindekser:\n",
    "n4 = (nT + nRR)/2\n",
    "print(1/n4)\n"
   ]
  },
  {
   "cell_type": "code",
   "execution_count": null,
   "id": "9d6e8b72",
   "metadata": {},
   "outputs": [],
   "source": []
  },
  {
   "cell_type": "code",
   "execution_count": null,
   "id": "d7420db3",
   "metadata": {},
   "outputs": [],
   "source": []
  }
 ],
 "metadata": {
  "kernelspec": {
   "display_name": "Python 3",
   "language": "python",
   "name": "python3"
  },
  "language_info": {
   "codemirror_mode": {
    "name": "ipython",
    "version": 3
   },
   "file_extension": ".py",
   "mimetype": "text/x-python",
   "name": "python",
   "nbconvert_exporter": "python",
   "pygments_lexer": "ipython3",
   "version": "3.8.8"
  }
 },
 "nbformat": 4,
 "nbformat_minor": 5
}
