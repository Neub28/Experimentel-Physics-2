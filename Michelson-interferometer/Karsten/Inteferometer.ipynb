{
 "cells": [
  {
   "cell_type": "code",
   "execution_count": 2,
   "id": "35045406",
   "metadata": {},
   "outputs": [],
   "source": [
    "import os\n",
    "import numpy as np\n",
    "import matplotlib.pyplot as plt\n",
    "from scipy.optimize import curve_fit\n",
    "import scipy.stats as stats\n",
    "import scipy.io as io\n",
    "from scipy.signal import savgol_filter\n",
    "\n",
    "\n",
    "plt.rc(\"font\", family=[\"Helvetica\", \"Arial\"]) #skifter skrifttype\n",
    "plt.rc(\"axes\", labelsize=18)   #skriftstørrelse af `xlabel` og `ylabel`\n",
    "plt.rc(\"xtick\", labelsize=16, direction=\"out\")  #skriftstørrelse af ticks og viser ticks øverst\n",
    "plt.rc(\"ytick\", labelsize=16, direction=\"out\")\n",
    "plt.rc(\"axes\", titlesize=22)\n",
    "plt.rc(\"legend\", fontsize=16)"
   ]
  },
  {
   "cell_type": "code",
   "execution_count": 3,
   "id": "3dc78a41",
   "metadata": {},
   "outputs": [],
   "source": [
    "entries_list = os.listdir(\"/Users/Karsten/Eksperimental/Experimentel-Physics-2/Michelson-interferometer/Karsten/Datafiler\")\n",
    "\n",
    "\n",
    "def get_ts_Vs(entries):\n",
    "    ts = []\n",
    "    Vas = []\n",
    "    Vbs = []\n",
    "    for entry in entries:\n",
    "        data = io.loadmat(f\"/Users/Karsten/Eksperimental/Experimentel-Physics-2/Michelson-interferometer/Karsten/Datafiler/{entry}\")\n",
    "        Vb = np.transpose(data.get(\"B\"))[0]\n",
    "        print(Vb)\n",
    "        Va = np.transpose(data.get(\"A\"))[0]\n",
    "        t = np.linspace(0,100, len(Vb))\n",
    "        Vas.append(Va)\n",
    "        Vbs.append(Vb)\n",
    "        ts.append(t)\n",
    "    return ts, Vas, Vbs\n"
   ]
  },
  {
   "cell_type": "code",
   "execution_count": 4,
   "id": "62006dff",
   "metadata": {},
   "outputs": [
    {
     "name": "stdout",
     "output_type": "stream",
     "text": [
      "[7.140133  7.140133  7.140133  ... 2.2637794 2.2637794 2.2637794]\n"
     ]
    }
   ],
   "source": [
    "ts, Vas, Vbs = get_ts_Vs(entries_list)"
   ]
  },
  {
   "cell_type": "code",
   "execution_count": 27,
   "id": "311d4c1a",
   "metadata": {},
   "outputs": [
    {
     "name": "stdout",
     "output_type": "stream",
     "text": [
      "31498\n",
      "1673.9368438720703\n",
      "100584\n",
      "-1673.9368438720703\n",
      "102084\n",
      "1673.9379901152392\n",
      "100747\n",
      "-1673.9368438720703\n",
      "101975\n",
      "1673.9379901152392\n"
     ]
    }
   ],
   "source": [
    "forward_tracks_list = []\n",
    "forward_ts_list = []\n",
    "backward_tracks_list = []\n",
    "backward_ts_list = []\n",
    "one_fscan = []\n",
    "\n",
    "i_final = 0\n",
    "abe = 0\n",
    "nextrun = True\n",
    "i_prev = 0\n",
    "\n",
    "while(abe < 5):\n",
    "    dy_init = 0\n",
    "    forward_tracks = []\n",
    "    backward_tracks = []\n",
    "    forward_ts = []\n",
    "    backward_ts = []\n",
    "    i = 0\n",
    "    for t, Vd in zip(ts[0][i_prev::], Vbs[0][i_prev::]):\n",
    "        if i == 0:\n",
    "            curr_Vb = Vd\n",
    "        else:\n",
    "            if len(forward_tracks) == 0 and len(backward_tracks) == 0:\n",
    "                dy_init = (Vd - curr_Vb)/0.000104\n",
    "                if dy_init > 0:\n",
    "                    forward_tracks.append(Vd)\n",
    "                    forward_ts.append(t)\n",
    "                if dy_init < 0:\n",
    "                    backward_tracks.append(Vd)\n",
    "                    backward_ts.append(t)\n",
    "            \n",
    "            if dy_init > 0:\n",
    "                if (Vd - forward_tracks[-1])/0.000104 > 0:\n",
    "                    forward_tracks.append(Vd)\n",
    "                    forward_ts.append(t)\n",
    "                    i_final = i\n",
    "                \n",
    "            if dy_init < 0:\n",
    "                if (Vd - backward_tracks[-1])/0.000104 < 0:\n",
    "                    backward_tracks.append(Vd)\n",
    "                    backward_ts.append(t)\n",
    "                    i_final = i\n",
    "        i = i + 1\n",
    "    i_prev = i_prev + i_final\n",
    "    if dy_init > 0:\n",
    "        forward_tracks_list.append(forward_tracks)\n",
    "        forward_ts_list.append(forward_ts)\n",
    "    if dy_init < 0:\n",
    "        backward_tracks_list.append(backward_tracks)\n",
    "        backward_ts_list.append(backward_ts)\n",
    "    print(i_final)\n",
    "    print(dy_init)\n",
    "    \n",
    "    abe = abe + 1"
   ]
  },
  {
   "cell_type": "code",
   "execution_count": 28,
   "id": "361c1af4",
   "metadata": {},
   "outputs": [
    {
     "name": "stdout",
     "output_type": "stream",
     "text": [
      "[[9.926796, 9.752707, 9.578617, 9.404528, 9.230438, 9.056349, 8.881643, 8.707554, 8.533464, 8.359375, 8.185286, 8.011196, 7.837106, 7.663017, 7.4889274, 7.3142223, 7.140133, 6.9660435, 6.7919536, 6.617864, 6.4437747, 6.269685, 6.0955954, 5.920891, 5.7468014, 5.5727115, 5.398622, 5.2245326, 5.0504427, 4.8763533, 4.702264, 4.5281744, 4.3534694, 4.17938, 4.0052905, 3.8312008, 3.6571112, 3.4830217, 3.308932, 3.1348424, 2.9601378, 2.7860482, 2.6119587, 2.437869, 2.2637794, 2.08969, 1.9156004, 1.7415109, 1.5674212, 1.3927165, 1.218627, 1.0445374, 0.8704478, 0.69635826], [9.926796, 9.752707, 9.578617, 9.404528, 9.230438, 9.056349, 8.881643, 8.707554, 8.533464, 8.359375, 8.185286, 8.011196, 7.837106, 7.663017, 7.4889274, 7.3142223, 7.140133, 6.9660435, 6.7919536, 6.617864, 6.4437747, 6.269685, 6.0955954, 5.920891, 5.7468014, 5.5727115, 5.398622, 5.2245326, 5.0504427, 4.8763533, 4.702264, 4.5281744, 4.3534694, 4.17938, 4.0052905, 3.8312008, 3.6571112, 3.4830217, 3.308932, 3.1348424, 2.9601378, 2.7860482, 2.6119587, 2.437869, 2.2637794, 2.08969, 1.9156004, 1.7415109, 1.5674212, 1.3927165, 1.218627, 1.0445374, 0.8704478, 0.69635826]]\n",
      "[[7.3142223, 7.4889274, 7.663017, 7.837106, 8.011196, 8.185286, 8.359375, 8.533464, 8.707554, 8.881643, 9.056349, 9.230438, 9.404528, 9.578617, 9.752707, 9.926796, 10.100885], [0.8704478, 1.0445374, 1.218627, 1.3927165, 1.5674212, 1.7415109, 1.9156004, 2.08969, 2.2637794, 2.437869, 2.6119587, 2.7860482, 2.9601378, 3.1348424, 3.308932, 3.4830217, 3.6571112, 3.8312008, 4.0052905, 4.17938, 4.3534694, 4.5281744, 4.702264, 4.8763533, 5.0504427, 5.2245326, 5.398622, 5.5727115, 5.7468014, 5.920891, 6.0955954, 6.269685, 6.4437747, 6.617864, 6.7919536, 6.9660435, 7.140133, 7.3142223, 7.4889274, 7.663017, 7.837106, 8.011196, 8.185286, 8.359375, 8.533464, 8.707554, 8.881643, 9.056349, 9.230438, 9.404528, 9.578617, 9.752707, 9.926796, 10.100885], [0.8704478, 1.0445374, 1.218627, 1.3927165, 1.5674212, 1.7415109, 1.9156004, 2.08969, 2.2637794, 2.437869, 2.6119587, 2.7860482, 2.9601378, 3.1348424, 3.308932, 3.4830217, 3.6571112, 3.8312008, 4.0052905, 4.17938, 4.3534694, 4.5281744, 4.702264, 4.8763533, 5.0504427, 5.2245326, 5.398622, 5.5727115, 5.7468014, 5.920891, 6.0955954, 6.269685, 6.4437747, 6.617864, 6.7919536, 6.9660435, 7.140133, 7.3142223, 7.4889274, 7.663017, 7.837106, 8.011196, 8.185286, 8.359375, 8.533464, 8.707554, 8.881643, 9.056349, 9.230438, 9.404528, 9.578617, 9.752707, 9.926796, 10.100885]]\n"
     ]
    }
   ],
   "source": [
    "print(backward_tracks_list)\n",
    "print(forward_tracks_list)"
   ]
  },
  {
   "cell_type": "code",
   "execution_count": 29,
   "id": "1c8f68dd",
   "metadata": {},
   "outputs": [
    {
     "data": {
      "image/png": "[encoded data removed]",
      "text/plain": [
       "<Figure size 576x432 with 1 Axes>"
      ]
     },
     "metadata": {
      "needs_background": "light"
     },
     "output_type": "display_data"
    }
   ],
   "source": [
    "fig, ax = plt.subplots(figsize=(8,6))\n",
    "ax.set_title(\"plot\")\n",
    "ax.set_xlabel(\"t\")\n",
    "ax.set_ylabel(r\"$V_B$\")\n",
    "ax.plot(ts[0][0:34804], Vbs[0][0:34804])\n",
    "#ax.plot(tsMin, minVbs, 'o')\n",
    "#ax.plot(tsMax, maxVbs, 'o')#[0:8000]\n",
    "for tsw, forw in zip(forward_ts_list, forward_tracks_list):\n",
    "    ax.plot(tsw, forw, 'o')\n",
    "\n",
    "for tsb, backw in zip(backward_ts_list, backward_tracks_list):\n",
    "    ax.plot(tsb, backw, 'o')\n",
    "\n",
    "ax.grid()"
   ]
  },
  {
   "cell_type": "code",
   "execution_count": null,
   "id": "1f0363a7",
   "metadata": {},
   "outputs": [],
   "source": [
    "fig, ax = plt.subplots(figsize=(8,6))\n",
    "ax.set_title(\"plot\")\n",
    "ax.set_xlabel(\"t\")\n",
    "ax.set_ylabel(r\"$V_A$\")\n",
    "\n",
    "#ax.plot(tsMax, maxVbs, 'o')#[0:8000]\n",
    "ax.plot(forward_ts[1::], one_fscan[1::], 'o-')\n",
    "ax.grid()"
   ]
  },
  {
   "cell_type": "code",
   "execution_count": null,
   "id": "a77ab9e5",
   "metadata": {},
   "outputs": [],
   "source": [
    "f = np.fft.fft(one_fscan[1::])\n",
    "print(np.real(f))"
   ]
  },
  {
   "cell_type": "code",
   "execution_count": null,
   "id": "1033636a",
   "metadata": {},
   "outputs": [],
   "source": [
    "fig, ax = plt.subplots(figsize=(8,6))\n",
    "ax.set_title(\"plot\")\n",
    "ax.set_xlabel(\"t\")\n",
    "ax.set_ylabel(r\"$V_A$\")\n",
    "\n",
    "#ax.plot(tsMax, maxVbs, 'o')#[0:8000]\n",
    "ax.plot(forward_ts[1::], np.real(f), 'o-')\n",
    "ax.grid()"
   ]
  },
  {
   "cell_type": "code",
   "execution_count": null,
   "id": "1e71f27c",
   "metadata": {},
   "outputs": [],
   "source": []
  },
  {
   "cell_type": "code",
   "execution_count": null,
   "id": "e4bc469b",
   "metadata": {},
   "outputs": [],
   "source": []
  },
  {
   "cell_type": "code",
   "execution_count": null,
   "id": "02aa02e7",
   "metadata": {},
   "outputs": [],
   "source": []
  }
 ],
 "metadata": {
  "kernelspec": {
   "display_name": "Python 3",
   "language": "python",
   "name": "python3"
  },
  "language_info": {
   "codemirror_mode": {
    "name": "ipython",
    "version": 3
   },
   "file_extension": ".py",
   "mimetype": "text/x-python",
   "name": "python",
   "nbconvert_exporter": "python",
   "pygments_lexer": "ipython3",
   "version": "3.8.8"
  }
 },
 "nbformat": 4,
 "nbformat_minor": 5
}
