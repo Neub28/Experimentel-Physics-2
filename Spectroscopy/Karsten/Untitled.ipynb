{
 "cells": [
  {
   "cell_type": "code",
   "execution_count": 1,
   "id": "f766189a",
   "metadata": {},
   "outputs": [],
   "source": [
    "from sympy import *"
   ]
  },
  {
   "cell_type": "code",
   "execution_count": 4,
   "id": "797b1e26",
   "metadata": {},
   "outputs": [],
   "source": [
    "h,c,wl,kB,T = symbols(\"h,c,lambda,k_B,T\")\n",
    "eq1 = (2*h*c**2)/(wl**5)*1\n",
    "\n",
    "eq2 = 1/(exp(h*c/(wl*kB*T))-1)"
   ]
  },
  {
   "cell_type": "code",
   "execution_count": 5,
   "id": "7f8320f4",
   "metadata": {},
   "outputs": [
    {
     "data": {
      "text/latex": [
       "$\\displaystyle \\frac{2 c^{2} h}{\\lambda^{5}}$"
      ],
      "text/plain": [
       "2*c**2*h/lambda**5"
      ]
     },
     "metadata": {},
     "output_type": "display_data"
    }
   ],
   "source": [
    "display(eq1)"
   ]
  },
  {
   "cell_type": "code",
   "execution_count": 6,
   "id": "e8ead481",
   "metadata": {},
   "outputs": [
    {
     "data": {
      "text/latex": [
       "$\\displaystyle \\frac{1}{e^{\\frac{c h}{T k_{B} \\lambda}} - 1}$"
      ],
      "text/plain": [
       "1/(exp(c*h/(T*k_B*lambda)) - 1)"
      ]
     },
     "metadata": {},
     "output_type": "display_data"
    }
   ],
   "source": [
    "display(eq2)"
   ]
  },
  {
   "cell_type": "code",
   "execution_count": 7,
   "id": "c50eb89f",
   "metadata": {},
   "outputs": [
    {
     "data": {
      "text/latex": [
       "$\\displaystyle \\frac{2 c^{2} h}{\\lambda^{5} \\left(e^{\\frac{c h}{T k_{B} \\lambda}} - 1\\right)}$"
      ],
      "text/plain": [
       "2*c**2*h/(lambda**5*(exp(c*h/(T*k_B*lambda)) - 1))"
      ]
     },
     "metadata": {},
     "output_type": "display_data"
    }
   ],
   "source": [
    "display(eq1*eq2)"
   ]
  },
  {
   "cell_type": "code",
   "execution_count": null,
   "id": "ae0feb8b",
   "metadata": {},
   "outputs": [],
   "source": []
  }
 ],
 "metadata": {
  "kernelspec": {
   "display_name": "Python 3 (ipykernel)",
   "language": "python",
   "name": "python3"
  },
  "language_info": {
   "codemirror_mode": {
    "name": "ipython",
    "version": 3
   },
   "file_extension": ".py",
   "mimetype": "text/x-python",
   "name": "python",
   "nbconvert_exporter": "python",
   "pygments_lexer": "ipython3",
   "version": "3.10.9"
  }
 },
 "nbformat": 4,
 "nbformat_minor": 5
}
