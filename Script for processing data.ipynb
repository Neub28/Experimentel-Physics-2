{
 "cells": [
  {
   "cell_type": "code",
   "execution_count": 1,
   "id": "b1c983bc",
   "metadata": {},
   "outputs": [],
   "source": [
    "import matplotlib.pyplot as plt\n",
    "import numpy as np\n",
    "import scipy.optimize as sc\n",
    "\n",
    "plt.rc(\"axes\", labelsize=18)\n",
    "plt.rc(\"xtick\", labelsize=16, top=True, direction=\"in\")\n",
    "plt.rc(\"ytick\", labelsize=16, right=True, direction=\"in\")\n",
    "plt.rc(\"axes\", titlesize=22)\n",
    "plt.rc(\"legend\", fontsize=16, loc=\"upper left\")\n",
    "plt.rc(\"figure\", figsize=(7, 5))\n"
   ]
  },
  {
   "cell_type": "code",
   "execution_count": 2,
   "id": "f2ba149d",
   "metadata": {},
   "outputs": [],
   "source": [
    "## Fresnels laws as functions\n",
    "\n",
    "def rp(n1, n2, t1, t2) :\n",
    "    if(isinstance(t1, list) == True) :\n",
    "        rp_list = list()\n",
    "        for i in range(len(t1)) :\n",
    "            rp = (n2*np.cos(t1[i])-n1*np.cos(t2[i]))/(n2*np.cos(t1[i])+n1*np.cos(t2[i]))\n",
    "            rp_list.append(rp)\n",
    "        return rp_list\n",
    "    \n",
    "    else :\n",
    "        return (n2*np.cos(t1)-n1*np.cos(t2))/(n2*np.cos(t1)+n1*np.cos(t2))\n",
    "\n",
    "def tp(n1, n2, t1, t2) :\n",
    "    if(isinstance(t1, list) == True) :\n",
    "        tp_list = list()\n",
    "        for i in range(len(t1)) :\n",
    "            tp = (2*n1*np.cos(t1[i]))/(n2*np.cos(t1[i])+n1*np.cos(t2[i]))\n",
    "            tp_list.append(tp)\n",
    "        return tp_list\n",
    "    \n",
    "    else :\n",
    "        return (2*n1*np.cos(t1))/(n2*np.cos(t1)+n1*np.cos(t2))\n",
    "\n",
    "def rs(n1, n2, t1, t2) :\n",
    "    if(isinstance(t1, list) == True) :\n",
    "        rs_list = list()\n",
    "        for i in range(len(t1)) :\n",
    "            rs = (n1*np.cos(t1[i])-n2*np.cos(t2[i]))/(n1*np.cos(t1[i])+n2*np.cos(t2[i]))\n",
    "            rs_list.append(rs)\n",
    "        return rs_list\n",
    "    \n",
    "    else :\n",
    "        return (n1*np.cos(t1)-n2*np.cos(t2))/(n1*np.cos(t1)+n2*np.cos(t2))\n",
    "    \n",
    "def ts(n1, n2, t1, t2) :\n",
    "    if(isinstance(t1, list) == True) :\n",
    "        ts_list = list()\n",
    "        for i in range(len(t1)) :\n",
    "            ts = (2*n1*np.cos(t1[i]))/(n1*np.cos(t1[i])+n2*np.cos(t2[i]))\n",
    "            ts_list.append(ts)\n",
    "        return ts_list\n",
    "    \n",
    "    else :\n",
    "        return (2*n1*np.cos(t1))/(n1*np.cos(t1)+n2*np.cos(t2))\n",
    "\n",
    "def Rp(t1, t2) :\n",
    "    if(isinstance(t1, list) == True) :\n",
    "        Rp_list = list()\n",
    "        for i in range(len(t1)) :\n",
    "            Rp = (np.tan(t1[i]-t2[i])**2)/(np.tan(t1[i]+t2[i])**2)\n",
    "            Rp_list.append(Rp)\n",
    "        return Rp_list\n",
    "    \n",
    "    else : \n",
    "        return (np.tan(t1-t2)**2)/(np.tan(t1+t2)**2)\n",
    "\n",
    "def Tp(t1, t2) :\n",
    "    if(isinstance(t1, list) == True) : \n",
    "        Tp_list = list()\n",
    "        for i in range(len(t1)) :\n",
    "            Tp = (np.sin(2*t1[i])*np.sin(2*t2[i]))/(np.sin(t1[i]+t2[i])**2*np.cos(t1[i]-t2[i])**2)\n",
    "            Tp_list.append(Tp)\n",
    "        return Tp_list\n",
    "    \n",
    "    else : \n",
    "        return (np.sin(2*t1)*np.sin(2*t2))/(np.sin(t1+t2)**2*np.cos(t1-t2)**2)\n",
    "\n",
    "def Rs(t1, t2) :\n",
    "    if(isinstance(t1, list) == True) : \n",
    "        Rs_list = list()\n",
    "        for i in range(len(t1)) : \n",
    "            Rs = (np.sin(t1[i]-t2[i])**2)/(np.sin(t1[i]+t2[i])**2)\n",
    "            Rs_list.append(Rs)\n",
    "        return Rs_list\n",
    "    \n",
    "    else : \n",
    "        return (np.sin(t1-t2)**2)/(np.sin(t1+t2)**2)\n",
    "\n",
    "def Ts(t1, t2) :\n",
    "    if(isinstance(t1, list) == True) : \n",
    "        Ts_list = list()\n",
    "        for i in range(len(t1)) :\n",
    "            Ts = (np.sin(2*t1[i])*np.sin(2*t2[i]))/(np.sin(t1[i]+t2[i])**2)\n",
    "            Ts_list.append(Ts)\n",
    "        return Ts_list\n",
    "    \n",
    "    else :\n",
    "        return (np.sin(2*t1)*np.sin(2*t2))/(np.sin(t1+t2)**2)\n"
   ]
  },
  {
   "cell_type": "code",
   "execution_count": 3,
   "id": "cd7c4f2a",
   "metadata": {},
   "outputs": [],
   "source": [
    "## Conversion of degrees to radians\n",
    "\n",
    "def dgr(degrees) : \n",
    "    return np.radians(degrees)\n",
    "\n",
    "def rdn(radians) :\n",
    "    return np.degrees(radians)\n"
   ]
  },
  {
   "cell_type": "code",
   "execution_count": null,
   "id": "8467145b",
   "metadata": {},
   "outputs": [],
   "source": []
  },
  {
   "cell_type": "code",
   "execution_count": 4,
   "id": "a1c43a43",
   "metadata": {},
   "outputs": [
    {
     "ename": "NameError",
     "evalue": "name 't1_r' is not defined",
     "output_type": "error",
     "traceback": [
      "\u001b[1;31m---------------------------------------------------------------------------\u001b[0m",
      "\u001b[1;31mNameError\u001b[0m                                 Traceback (most recent call last)",
      "\u001b[1;32m<ipython-input-4-18dbaa2d8674>\u001b[0m in \u001b[0;36m<module>\u001b[1;34m\u001b[0m\n\u001b[0;32m     14\u001b[0m         \u001b[1;32mreturn\u001b[0m \u001b[0mnp\u001b[0m\u001b[1;33m.\u001b[0m\u001b[0marcsin\u001b[0m\u001b[1;33m(\u001b[0m\u001b[0mnp\u001b[0m\u001b[1;33m.\u001b[0m\u001b[0msin\u001b[0m\u001b[1;33m(\u001b[0m\u001b[0mthet1\u001b[0m\u001b[1;33m)\u001b[0m\u001b[1;33m/\u001b[0m\u001b[0mn\u001b[0m\u001b[1;33m)\u001b[0m\u001b[1;33m\u001b[0m\u001b[1;33m\u001b[0m\u001b[0m\n\u001b[0;32m     15\u001b[0m \u001b[1;33m\u001b[0m\u001b[0m\n\u001b[1;32m---> 16\u001b[1;33m \u001b[0mprint\u001b[0m\u001b[1;33m(\u001b[0m\u001b[0mthet2\u001b[0m\u001b[1;33m(\u001b[0m\u001b[0mt1_r\u001b[0m\u001b[1;33m[\u001b[0m\u001b[1;36m0\u001b[0m\u001b[1;33m]\u001b[0m\u001b[1;33m,\u001b[0m \u001b[0mtrue_n\u001b[0m\u001b[1;33m)\u001b[0m\u001b[1;33m)\u001b[0m\u001b[1;33m\u001b[0m\u001b[1;33m\u001b[0m\u001b[0m\n\u001b[0m\u001b[0;32m     17\u001b[0m \u001b[0mprint\u001b[0m\u001b[1;33m(\u001b[0m\u001b[0mthet2\u001b[0m\u001b[1;33m(\u001b[0m\u001b[0mt1_r\u001b[0m\u001b[1;33m,\u001b[0m \u001b[0mtrue_n\u001b[0m\u001b[1;33m)\u001b[0m\u001b[1;33m)\u001b[0m\u001b[1;33m\u001b[0m\u001b[1;33m\u001b[0m\u001b[0m\n",
      "\u001b[1;31mNameError\u001b[0m: name 't1_r' is not defined"
     ]
    }
   ],
   "source": [
    "## Parameterization of theta_2\n",
    "\n",
    "def thet2(thet1, n) : \n",
    "    # Used for list inputs\n",
    "    if(isinstance(thet1, list) == True) :\n",
    "        t2_list = list()\n",
    "        for i in range(len(thet1)) :\n",
    "            t2 = np.arcsin((n1*np.sin(thet1[i]))/n)\n",
    "            t2_list.append(t2)\n",
    "        return t2_list\n",
    "    \n",
    "    # Input is expected to be a single number.\n",
    "    else :\n",
    "        return np.arcsin(np.sin(thet1)/n)\n",
    "    \n",
    "print(thet2(t1_r[0], true_n))\n",
    "print(thet2(t1_r, true_n))"
   ]
  },
  {
   "cell_type": "code",
   "execution_count": 5,
   "id": "5dda7ba9",
   "metadata": {},
   "outputs": [],
   "source": [
    "## Calculation of background noise\n"
   ]
  },
  {
   "cell_type": "code",
   "execution_count": 8,
   "id": "7199e6db",
   "metadata": {},
   "outputs": [
    {
     "name": "stdout",
     "output_type": "stream",
     "text": [
      "Succesfull: Transmitted\n",
      "Succesfull: Reflected\n",
      "Total elapsed time: 45.4 s\n"
     ]
    }
   ],
   "source": [
    "import os\n",
    "import time\n",
    "\n",
    "start_time = time.time()\n",
    "\n",
    "# Paths\n",
    "path = r\"C:\\Users\\Karsten\\Eksperimental\\Experimentel-Physics-2\\Day2-P\"\n",
    "t_folder = r\"\\Transmitted\"\n",
    "r_folder = r\"\\Reflected\"\n",
    "\n",
    "# List of files\n",
    "\n",
    "t_list = os.listdir(path+t_folder)\n",
    "r_list = os.listdir(path+r_folder)\n",
    "\n",
    "# Transmitted\n",
    "\n",
    "v_tmean = []\n",
    "th_1t = []\n",
    "th_2t = []\n",
    "\n",
    "# Reflected\n",
    "\n",
    "v_rmean = []\n",
    "th_1r = []\n",
    "th_2r = []\n",
    "\n",
    "# For loop for transmitted\n",
    "\n",
    "for i in range(len(t_list)) :\n",
    "    filepath = os.path.join(path+t_folder, t_list[i])\n",
    "    data = np.genfromtxt(filepath, skip_header=3)\n",
    "    \n",
    "    v_list = []\n",
    "    t1_s = \"\"\n",
    "    t2_s = \"\"\n",
    "    \n",
    "    for k in range(len(data)) :\n",
    "        v_list.append(data[k][1])\n",
    "    v_tmean.append(np.mean(v_list))\n",
    "    \n",
    "    string = t_list[i][2:-5]\n",
    "    first = True\n",
    "    for k in range(len(string)) :\n",
    "        if(first == False) : \n",
    "            if(string[k] == \".\") : \n",
    "                t2_s = t2_s + \".\"\n",
    "            if(string[k] != \".\") : \n",
    "                t2_s = t2_s + string[k]\n",
    "            \n",
    "        if(first == True) :\n",
    "            if(string[k] == \",\") : \n",
    "                first = False\n",
    "            if(string[k] == \".\") :\n",
    "                t1_s = t1_s + \".\"\n",
    "            if((string[k] != \".\") and (string[k] != \",\")) : \n",
    "                t1_s = t1_s + string[k]\n",
    "    \n",
    "    th_1t.append(float(t1_s))\n",
    "    th_2t.append(float(t2_s))    \n",
    "\n",
    "if((len(th_1t) == len(t_list)) and (len(th_2t) == len(t_list))) : print('Succesfull: Transmitted')\n",
    "\n",
    "# For loop over reflected\n",
    "\n",
    "for i in range(len(r_list)) :\n",
    "    filepath = os.path.join(path+r_folder, r_list[i])\n",
    "    data = np.genfromtxt(filepath, skip_header=3)\n",
    "    \n",
    "    v_list = []\n",
    "    t1_s = \"\"\n",
    "    t2_s = \"\"\n",
    "    \n",
    "    for k in range(len(data)) :\n",
    "        v_list.append(data[k][1])\n",
    "    v_rmean.append(np.mean(v_list))\n",
    "    \n",
    "    string = t_list[i][2:-5]\n",
    "    first = True\n",
    "    for k in range(len(string)) :\n",
    "        if(first == False) : \n",
    "            if(string[k] == \".\") : \n",
    "                t2_s = t2_s + \".\"\n",
    "            if(string[k] != \".\") : \n",
    "                t2_s = t2_s + string[k]\n",
    "            \n",
    "        if(first == True) :\n",
    "            if(string[k] == \",\") : \n",
    "                first = False\n",
    "            if(string[k] == \".\") :\n",
    "                t1_s = t1_s + \".\"\n",
    "            if((string[k] != \".\") and (string[k] != \",\")) : \n",
    "                t1_s = t1_s + string[k]\n",
    "    \n",
    "    th_1r.append(float(t1_s))\n",
    "    th_2r.append(float(t2_s))    \n",
    "\n",
    "if((len(th_1r) == len(r_list)) and (len(th_2r) == len(r_list))) : print('Succesfull: Reflected')\n",
    "    \n",
    "# Time result\n",
    "\n",
    "end_time = time.time()\n",
    "\n",
    "print('Total elapsed time:', np.round(end_time-start_time,2), 's')\n"
   ]
  },
  {
   "cell_type": "code",
   "execution_count": 9,
   "id": "6a046d70",
   "metadata": {},
   "outputs": [],
   "source": [
    "for i in range(len(th_1r)) :\n",
    "    if(th_1r[i] != th_1t[i]) : print('Problem')\n",
    "    if(th_2r[i] != th_2t[i]) : print('Problem')\n",
    "        "
   ]
  },
  {
   "cell_type": "code",
   "execution_count": 10,
   "id": "6c183276",
   "metadata": {},
   "outputs": [
    {
     "name": "stdout",
     "output_type": "stream",
     "text": [
      "[10.0, 15.0, 20.0, 25.0, 30.0, 35.0, 40.0, 45.0, 5.0, 50.0, 55.0, 60.0, 65.0, 70.0] 14\n",
      "[3.0, 4.5, 6.0, 8.5, 10.0, 12.0, 14.0, 16.5, 1.5, 19.0, 21.5, 24.0, 28.5, 31.0] 14\n",
      "[10.0, 15.0, 20.0, 25.0, 30.0, 35.0, 40.0, 45.0, 5.0, 50.0, 55.0, 60.0, 65.0, 70.0, 75.0, 80.0, 85.0, 88.0] 18\n",
      "[3.0, 4.5, 6.0, 8.5, 10.0, 12.0, 14.0, 16.5, 1.5, 19.0, 21.5, 24.0, 28.5, 31.0, 35.0, 39.5, 45.0, 46.0] 18\n"
     ]
    }
   ],
   "source": [
    "print(th_1r, len(th_1r))\n",
    "print(th_2r, len(th_2r))\n",
    "print(th_1t, len(th_1t))\n",
    "print(th_2t, len(th_2t))"
   ]
  },
  {
   "cell_type": "code",
   "execution_count": 11,
   "id": "8c76906e",
   "metadata": {
    "scrolled": true
   },
   "outputs": [
    {
     "data": {
      "image/png": "[encoded data removed]",
      "text/plain": [
       "<Figure size 504x360 with 1 Axes>"
      ]
     },
     "metadata": {
      "needs_background": "light"
     },
     "output_type": "display_data"
    }
   ],
   "source": [
    "## Calculation of the refractive index for P-POLARISED LIGHT\n",
    "\n",
    "n1 = 1                             # Refracetive index of first material (air)\n",
    "\n",
    "incidens = []\n",
    "reflected = []\n",
    "\n",
    "if(len(th_1r) > len(th_1t)) : \n",
    "    for i in range(len(th_1t)) :\n",
    "        incidens.append(th_1t[i]) # fejl\n",
    "        reflected.append(th_2t[i]) #fejl\n",
    "if(len(th_1r) <= len(th_1t)) :\n",
    "    for i in range(len(th_1r)) : \n",
    "        incidens.append(th_1t[i])\n",
    "        reflected.append(th_2r[i])\n",
    "\n",
    "reflected_true = []\n",
    "for i in range(len(reflected)) :\n",
    "    reflected_true.append(incidens[i]-reflected[i])\n",
    "\n",
    "theta_1 = incidens     # Angle of incidence\n",
    "theta_2 = reflected_true    # Angle of refraction\n",
    "\n",
    "t1_r = dgr(theta_1)\n",
    "t2_r = dgr(theta_2)\n",
    "\n",
    "def n_12(theta1, theta2) : \n",
    "    if(len(theta1) != len(theta2)) :\n",
    "        return print('Lists are not the same length')\n",
    "    \n",
    "    n_list = list()\n",
    "    for i in range(len(theta1)) :\n",
    "        n = (n1*np.sin(theta1[i]))/np.sin(theta2[i])\n",
    "        n_list.append(n)\n",
    "    return n_list\n",
    "\n",
    "n_list = np.array(n_12(t1_r, t2_r))\n",
    "true_n = np.mean(n_list)\n",
    "\n",
    "plt.plot(range(len(n_list)), n_list, 'o--', label='Values of n', color='r')\n",
    "plt.axhline(true_n, ls='--', color='black', label='Average: {}'.format(np.round(true_n, 2)))\n",
    "plt.xlabel('Experiment nr.')\n",
    "plt.ylabel(\"Refractive index, n\")\n",
    "plt.legend(loc = 'upper left', fontsize=13)\n",
    "plt.grid()\n"
   ]
  },
  {
   "cell_type": "code",
   "execution_count": 12,
   "id": "1157b955",
   "metadata": {},
   "outputs": [
    {
     "data": {
      "text/plain": [
       "[<matplotlib.lines.Line2D at 0x2dc988e81f0>]"
      ]
     },
     "execution_count": 12,
     "metadata": {},
     "output_type": "execute_result"
    },
    {
     "data": {
      "image/png": "[encoded data removed]",
      "text/plain": [
       "<Figure size 504x360 with 1 Axes>"
      ]
     },
     "metadata": {
      "needs_background": "light"
     },
     "output_type": "display_data"
    }
   ],
   "source": [
    "i90 = 1.636 # V\n",
    "\n",
    "# Reflected\n",
    "\n",
    "v_r = np.array(v_rmean)/i90\n",
    "\n",
    "plt.plot(t1_r, v_r, 'o')\n",
    "\n",
    "# Transmitted\n",
    "\n",
    "v_t = np.array(v_tmean)/i90\n",
    "\n",
    "plt.plot(dgr(th_1t), v_t, 'o')"
   ]
  },
  {
   "cell_type": "code",
   "execution_count": 13,
   "id": "4baadc17",
   "metadata": {},
   "outputs": [
    {
     "name": "stdout",
     "output_type": "stream",
     "text": [
      "1.4653092385870263\n"
     ]
    }
   ],
   "source": [
    "print(true_n)"
   ]
  },
  {
   "cell_type": "code",
   "execution_count": null,
   "id": "d0a651c1",
   "metadata": {},
   "outputs": [],
   "source": []
  }
 ],
 "metadata": {
  "kernelspec": {
   "display_name": "Python 3",
   "language": "python",
   "name": "python3"
  },
  "language_info": {
   "codemirror_mode": {
    "name": "ipython",
    "version": 3
   },
   "file_extension": ".py",
   "mimetype": "text/x-python",
   "name": "python",
   "nbconvert_exporter": "python",
   "pygments_lexer": "ipython3",
   "version": "3.8.8"
  }
 },
 "nbformat": 4,
 "nbformat_minor": 5
}
